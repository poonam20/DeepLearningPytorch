{
 "cells": [
  {
   "cell_type": "markdown",
   "metadata": {
    "heading_collapsed": true
   },
   "source": [
    "### Import libraries"
   ]
  },
  {
   "cell_type": "code",
   "execution_count": 29,
   "metadata": {
    "collapsed": true,
    "hidden": true
   },
   "outputs": [],
   "source": [
    "%reload_ext autoreload\n",
    "%autoreload 2\n",
    "%matplotlib inline"
   ]
  },
  {
   "cell_type": "code",
   "execution_count": 30,
   "metadata": {
    "collapsed": true,
    "hidden": true
   },
   "outputs": [],
   "source": [
    "from fastai.imports import *\n",
    "from fastai.models import *\n",
    "from fastai.dataset import *\n",
    "from fastai.sgdr import *\n",
    "from fastai.transforms import *\n",
    "from fastai.conv_learner import *\n",
    "from fastai.plots import *"
   ]
  },
  {
   "cell_type": "code",
   "execution_count": 31,
   "metadata": {
    "collapsed": true,
    "hidden": true
   },
   "outputs": [],
   "source": [
    "PATH ='/home/vishnu/Documents/DeepLearningProjects/data/dogbreeds/'"
   ]
  },
  {
   "cell_type": "code",
   "execution_count": 32,
   "metadata": {
    "hidden": true
   },
   "outputs": [
    {
     "name": "stdout",
     "output_type": "stream",
     "text": [
      "labels.csv  \u001b[0m\u001b[01;34msub\u001b[0m/  \u001b[01;34mtest\u001b[0m/  \u001b[01;34mtmp\u001b[0m/  \u001b[01;34mtrain\u001b[0m/\r\n"
     ]
    }
   ],
   "source": [
    "ls /home/vishnu/Documents/DeepLearningProjects/data/dogbreeds//"
   ]
  },
  {
   "cell_type": "markdown",
   "metadata": {
    "heading_collapsed": true
   },
   "source": [
    "### Explore data"
   ]
  },
  {
   "cell_type": "code",
   "execution_count": 33,
   "metadata": {
    "hidden": true
   },
   "outputs": [
    {
     "data": {
      "text/html": [
       "<div>\n",
       "<style scoped>\n",
       "    .dataframe tbody tr th:only-of-type {\n",
       "        vertical-align: middle;\n",
       "    }\n",
       "\n",
       "    .dataframe tbody tr th {\n",
       "        vertical-align: top;\n",
       "    }\n",
       "\n",
       "    .dataframe thead th {\n",
       "        text-align: right;\n",
       "    }\n",
       "</style>\n",
       "<table border=\"1\" class=\"dataframe\">\n",
       "  <thead>\n",
       "    <tr style=\"text-align: right;\">\n",
       "      <th></th>\n",
       "      <th>id</th>\n",
       "      <th>breed</th>\n",
       "    </tr>\n",
       "  </thead>\n",
       "  <tbody>\n",
       "    <tr>\n",
       "      <th>0</th>\n",
       "      <td>000bec180eb18c7604dcecc8fe0dba07</td>\n",
       "      <td>boston_bull</td>\n",
       "    </tr>\n",
       "    <tr>\n",
       "      <th>1</th>\n",
       "      <td>001513dfcb2ffafc82cccf4d8bbaba97</td>\n",
       "      <td>dingo</td>\n",
       "    </tr>\n",
       "    <tr>\n",
       "      <th>2</th>\n",
       "      <td>001cdf01b096e06d78e9e5112d419397</td>\n",
       "      <td>pekinese</td>\n",
       "    </tr>\n",
       "    <tr>\n",
       "      <th>3</th>\n",
       "      <td>00214f311d5d2247d5dfe4fe24b2303d</td>\n",
       "      <td>bluetick</td>\n",
       "    </tr>\n",
       "    <tr>\n",
       "      <th>4</th>\n",
       "      <td>0021f9ceb3235effd7fcde7f7538ed62</td>\n",
       "      <td>golden_retriever</td>\n",
       "    </tr>\n",
       "  </tbody>\n",
       "</table>\n",
       "</div>"
      ],
      "text/plain": [
       "                                 id             breed\n",
       "0  000bec180eb18c7604dcecc8fe0dba07       boston_bull\n",
       "1  001513dfcb2ffafc82cccf4d8bbaba97             dingo\n",
       "2  001cdf01b096e06d78e9e5112d419397          pekinese\n",
       "3  00214f311d5d2247d5dfe4fe24b2303d          bluetick\n",
       "4  0021f9ceb3235effd7fcde7f7538ed62  golden_retriever"
      ]
     },
     "execution_count": 33,
     "metadata": {},
     "output_type": "execute_result"
    }
   ],
   "source": [
    "labelDF=pd.read_csv(PATH+\"labels.csv\")\n",
    "labelDF.head()"
   ]
  },
  {
   "cell_type": "code",
   "execution_count": 34,
   "metadata": {
    "hidden": true
   },
   "outputs": [
    {
     "data": {
      "text/html": [
       "<div>\n",
       "<style scoped>\n",
       "    .dataframe tbody tr th:only-of-type {\n",
       "        vertical-align: middle;\n",
       "    }\n",
       "\n",
       "    .dataframe tbody tr th {\n",
       "        vertical-align: top;\n",
       "    }\n",
       "\n",
       "    .dataframe thead th {\n",
       "        text-align: right;\n",
       "    }\n",
       "</style>\n",
       "<table border=\"1\" class=\"dataframe\">\n",
       "  <thead>\n",
       "    <tr style=\"text-align: right;\">\n",
       "      <th></th>\n",
       "      <th>id</th>\n",
       "    </tr>\n",
       "    <tr>\n",
       "      <th>breed</th>\n",
       "      <th></th>\n",
       "    </tr>\n",
       "  </thead>\n",
       "  <tbody>\n",
       "    <tr>\n",
       "      <th>scottish_deerhound</th>\n",
       "      <td>126</td>\n",
       "    </tr>\n",
       "    <tr>\n",
       "      <th>maltese_dog</th>\n",
       "      <td>117</td>\n",
       "    </tr>\n",
       "    <tr>\n",
       "      <th>afghan_hound</th>\n",
       "      <td>116</td>\n",
       "    </tr>\n",
       "    <tr>\n",
       "      <th>entlebucher</th>\n",
       "      <td>115</td>\n",
       "    </tr>\n",
       "    <tr>\n",
       "      <th>bernese_mountain_dog</th>\n",
       "      <td>114</td>\n",
       "    </tr>\n",
       "    <tr>\n",
       "      <th>shih-tzu</th>\n",
       "      <td>112</td>\n",
       "    </tr>\n",
       "    <tr>\n",
       "      <th>great_pyrenees</th>\n",
       "      <td>111</td>\n",
       "    </tr>\n",
       "    <tr>\n",
       "      <th>pomeranian</th>\n",
       "      <td>111</td>\n",
       "    </tr>\n",
       "    <tr>\n",
       "      <th>basenji</th>\n",
       "      <td>110</td>\n",
       "    </tr>\n",
       "    <tr>\n",
       "      <th>samoyed</th>\n",
       "      <td>109</td>\n",
       "    </tr>\n",
       "    <tr>\n",
       "      <th>airedale</th>\n",
       "      <td>107</td>\n",
       "    </tr>\n",
       "    <tr>\n",
       "      <th>tibetan_terrier</th>\n",
       "      <td>107</td>\n",
       "    </tr>\n",
       "    <tr>\n",
       "      <th>leonberg</th>\n",
       "      <td>106</td>\n",
       "    </tr>\n",
       "    <tr>\n",
       "      <th>cairn</th>\n",
       "      <td>106</td>\n",
       "    </tr>\n",
       "    <tr>\n",
       "      <th>beagle</th>\n",
       "      <td>105</td>\n",
       "    </tr>\n",
       "    <tr>\n",
       "      <th>japanese_spaniel</th>\n",
       "      <td>105</td>\n",
       "    </tr>\n",
       "    <tr>\n",
       "      <th>australian_terrier</th>\n",
       "      <td>102</td>\n",
       "    </tr>\n",
       "    <tr>\n",
       "      <th>blenheim_spaniel</th>\n",
       "      <td>102</td>\n",
       "    </tr>\n",
       "    <tr>\n",
       "      <th>miniature_pinscher</th>\n",
       "      <td>102</td>\n",
       "    </tr>\n",
       "    <tr>\n",
       "      <th>irish_wolfhound</th>\n",
       "      <td>101</td>\n",
       "    </tr>\n",
       "    <tr>\n",
       "      <th>lakeland_terrier</th>\n",
       "      <td>99</td>\n",
       "    </tr>\n",
       "    <tr>\n",
       "      <th>saluki</th>\n",
       "      <td>99</td>\n",
       "    </tr>\n",
       "    <tr>\n",
       "      <th>papillon</th>\n",
       "      <td>96</td>\n",
       "    </tr>\n",
       "    <tr>\n",
       "      <th>whippet</th>\n",
       "      <td>95</td>\n",
       "    </tr>\n",
       "    <tr>\n",
       "      <th>siberian_husky</th>\n",
       "      <td>95</td>\n",
       "    </tr>\n",
       "    <tr>\n",
       "      <th>norwegian_elkhound</th>\n",
       "      <td>95</td>\n",
       "    </tr>\n",
       "    <tr>\n",
       "      <th>pug</th>\n",
       "      <td>94</td>\n",
       "    </tr>\n",
       "    <tr>\n",
       "      <th>chow</th>\n",
       "      <td>93</td>\n",
       "    </tr>\n",
       "    <tr>\n",
       "      <th>italian_greyhound</th>\n",
       "      <td>92</td>\n",
       "    </tr>\n",
       "    <tr>\n",
       "      <th>pembroke</th>\n",
       "      <td>92</td>\n",
       "    </tr>\n",
       "    <tr>\n",
       "      <th>...</th>\n",
       "      <td>...</td>\n",
       "    </tr>\n",
       "    <tr>\n",
       "      <th>german_short-haired_pointer</th>\n",
       "      <td>75</td>\n",
       "    </tr>\n",
       "    <tr>\n",
       "      <th>boxer</th>\n",
       "      <td>75</td>\n",
       "    </tr>\n",
       "    <tr>\n",
       "      <th>bull_mastiff</th>\n",
       "      <td>75</td>\n",
       "    </tr>\n",
       "    <tr>\n",
       "      <th>borzoi</th>\n",
       "      <td>75</td>\n",
       "    </tr>\n",
       "    <tr>\n",
       "      <th>pekinese</th>\n",
       "      <td>75</td>\n",
       "    </tr>\n",
       "    <tr>\n",
       "      <th>cocker_spaniel</th>\n",
       "      <td>74</td>\n",
       "    </tr>\n",
       "    <tr>\n",
       "      <th>american_staffordshire_terrier</th>\n",
       "      <td>74</td>\n",
       "    </tr>\n",
       "    <tr>\n",
       "      <th>doberman</th>\n",
       "      <td>74</td>\n",
       "    </tr>\n",
       "    <tr>\n",
       "      <th>brittany_spaniel</th>\n",
       "      <td>73</td>\n",
       "    </tr>\n",
       "    <tr>\n",
       "      <th>malinois</th>\n",
       "      <td>73</td>\n",
       "    </tr>\n",
       "    <tr>\n",
       "      <th>standard_schnauzer</th>\n",
       "      <td>72</td>\n",
       "    </tr>\n",
       "    <tr>\n",
       "      <th>flat-coated_retriever</th>\n",
       "      <td>72</td>\n",
       "    </tr>\n",
       "    <tr>\n",
       "      <th>redbone</th>\n",
       "      <td>72</td>\n",
       "    </tr>\n",
       "    <tr>\n",
       "      <th>border_collie</th>\n",
       "      <td>72</td>\n",
       "    </tr>\n",
       "    <tr>\n",
       "      <th>curly-coated_retriever</th>\n",
       "      <td>72</td>\n",
       "    </tr>\n",
       "    <tr>\n",
       "      <th>kuvasz</th>\n",
       "      <td>71</td>\n",
       "    </tr>\n",
       "    <tr>\n",
       "      <th>chihuahua</th>\n",
       "      <td>71</td>\n",
       "    </tr>\n",
       "    <tr>\n",
       "      <th>soft-coated_wheaten_terrier</th>\n",
       "      <td>71</td>\n",
       "    </tr>\n",
       "    <tr>\n",
       "      <th>french_bulldog</th>\n",
       "      <td>70</td>\n",
       "    </tr>\n",
       "    <tr>\n",
       "      <th>vizsla</th>\n",
       "      <td>70</td>\n",
       "    </tr>\n",
       "    <tr>\n",
       "      <th>tibetan_mastiff</th>\n",
       "      <td>69</td>\n",
       "    </tr>\n",
       "    <tr>\n",
       "      <th>german_shepherd</th>\n",
       "      <td>69</td>\n",
       "    </tr>\n",
       "    <tr>\n",
       "      <th>giant_schnauzer</th>\n",
       "      <td>69</td>\n",
       "    </tr>\n",
       "    <tr>\n",
       "      <th>walker_hound</th>\n",
       "      <td>69</td>\n",
       "    </tr>\n",
       "    <tr>\n",
       "      <th>otterhound</th>\n",
       "      <td>69</td>\n",
       "    </tr>\n",
       "    <tr>\n",
       "      <th>golden_retriever</th>\n",
       "      <td>67</td>\n",
       "    </tr>\n",
       "    <tr>\n",
       "      <th>brabancon_griffon</th>\n",
       "      <td>67</td>\n",
       "    </tr>\n",
       "    <tr>\n",
       "      <th>komondor</th>\n",
       "      <td>67</td>\n",
       "    </tr>\n",
       "    <tr>\n",
       "      <th>briard</th>\n",
       "      <td>66</td>\n",
       "    </tr>\n",
       "    <tr>\n",
       "      <th>eskimo_dog</th>\n",
       "      <td>66</td>\n",
       "    </tr>\n",
       "  </tbody>\n",
       "</table>\n",
       "<p>120 rows × 1 columns</p>\n",
       "</div>"
      ],
      "text/plain": [
       "                                 id\n",
       "breed                              \n",
       "scottish_deerhound              126\n",
       "maltese_dog                     117\n",
       "afghan_hound                    116\n",
       "entlebucher                     115\n",
       "bernese_mountain_dog            114\n",
       "shih-tzu                        112\n",
       "great_pyrenees                  111\n",
       "pomeranian                      111\n",
       "basenji                         110\n",
       "samoyed                         109\n",
       "airedale                        107\n",
       "tibetan_terrier                 107\n",
       "leonberg                        106\n",
       "cairn                           106\n",
       "beagle                          105\n",
       "japanese_spaniel                105\n",
       "australian_terrier              102\n",
       "blenheim_spaniel                102\n",
       "miniature_pinscher              102\n",
       "irish_wolfhound                 101\n",
       "lakeland_terrier                 99\n",
       "saluki                           99\n",
       "papillon                         96\n",
       "whippet                          95\n",
       "siberian_husky                   95\n",
       "norwegian_elkhound               95\n",
       "pug                              94\n",
       "chow                             93\n",
       "italian_greyhound                92\n",
       "pembroke                         92\n",
       "...                             ...\n",
       "german_short-haired_pointer      75\n",
       "boxer                            75\n",
       "bull_mastiff                     75\n",
       "borzoi                           75\n",
       "pekinese                         75\n",
       "cocker_spaniel                   74\n",
       "american_staffordshire_terrier   74\n",
       "doberman                         74\n",
       "brittany_spaniel                 73\n",
       "malinois                         73\n",
       "standard_schnauzer               72\n",
       "flat-coated_retriever            72\n",
       "redbone                          72\n",
       "border_collie                    72\n",
       "curly-coated_retriever           72\n",
       "kuvasz                           71\n",
       "chihuahua                        71\n",
       "soft-coated_wheaten_terrier      71\n",
       "french_bulldog                   70\n",
       "vizsla                           70\n",
       "tibetan_mastiff                  69\n",
       "german_shepherd                  69\n",
       "giant_schnauzer                  69\n",
       "walker_hound                     69\n",
       "otterhound                       69\n",
       "golden_retriever                 67\n",
       "brabancon_griffon                67\n",
       "komondor                         67\n",
       "briard                           66\n",
       "eskimo_dog                       66\n",
       "\n",
       "[120 rows x 1 columns]"
      ]
     },
     "execution_count": 34,
     "metadata": {},
     "output_type": "execute_result"
    }
   ],
   "source": [
    "labelDF.pivot_table(index='breed',aggfunc=len).sort_values('id',ascending=False)"
   ]
  },
  {
   "cell_type": "markdown",
   "metadata": {
    "heading_collapsed": true
   },
   "source": [
    "### Set image and batch size and architecture"
   ]
  },
  {
   "cell_type": "code",
   "execution_count": 35,
   "metadata": {
    "collapsed": true,
    "hidden": true
   },
   "outputs": [],
   "source": [
    "image_size=224\n",
    "batch_size=16\n",
    "arch=resnext101_64"
   ]
  },
  {
   "cell_type": "markdown",
   "metadata": {
    "heading_collapsed": true
   },
   "source": [
    "### Transformation & Load the data  \n",
    "side should be on no upside down since cat or dog can never be seen upside down.\n",
    "load data into dataset call data loader\n",
    "check for the image size if size is above 300 return original image else resize it to 340 and rename it to tmp."
   ]
  },
  {
   "cell_type": "code",
   "execution_count": 36,
   "metadata": {
    "collapsed": true,
    "hidden": true
   },
   "outputs": [],
   "source": [
    "tfms = tfms_from_model(arch, image_size, aug_tfms=transforms_side_on, max_zoom=1.1)\n",
    "data = ImageClassifierData.from_csv(PATH, folder='train', csv_fname=f'{PATH}/labels.csv',suffix='.jpg',\n",
    "                                        test_name='test', tfms=tfms, bs=batch_size, num_workers=4)"
   ]
  },
  {
   "cell_type": "markdown",
   "metadata": {
    "heading_collapsed": true
   },
   "source": [
    "### Some more exploration of image sizes.\n",
    "Using ; you can write multiple python statements in 1 line"
   ]
  },
  {
   "cell_type": "code",
   "execution_count": 37,
   "metadata": {
    "hidden": true
   },
   "outputs": [
    {
     "data": {
      "text/plain": [
       "'/home/vishnu/Documents/DeepLearningProjects/data/dogbreeds/train/00290d3e1fdd27226ba27a8ce248ce85.jpg'"
      ]
     },
     "execution_count": 37,
     "metadata": {},
     "output_type": "execute_result"
    }
   ],
   "source": [
    "fn=PATH+data.trn_ds.fnames[4];fn"
   ]
  },
  {
   "cell_type": "code",
   "execution_count": 38,
   "metadata": {
    "hidden": true
   },
   "outputs": [
    {
     "data": {
      "image/png": "[encoded data removed]",
      "text/plain": [
       "<PIL.JpegImagePlugin.JpegImageFile image mode=RGB size=500x470 at 0x7F26E058D588>"
      ]
     },
     "execution_count": 38,
     "metadata": {},
     "output_type": "execute_result"
    }
   ],
   "source": [
    "img=PIL.Image.open(fn); img"
   ]
  },
  {
   "cell_type": "code",
   "execution_count": 39,
   "metadata": {
    "hidden": true
   },
   "outputs": [
    {
     "data": {
      "text/plain": [
       "(500, 470)"
      ]
     },
     "execution_count": 39,
     "metadata": {},
     "output_type": "execute_result"
    }
   ],
   "source": [
    "img.size"
   ]
  },
  {
   "cell_type": "code",
   "execution_count": 40,
   "metadata": {
    "hidden": true
   },
   "outputs": [
    {
     "data": {
      "text/plain": [
       "{'train/001513dfcb2ffafc82cccf4d8bbaba97.jpg': (500, 375),\n",
       " 'train/001cdf01b096e06d78e9e5112d419397.jpg': (500, 375),\n",
       " 'train/0021f9ceb3235effd7fcde7f7538ed62.jpg': (500, 500),\n",
       " 'train/002211c81b498ef88e1b40b9abf84e1d.jpg': (500, 375),\n",
       " 'train/00290d3e1fdd27226ba27a8ce248ce85.jpg': (500, 470),\n",
       " 'train/002a283a315af96eaea0e28e7163b21b.jpg': (231, 227),\n",
       " 'train/0042188c895a2f14ef64a918ed9c7b64.jpg': (500, 332),\n",
       " 'train/0067dc3eab0b3c3ef0439477624d85d6.jpg': (402, 343),\n",
       " 'train/006cc3ddb9dc1bd827479569fcdc52dc.jpg': (250, 223),\n",
       " 'train/00792e341f3c6eb33663e415d0715370.jpg': (200, 192),\n",
       " 'train/007b5a16db9d9ff9d7ad39982703e429.jpg': (374, 212),\n",
       " 'train/007b8a07882822475a4ce6581e70b1f8.jpg': (333, 500),\n",
       " 'train/007ff9a78eba2aebb558afea3a51c469.jpg': (500, 375),\n",
       " 'train/008ba178d6dfc1a583617470d19c1673.jpg': (390, 320),\n",
       " 'train/009509be3ca7cce0ff9e37c8b09b1125.jpg': (400, 346),\n",
       " 'train/00a338a92e4e7bf543340dc849230e75.jpg': (200, 280),\n",
       " 'train/00a366d4b4a9bbb6c8a63126697b7656.jpg': (500, 375),\n",
       " 'train/00a862390341c5be090dd72bd2bc19ef.jpg': (375, 500),\n",
       " 'train/00b7d114bc5166a629a3cc03d9329120.jpg': (500, 333),\n",
       " 'train/00ba244566e36e0af3d979320fd3017f.jpg': (300, 257),\n",
       " 'train/00ca18751837cd6a22813f8e221f7819.jpg': (450, 338),\n",
       " 'train/00ddcec076073cc96f82c27bf4548fbc.jpg': (500, 375),\n",
       " 'train/00f34ac0a16ef43e6fd1de49a26081ce.jpg': (594, 407),\n",
       " 'train/010d65bd29d246aea53d9849da142ccf.jpg': (375, 500),\n",
       " 'train/011761e3ae8ec5e188e8f0bcb59bb8b6.jpg': (400, 293),\n",
       " 'train/011bd7fd7c036dbb243d0e37329c77b7.jpg': (500, 375),\n",
       " 'train/011e06760794850c40f23d6426c40774.jpg': (350, 257),\n",
       " 'train/0120343862761d052d6a7ade81625c94.jpg': (401, 500),\n",
       " 'train/01268f0007876a692907bda89468184c.jpg': (500, 333),\n",
       " 'train/012ff2d21dad14452ea16b4cda7eef4c.jpg': (500, 375),\n",
       " 'train/013aed490e0e15a8989e12ae0d0ccfaa.jpg': (500, 500),\n",
       " 'train/013f8fdf6d638c7bb042f5f17e8a9fdc.jpg': (500, 375),\n",
       " 'train/0140b05bfc2fd43f2819fab3d8566109.jpg': (500, 333),\n",
       " 'train/0159b6457aac89f43d1c1931cdf7500b.jpg': (500, 375),\n",
       " 'train/015b363b062f602e7ec04ce28e640d05.jpg': (288, 288),\n",
       " 'train/015b4aa50dd9b4a0d26dc0c38f41b489.jpg': (500, 375),\n",
       " 'train/015d86b2fcb36f0fdfbe94a66c0e3400.jpg': (350, 332),\n",
       " 'train/0161847d5bfae154af084993fa26a1a7.jpg': (500, 375),\n",
       " 'train/0162107acd8f2588c0944b791d61bb0c.jpg': (300, 208),\n",
       " 'train/0162b3e0144fb1d1ab82fbff3ace9938.jpg': (360, 315),\n",
       " 'train/016bcdb05e2d0e0878877df21b8c3cff.jpg': (337, 500),\n",
       " 'train/0177a92a906192bfde8adbb8a237e524.jpg': (200, 280),\n",
       " 'train/018aae5768833c34e3df30d63429251e.jpg': (500, 500),\n",
       " 'train/019c92d1ff56deb9d75d809a92bc84d8.jpg': (500, 358),\n",
       " 'train/019ff93e03802e661577b5869e099dcb.jpg': (405, 500),\n",
       " 'train/01a3b064c56edbe3abf55051b16134d4.jpg': (500, 375),\n",
       " 'train/01a41985ab8209e750588fa348d635be.jpg': (500, 333),\n",
       " 'train/01b09bdac592b0eb9909dd105314ad3a.jpg': (500, 329),\n",
       " 'train/01b35a06b00e4a832b935cf8d51303c1.jpg': (500, 375),\n",
       " 'train/01b36cb1b80ab8c3a7d2b7128ad21bdc.jpg': (500, 375),\n",
       " 'train/01b6c2bd3053535a58d8de763cf06aa0.jpg': (500, 333),\n",
       " 'train/01b849a7e4fbc545f6b2806cb87ab371.jpg': (500, 375),\n",
       " 'train/01c230ec18eed427cf5b1db1a833024d.jpg': (500, 333),\n",
       " 'train/01d0f3692e576b3cde511285352aed4a.jpg': (500, 375),\n",
       " 'train/01de1f7b7b4465a6d130a56746af66a6.jpg': (334, 500),\n",
       " 'train/01e2245b46eb747260ff80f1c892daef.jpg': (500, 375),\n",
       " 'train/01e4d3d1cb704ed819bce35d22e716a7.jpg': (500, 500),\n",
       " 'train/01e787576c003930f96c966f9c3e1d44.jpg': (450, 443),\n",
       " 'train/01f397f16fb2d7d76fdbce4e2207c1a3.jpg': (360, 337),\n",
       " 'train/01f429667104c0c5a5f321700f15435c.jpg': (500, 294),\n",
       " 'train/01f8540fb1084107a6eb3e528f82c1aa.jpg': (500, 350),\n",
       " 'train/0206c12e8984e3c8a166cc272de25d6f.jpg': (500, 375),\n",
       " 'train/0207803a6ce1bfad98e7f095c965e44a.jpg': (500, 375),\n",
       " 'train/020ecfccf3c900b01ce831abbf20b485.jpg': (500, 334),\n",
       " 'train/0214e2d616ec7eb7cb0d8c19a7f29e70.jpg': (500, 390),\n",
       " 'train/0229677aec75183a16de9d6f6658fae2.jpg': (500, 375),\n",
       " 'train/022b34fd8734b39995a9f38a4f3e7b6b.jpg': (500, 375),\n",
       " 'train/0234695e7a548e2ad1b2ac91d6486c1c.jpg': (500, 375),\n",
       " 'train/024ecfa590271db8616bfaa59159d7b2.jpg': (500, 375),\n",
       " 'train/02508e76981e1ba059d785704b4c480c.jpg': (500, 360),\n",
       " 'train/0255a5bca3b9d91d4fdba8d7419b5e69.jpg': (500, 375),\n",
       " 'train/025bab46ddcde249d5c52c660fea6d26.jpg': (500, 378),\n",
       " 'train/025d903b457b865fd29424916e42fbc2.jpg': (500, 500),\n",
       " 'train/0267c5f1acbab52ae4a7927e0398612b.jpg': (363, 500),\n",
       " 'train/02777bdfcf9f1a593af768e6616df4b3.jpg': (500, 375),\n",
       " 'train/0287b3374c33346e2b41f73af3a36261.jpg': (333, 500),\n",
       " 'train/029ed6af5dcadfd105db9271e12ede14.jpg': (500, 333),\n",
       " 'train/02a3edc1d6aae095185131fe185478e0.jpg': (500, 375),\n",
       " 'train/02a8ed20109bd62bd5894f276c08c8a2.jpg': (591, 394),\n",
       " 'train/02ad779f2721db9364d3bb68f5580582.jpg': (500, 338),\n",
       " 'train/02b1c50fb7315423a664f3ce68c94e30.jpg': (500, 389),\n",
       " 'train/02c48781eff39a66ae6dd8626e35809e.jpg': (196, 336),\n",
       " 'train/02c90d8109d9a48739b9887349d92b1f.jpg': (320, 240),\n",
       " 'train/02cc0d7c8b7b513b4325bda30dce222d.jpg': (650, 478),\n",
       " 'train/02d45a238621c3f2cbde5c1d173ead1e.jpg': (400, 306),\n",
       " 'train/02d54f0dfb40038765e838459ae8c956.jpg': (375, 500),\n",
       " 'train/02dfcd0a24a9c41070f4f94b4c9933ff.jpg': (500, 375),\n",
       " 'train/02e7b5a86cec57f5935374946d4f5dc1.jpg': (500, 375),\n",
       " 'train/02eef0f899b81ddf27a42641bc8db9ee.jpg': (223, 236),\n",
       " 'train/02ef5f19db8cf4da62016a1067bdc548.jpg': (500, 382),\n",
       " 'train/02f07e7e51662336a9d8c775a4eac5f4.jpg': (349, 500),\n",
       " 'train/02f3d5fd1eea0a2e6f4742bc54b51ba9.jpg': (296, 360),\n",
       " 'train/02f6152a9401568d695234d33bb6c37d.jpg': (500, 375),\n",
       " 'train/02ff77af410e966b7b661f6f0789d947.jpg': (500, 375),\n",
       " 'train/0310a425f26d797634aadeb66bd63ef1.jpg': (604, 453),\n",
       " 'train/0311a6a51a414ba91f3ad8055170baa1.jpg': (500, 375),\n",
       " 'train/0314048edbd08c8c50eb3c93281bd043.jpg': (500, 375),\n",
       " 'train/0325e6ba5b6afd3e0dd94c3a77b6de59.jpg': (500, 375),\n",
       " 'train/032620ae0f847d957d94d1fd76cb17e8.jpg': (230, 261),\n",
       " 'train/0326344e0d5181130c28d25edd5627e4.jpg': (800, 490),\n",
       " 'train/032c14b2df4193004913b01ab48f87c6.jpg': (500, 333),\n",
       " 'train/0341e3d7a4624d6a7b061fdc25b69044.jpg': (500, 381),\n",
       " 'train/0345638400c47bbd920474672562077e.jpg': (500, 375),\n",
       " 'train/03564fbb4aba93dd80e5c7cd76f28d28.jpg': (500, 375),\n",
       " 'train/035b459eb52acba2ae75bed041b368fe.jpg': (500, 375),\n",
       " 'train/035f28d8ad34afaf7c8d276d6674bf8f.jpg': (500, 330),\n",
       " 'train/035fe39454c2ddb2f6a37146cacf0ac0.jpg': (500, 333),\n",
       " 'train/0360d42966d191a5db4c4bb2e8c66229.jpg': (500, 375),\n",
       " 'train/0374e657c8b3b55579751adcaa7c8023.jpg': (500, 375),\n",
       " 'train/0379145880ad3978f9b80f0dc2c03fba.jpg': (500, 375),\n",
       " 'train/037ac6cbd9c96d70e68917aa059b6aab.jpg': (375, 500),\n",
       " 'train/039bdddd8546f0fafdf984b810d1138b.jpg': (355, 320),\n",
       " 'train/03ae71ff9e4c5ac97afdfa956ea5e191.jpg': (500, 382),\n",
       " 'train/03b0e7ace52c10dc4878f60307cdebe3.jpg': (357, 500),\n",
       " 'train/03b7320cf8054e57b499e01d1cde0644.jpg': (500, 398),\n",
       " 'train/03b9ab173e5862580909fee10f0ea46d.jpg': (333, 480),\n",
       " 'train/03bc1c631e57ba87c85b98efd0912c00.jpg': (184, 184),\n",
       " 'train/03bda5c85206a273eb978c7b9483df5f.jpg': (384, 500),\n",
       " 'train/03c1557464297ffffc8da977c4db7e68.jpg': (500, 333),\n",
       " 'train/03ca2c79345f4c27232ed5b0dc2821c2.jpg': (200, 156),\n",
       " 'train/03cae0a6700c5cc4900e576034361e7a.jpg': (322, 500),\n",
       " 'train/03da788cc7e5c111575daf04e7e3910c.jpg': (500, 375),\n",
       " 'train/03dc61595ad9dbf49e3998cf586ca8cb.jpg': (350, 262),\n",
       " 'train/03dd99e068f1f2283011cc305f5aaa9f.jpg': (333, 500),\n",
       " 'train/03ddfa6f292b49e14ed6be5c58246701.jpg': (500, 332),\n",
       " 'train/03dfefdb2939388f7ca9578cb7c4a2b9.jpg': (500, 400),\n",
       " 'train/03e1d2ee5fd90aef036c90a9e7f81177.jpg': (500, 333),\n",
       " 'train/03eb844e1d5aa5addaab20298b1b70c3.jpg': (375, 500),\n",
       " 'train/03edf850d74d43b2587991ecb673fb33.jpg': (350, 344),\n",
       " 'train/03f2301867ca4d744773c4c06aa61d3c.jpg': (325, 299),\n",
       " 'train/03f5b638b8f1c83d3097786e40992ff9.jpg': (375, 500),\n",
       " 'train/03f6435dc8a5e760d19e67831c6034fb.jpg': (375, 500),\n",
       " 'train/040fef64640b89c53f161b6c5215b78b.jpg': (150, 160),\n",
       " 'train/041a54577da744348d4da8094e882cd9.jpg': (500, 375),\n",
       " 'train/041b3b8a40b587a486276ac15edd9eaf.jpg': (500, 389),\n",
       " 'train/041d0d6a8d110b35a3795dd5c68f9a36.jpg': (357, 500),\n",
       " 'train/04254919cc15c6867cccfd738a926999.jpg': (200, 200),\n",
       " 'train/0428e1ae313156ec06dc42096cf1372c.jpg': (413, 500),\n",
       " 'train/042e83e82315bada78f2681d030b0d28.jpg': (616, 554),\n",
       " 'train/042ecd9a978c2ee48d17f7f781621ac9.jpg': (500, 347),\n",
       " 'train/0434ddceef3eea9c757c8e9557a2d698.jpg': (450, 405),\n",
       " 'train/0440acb104d7346ccc9bba0716603f6a.jpg': (244, 180),\n",
       " 'train/0440e760e55c4d6bed536fbc0273801a.jpg': (500, 375),\n",
       " 'train/044644ffbec4b6d402eb824532478811.jpg': (500, 333),\n",
       " 'train/044d904b00ce11cec6e493226c39a4e2.jpg': (270, 300),\n",
       " 'train/044f7e60953230fa45e4367073d96693.jpg': (500, 375),\n",
       " 'train/0450c3899b7ca7cac31406a52c7bc74e.jpg': (500, 333),\n",
       " 'train/0457342c36e7e7d103fa4b286a1d62f8.jpg': (250, 338),\n",
       " 'train/045d421a681a7da04ff668992a8b4c3e.jpg': (219, 360),\n",
       " 'train/045ea2f41120606e2c5ae1315cebfb46.jpg': (350, 349),\n",
       " 'train/046b28d8ac6f7beb3f63159ecaf4cbb6.jpg': (500, 436),\n",
       " 'train/046d8f04a5a42872774110c6a2db1224.jpg': (480, 361),\n",
       " 'train/047d9a7dc7205c76e5487d6fc5f4a666.jpg': (369, 315),\n",
       " 'train/0484a6cc686a07e1edacd0fb44b1d965.jpg': (300, 232),\n",
       " 'train/0486732311e9d60e8712f1dc33c4ebe0.jpg': (494, 500),\n",
       " 'train/0490b67cb414d527d6c21052b1e3b5dd.jpg': (266, 163),\n",
       " 'train/0496d4170e295688e8d6929b239dd4fb.jpg': (500, 333),\n",
       " 'train/049a406bfac63012d757167c084ced1b.jpg': (500, 375),\n",
       " 'train/04a191172e090876d3f180fc318038f0.jpg': (375, 500),\n",
       " 'train/04a3f5dc6d985601f354ab4434645d83.jpg': (500, 374),\n",
       " 'train/04b5834c3a969c6308ce157c547bb313.jpg': (350, 343),\n",
       " 'train/04be608c9c005d9aa0224fe08554e4be.jpg': (333, 500),\n",
       " 'train/04c3bdfec0c7f082c7e697c26be9e020.jpg': (375, 500),\n",
       " 'train/04cce0cd53c6f01d242a49e43de513a1.jpg': (800, 604),\n",
       " 'train/04d2dc1f2804c748b1aa71954bb45d38.jpg': (500, 333),\n",
       " 'train/04d3a777baa532f7558a860393c4537f.jpg': (500, 400),\n",
       " 'train/04d4918090b0c2a7b965ff58f13b2ecf.jpg': (500, 375),\n",
       " 'train/04d50b0dce8b8ee9544d9602df85f722.jpg': (400, 374),\n",
       " 'train/04d5d382a8a02d68859850dc282d3ac4.jpg': (500, 375),\n",
       " 'train/04e3bb77c15c18fc1ac101d86d612f46.jpg': (500, 375),\n",
       " 'train/04ea8788cfa17d01c87ea4cdaa0a330d.jpg': (324, 500),\n",
       " 'train/04f59d1b6887cf10e6fd897514623cf3.jpg': (500, 375),\n",
       " 'train/04fab70baaf7cd53f8bf78225dbf5409.jpg': (250, 243),\n",
       " 'train/04fb4d719e9fe2b6ffe32d9ae7be8a22.jpg': (500, 375),\n",
       " 'train/050073020e80e4935b53df8d786c8612.jpg': (200, 140),\n",
       " 'train/05134ea3341a1f4f460168e68ec5765d.jpg': (500, 374),\n",
       " 'train/0518691772e78ac6805bf006993665a4.jpg': (281, 500),\n",
       " 'train/052675b01ae0a4b62e090923d131f4ff.jpg': (219, 293),\n",
       " 'train/053106ed091eac5e129225315ef6cfcb.jpg': (500, 426),\n",
       " 'train/0543510e763cbf8fc771a097ffda9984.jpg': (500, 375),\n",
       " 'train/054f069e01a809b23a9da31dd8f4841e.jpg': (500, 375),\n",
       " 'train/055429c6fb404af27ac52a08216e6cda.jpg': (500, 375),\n",
       " 'train/055cfac66e5d67756ab05d02baeeb04c.jpg': (375, 500),\n",
       " 'train/0566a60d7504a6fad4161d0ef2765a34.jpg': (333, 500),\n",
       " 'train/0569f1d79637070f70ca4a62ec510792.jpg': (367, 420),\n",
       " 'train/056c314f2a7d119447af259a07eb31df.jpg': (500, 333),\n",
       " 'train/05719b998e57a11b863a322ecc7652a5.jpg': (375, 500),\n",
       " 'train/0581b47e4c3890fb74a5485aa4d008f0.jpg': (500, 331),\n",
       " 'train/058d4bfce39c9f1157ca4c1b019bbf1a.jpg': (333, 500),\n",
       " 'train/058ea5b467d08ed978658dc1ad85fb7d.jpg': (480, 360),\n",
       " 'train/0593e37870ee77b0d34508e118bf6670.jpg': (332, 500),\n",
       " 'train/059513b85ae976a6f591f71bbaae49bf.jpg': (331, 500),\n",
       " 'train/059a86d50634c78d5a18f918cb0b3f0d.jpg': (500, 439),\n",
       " 'train/05a05cf4c8d6a4f3f780a9112a11999b.jpg': (500, 375),\n",
       " 'train/05a5e6f6b575688dc304ae72635db7b6.jpg': (398, 500),\n",
       " 'train/05b5e17b96409ca6db51edaf28bd3bdc.jpg': (500, 333),\n",
       " 'train/05bac66dfae763fb86ab6360bd3c6f5f.jpg': (377, 350),\n",
       " 'train/05c128c8e3ef0c2739f181f9c5677f56.jpg': (288, 342),\n",
       " 'train/05cab78114abb08afcda78ee70222edd.jpg': (500, 375),\n",
       " 'train/05e3dfffd0b0dca56e6b1d4686e1a6c2.jpg': (500, 333),\n",
       " 'train/05e93a5604440b065143c81be16cd395.jpg': (480, 272),\n",
       " 'train/05f59d40acf74affda3c8940ba192f42.jpg': (400, 262),\n",
       " 'train/05fbe54802ffb6d6256abb93381f5cf4.jpg': (500, 358),\n",
       " 'train/060112a1a77217039de21f7d0963929d.jpg': (500, 375),\n",
       " 'train/060b163b5ad74c889c47b9f421825cdb.jpg': (720, 480),\n",
       " 'train/061a378e68e8734682ea9c04a572e2ab.jpg': (500, 357),\n",
       " 'train/061e9891cd5e77345e3cff761c12db4d.jpg': (200, 331),\n",
       " 'train/062131c6c38a1e485091c8c3329d9638.jpg': (375, 500),\n",
       " 'train/06412667e714332186d0cf86375e98fb.jpg': (500, 375),\n",
       " 'train/064dff92e5654a8679f8971a027a4040.jpg': (160, 146),\n",
       " 'train/06538c8ad646eb2ebbbbdda1c8174899.jpg': (397, 500),\n",
       " 'train/0653d31ae648e2a6628ee3f440729361.jpg': (500, 375),\n",
       " 'train/065452ccfffdc6b6f60183bd6c88ba89.jpg': (375, 500),\n",
       " 'train/06557d54077c5265ecdcd7273c9c38ca.jpg': (500, 375),\n",
       " 'train/0672592809da7574a87ddcd0ba2f315d.jpg': (500, 375),\n",
       " 'train/0672befac9ea0c8fe82c37b5a634d87c.jpg': (375, 500),\n",
       " 'train/0685bcc6cdaa954771379d95d339baf6.jpg': (500, 375),\n",
       " 'train/06ab2182c2a958a5f0de2035f39a0fa7.jpg': (500, 375),\n",
       " 'train/06ba5a21442ba19190bfe7bfa9def11c.jpg': (357, 500),\n",
       " 'train/06bd6a364e68b886c085b9b8b8d2b818.jpg': (250, 197),\n",
       " 'train/06c47d61293f2bb51a94040bb4b20799.jpg': (500, 332),\n",
       " 'train/06c4dbc5b0ea3674bbc752c4ce76819a.jpg': (170, 200),\n",
       " 'train/06cceae049531cdb98fe67d912aa58a8.jpg': (500, 375),\n",
       " 'train/06cd8e3fbfe72c34461814239e1deab8.jpg': (500, 333),\n",
       " 'train/06ce71ab05143b1fe45ba8eeba2e97e4.jpg': (500, 375),\n",
       " 'train/06d2d84b936225e6c853a0453cb9c878.jpg': (500, 375),\n",
       " 'train/06d80d6a7aba8bc48606a285bbad0697.jpg': (190, 175),\n",
       " 'train/06faa041b335551e3ccf3c239d006425.jpg': (375, 500),\n",
       " 'train/06fe22a92fa8dc8f90e7a0f118acad6f.jpg': (500, 333),\n",
       " 'train/0700d58c82bafe9c4edc81f902178e76.jpg': (500, 375),\n",
       " 'train/0718d39d59d9e3b134446440d69b2058.jpg': (500, 375),\n",
       " 'train/0724948de3506f43cda65804efe79b9b.jpg': (375, 500),\n",
       " 'train/072aa9d6100187288ef00316c8bcdd66.jpg': (500, 330),\n",
       " 'train/0734a945cc1ab35a9d2348db42075a99.jpg': (479, 500),\n",
       " 'train/073b9a44c4761fa0792943b61b9c812c.jpg': (500, 375),\n",
       " 'train/073bb2f975ee39406e692e33364762a3.jpg': (400, 300),\n",
       " 'train/073f0821a0842917e6e97ab322bd63f2.jpg': (500, 500),\n",
       " 'train/0743bfe9525b7a6310a297b11b7e154a.jpg': (345, 500),\n",
       " 'train/075a28044780636f48d8571f1d32f73d.jpg': (267, 500),\n",
       " 'train/0769e276e8b9b992a3fcd6a10deee6a7.jpg': (500, 333),\n",
       " 'train/076d31a2f676671e4427cc485b9d2918.jpg': (283, 191),\n",
       " 'train/0773acd6874a703b966367d4d27cac71.jpg': (500, 375),\n",
       " 'train/07751d1687e0233ff638889d8b365709.jpg': (500, 329),\n",
       " 'train/0779e164a5bed1119e36e622107c6a77.jpg': (463, 500),\n",
       " 'train/079a7ad36b46704c28d88c4aa183c28e.jpg': (300, 250),\n",
       " 'train/079e17a742380d333950962f2c83ffd2.jpg': (357, 500),\n",
       " 'train/079f6255a19fdbaa75fb2a902bca894c.jpg': (500, 375),\n",
       " 'train/07a4fcb31d0c6259f5ec21a1f193bc39.jpg': (500, 375),\n",
       " 'train/07b5288a0bb8b9cf1a42d281a9451e51.jpg': (310, 404),\n",
       " 'train/07bbf36ce2c7407751219804b3d187ec.jpg': (500, 434),\n",
       " 'train/07d1dd1576b5e95f448c1213b6812c40.jpg': (500, 333),\n",
       " 'train/07d7cfbdbd3682cae50902b53c798028.jpg': (500, 375),\n",
       " 'train/07ddc3c2188164b1e72ae6615a24419a.jpg': (333, 500),\n",
       " 'train/07e103146c1f4513647ddb9614210320.jpg': (500, 357),\n",
       " 'train/07e12e8064b6b17a94608ba5fd78a72e.jpg': (500, 375),\n",
       " 'train/07ebe25829d387cef30160285d50e232.jpg': (374, 500),\n",
       " 'train/07eeb2ef42c6b260684e8cb8e8c4ba70.jpg': (356, 500),\n",
       " 'train/07f95d08b40f1402abdab79b1f834e4c.jpg': (500, 478),\n",
       " 'train/080073330bb8954505340cf18159fbb8.jpg': (500, 338),\n",
       " 'train/0811e959c0fa3b1c7af6be4f645a9464.jpg': (500, 400),\n",
       " 'train/08149eb72785553570f74a6effea8d7e.jpg': (333, 500),\n",
       " 'train/0815082cf02417e80f4df9dfba17aa13.jpg': (190, 144),\n",
       " 'train/081ee1793b0e0027f8cccf9dc4513d53.jpg': (500, 375),\n",
       " 'train/081f6b553afb94d1f192f08cc3ac5762.jpg': (250, 309),\n",
       " 'train/0822709f6f6ea0be1928f52b8eecbc2f.jpg': (367, 500),\n",
       " 'train/0825e8471e3c9a14dc341bdd8630f05e.jpg': (399, 600),\n",
       " 'train/083820e6dda52da4c0f200ac36f582dc.jpg': (293, 437),\n",
       " 'train/084c4f43ecc2630587de6c3e543525c3.jpg': (305, 275),\n",
       " 'train/084f941981c326f26ea77158fb449c57.jpg': (500, 375),\n",
       " 'train/085b26edb3ee9688d41c4293aafe0162.jpg': (333, 500),\n",
       " 'train/0861355ea326a82de3aab420d4276e5b.jpg': (500, 500),\n",
       " 'train/08644ddaf5a3ca7f08fcab7561ec4eea.jpg': (480, 360),\n",
       " 'train/086e8ca78ec3303a8f06df003ecb6612.jpg': (500, 375),\n",
       " 'train/08782eb5ac167ca5f8feaccb519e9b4e.jpg': (480, 360),\n",
       " 'train/087b211f15ad8095ba90c0be54c1c30d.jpg': (500, 332),\n",
       " 'train/087cd02ca089fc0f30841a6a89e3a619.jpg': (500, 332),\n",
       " 'train/08829c00da02dea80eb491122989492f.jpg': (382, 500),\n",
       " 'train/0883e6cc994d9ba90592f400d502d838.jpg': (500, 375),\n",
       " 'train/088be435c5245f79c448812169a30cb5.jpg': (500, 375),\n",
       " 'train/0891ce3700686a8df5b4bd711be44ea9.jpg': (500, 375),\n",
       " 'train/08946697b3e50e602d6bea765c8fb9f5.jpg': (333, 500),\n",
       " 'train/0895dd35b3afa2a4f8a0b6f3ad98134a.jpg': (500, 375),\n",
       " 'train/089bce55f74e34940b3782e11c1bd2b5.jpg': (500, 333),\n",
       " 'train/089fd270df9e42e3f741452a4e437dc5.jpg': (500, 319),\n",
       " 'train/08af52c888b0f5735c3ced810771601d.jpg': (380, 229),\n",
       " 'train/08e4013c0ddc710c57d1d188bf7c0cfe.jpg': (500, 375),\n",
       " 'train/08e5e75d29184a82a9dada752c9c4afb.jpg': (466, 500),\n",
       " 'train/08e99ed86b0ce429fef52a8ca33e1551.jpg': (500, 375),\n",
       " 'train/08ea34bfdc88f5b1e0eef0b76d832c8e.jpg': (334, 500),\n",
       " 'train/08ea655aa168d87806340c336d07f1c9.jpg': (800, 532),\n",
       " 'train/09037f0995111a413fd8e976f3680f09.jpg': (500, 333),\n",
       " 'train/091306dd0d110a677fe0de1ad066f160.jpg': (200, 231),\n",
       " 'train/09288e5c39391b780412561163b10bf5.jpg': (500, 334),\n",
       " 'train/092c2cdbf133b201d7d56969bfbcc8f6.jpg': (500, 375),\n",
       " 'train/093fc67079701f48bd1d2e52a684ed9e.jpg': (450, 366),\n",
       " 'train/0943d1d4677ab876b52468096baaa2ce.jpg': (194, 150),\n",
       " 'train/0944fbca92fad9a38af10b3d1943cb54.jpg': (500, 375),\n",
       " 'train/09477e5059ebb15cad5f37fb3b9b1889.jpg': (500, 333),\n",
       " 'train/094b97e52d00895fbf6769724e1b0e7d.jpg': (500, 375),\n",
       " 'train/0959e919604a931fc1ae379b7a75911a.jpg': (360, 479),\n",
       " 'train/095d868f796f86c8258750365a04f2cd.jpg': (210, 210),\n",
       " 'train/0964e161b379740955fa95d8d4c8697e.jpg': (170, 205),\n",
       " 'train/0974b614b86b829821067bd0b1808b8c.jpg': (350, 456),\n",
       " 'train/097ef8eca8fc340249b0bbc2b745972c.jpg': (374, 500),\n",
       " 'train/098333d51970304787c7061f3e683c5b.jpg': (500, 447),\n",
       " 'train/098c722479a8288c57b545781d5c54bd.jpg': (333, 500),\n",
       " 'train/098dc5e173d21c229e6ee565d7666b10.jpg': (500, 306),\n",
       " 'train/0990fe6be15d9d556eac8712db3c8094.jpg': (375, 500),\n",
       " 'train/09927a82d649607a7704ac6043cdfa9a.jpg': (500, 375),\n",
       " 'train/099b068027c41251d29f75a311cc5e5c.jpg': (600, 512),\n",
       " 'train/099db37801090ed56bbc95c13d3799b9.jpg': (333, 500),\n",
       " 'train/09a1ea62ffa4b9389c03162bb0b0b572.jpg': (375, 500),\n",
       " 'train/09a6fd935dd1a4dee29b97885cfa9318.jpg': (500, 375),\n",
       " 'train/09aec2a169942b17d88b4b5f1bba5886.jpg': (203, 211),\n",
       " 'train/09beb7445a14486752bd25f69e952ebc.jpg': (500, 333),\n",
       " 'train/09c62a1ff26b3e83a2d476c2add054b1.jpg': (400, 500),\n",
       " 'train/09d462e2ad4d8c51d1a8430577891d8a.jpg': (333, 500),\n",
       " 'train/09d5ac8026b8a7f7d1acae244765fe24.jpg': (500, 375),\n",
       " 'train/09d7cc03f9e9730bda53b4a590351838.jpg': (333, 500),\n",
       " 'train/09ea184490e5da33eb3d851ee6361941.jpg': (500, 412),\n",
       " 'train/09fc0a4acd13c78c02cdb251f193231d.jpg': (497, 499),\n",
       " 'train/0a001d75def0b4352ebde8d07c0850ae.jpg': (500, 337),\n",
       " 'train/0a0c223352985ec154fd604d7ddceabd.jpg': (500, 375),\n",
       " 'train/0a135c5ee55edf4bd9631d4e15264788.jpg': (320, 240),\n",
       " 'train/0a13f9596e03a9f87c96aaff6e057048.jpg': (500, 283),\n",
       " 'train/0a1b0b7df2918d543347050ad8b16051.jpg': (500, 375),\n",
       " 'train/0a1f8334a9f583cac009dc033c681e47.jpg': (340, 414),\n",
       " 'train/0a27d304c96918d440e79e6e9e245c3f.jpg': (500, 375),\n",
       " 'train/0a3f1898556115d6d0931294876cd1d9.jpg': (500, 375),\n",
       " 'train/0a409042dd36b2c8293c67d4d4ea9ef9.jpg': (268, 201),\n",
       " 'train/0a4116a80e753f7b0adf4149f551a3a7.jpg': (500, 375),\n",
       " 'train/0a438069d5a8a8a079ac131d74c3a366.jpg': (500, 333),\n",
       " 'train/0a541df84dd3febb076e2c33a23cd230.jpg': (375, 500),\n",
       " 'train/0a5958a7f6836cbe349a4cedfe7178a6.jpg': (500, 375),\n",
       " 'train/0a5f744c5077ad8f8d580081ba599ff5.jpg': (393, 500),\n",
       " 'train/0a65ba3ab9b29c66e15cec76f34eca6f.jpg': (640, 427),\n",
       " 'train/0a6706f7864eb8871913f0e4ba07a61e.jpg': (400, 267),\n",
       " 'train/0a688b0783f472c84bbfe1c56efea1c6.jpg': (369, 500),\n",
       " 'train/0a6c192b96e55e2ca37318919b1ffae6.jpg': (500, 422),\n",
       " 'train/0a70f64352edfef4c82c22015f0e3a20.jpg': (500, 333),\n",
       " 'train/0a77b9015c37f39c92b5399dc29da97c.jpg': (401, 500),\n",
       " 'train/0a77d498ff491945347bb895d8ae4008.jpg': (500, 333),\n",
       " 'train/0a783538d5f3aaf017b435ddf14cc5c2.jpg': (500, 500),\n",
       " 'train/0a86c8b48bddb0155645f3a27f48292f.jpg': (600, 498),\n",
       " 'train/0a896d2b3af617df543787b571e439d8.jpg': (350, 300),\n",
       " 'train/0a8b6985bbe58a58909b5ef0a7d5a1aa.jpg': (500, 375),\n",
       " 'train/0a9322a30aff755dac328022266e3740.jpg': (367, 242),\n",
       " 'train/0a96f376d746b191fcc6e4812a603f7f.jpg': (500, 333),\n",
       " 'train/0a9832b18d360f50f5b3b2ab4c540ddc.jpg': (500, 375),\n",
       " 'train/0a9f8f6543d0b33fe9474035dd5323ef.jpg': (453, 500),\n",
       " 'train/0aa31d6ecdb95ac7d3b7fa42b86bd91b.jpg': (500, 334),\n",
       " 'train/0ab8d4c80ae4e6bbeacd66fb7e52b851.jpg': (205, 143),\n",
       " 'train/0ab9cdefc666573f8019356ffefe0c69.jpg': (550, 600),\n",
       " 'train/0ac12e1849fd51b2158d16b8f5e75551.jpg': (245, 200),\n",
       " 'train/0ac12f840df2b15d46622e244501a88c.jpg': (333, 500),\n",
       " 'train/0adfec2804a1efe41f54758cd87cec01.jpg': (500, 375),\n",
       " 'train/0afb0d170c66aed12805f838041411ce.jpg': (200, 312),\n",
       " 'train/0afc7d87053cb44a529c78c0fac99886.jpg': (500, 375),\n",
       " 'train/0b1b49b8cf679eb3e2fb13ca6deba9b5.jpg': (500, 375),\n",
       " 'train/0b1cdb2a36dd432fcc7567959cb23798.jpg': (500, 333),\n",
       " 'train/0b2d69f59303805f17055bd59615a297.jpg': (500, 333),\n",
       " 'train/0b30d48dd2818cdea768d884623e8c2a.jpg': (500, 335),\n",
       " 'train/0b345d4f2434903c374ad8b8513a289b.jpg': (500, 375),\n",
       " 'train/0b346cec75418439f13eabdc7e96f33a.jpg': (307, 232),\n",
       " 'train/0b3d3120a62c2bc280f589d473041d06.jpg': (500, 375),\n",
       " 'train/0b465156a0844773fd47ce40d0dcc7db.jpg': (808, 537),\n",
       " 'train/0b5604e1cdfcb595ceb36424126a3e09.jpg': (335, 500),\n",
       " 'train/0b6239db9b1649fe2f513357c82931aa.jpg': (500, 375),\n",
       " 'train/0b673cd41260b9fb998b0a8ad164b6d6.jpg': (234, 350),\n",
       " 'train/0b6837976df682360dc9ef25b81bc893.jpg': (500, 406),\n",
       " 'train/0b6c5bc46b7a0e29cddfa45b0b786d09.jpg': (500, 372),\n",
       " 'train/0b6da522f27c115716285a4f7187969e.jpg': (500, 492),\n",
       " 'train/0b86485ef980b0b4999e7ede1f90999e.jpg': (640, 480),\n",
       " 'train/0b97116ed04c8f0f7eb4a2b4b2620476.jpg': (428, 451),\n",
       " 'train/0b9d58d8d2626f80bbc5cc3ccf7e8bad.jpg': (500, 376),\n",
       " 'train/0b9fc8956444d4f5296ace3a4928541b.jpg': (300, 433),\n",
       " 'train/0ba0f44a7f83539a71e4d74f549c8be6.jpg': (334, 500),\n",
       " 'train/0bac7ab4e3b6c7a5331067827cda04e6.jpg': (500, 333),\n",
       " 'train/0bad79c06832a1bdeaedbbb50a28450a.jpg': (200, 277),\n",
       " 'train/0bbb9ce1f03a205fead338f0be3040bc.jpg': (500, 378),\n",
       " 'train/0bbe00ace11a4dd944b8bcf8ca9772c1.jpg': (375, 500),\n",
       " 'train/0be68a5e7b40e9689c3ef2a9764bfcf6.jpg': (500, 375),\n",
       " 'train/0be845d1fe8a0ad6da6ffa454ab33e8a.jpg': (375, 500),\n",
       " 'train/0beb24726c7210a5021f22d6c511cd71.jpg': (2097, 1910),\n",
       " 'train/0bedbecd92390ef9f4f7c8b06a629340.jpg': (500, 334),\n",
       " 'train/0bf89dcb09d8c76be568f17811664560.jpg': (500, 375),\n",
       " 'train/0c0955cddf9488d30e6e8d4ee7c18856.jpg': (190, 151),\n",
       " 'train/0c0bca6e79cc323669da06bab0013b12.jpg': (375, 500),\n",
       " 'train/0c19867277e6c96ad8f487b4fe343ff9.jpg': (500, 333),\n",
       " 'train/0c1a1b2adfd0aa2fef3eb974b9b95734.jpg': (334, 500),\n",
       " 'train/0c1d98a09381f4dfffc510fab188f189.jpg': (500, 236),\n",
       " 'train/0c207c7af2d1ef71dc61434f04d00cdf.jpg': (500, 375),\n",
       " 'train/0c24a6dac8f0dc55edeb80a7b683af5e.jpg': (500, 325),\n",
       " 'train/0c286c574ef09562c123dafe5ce6ac23.jpg': (500, 333),\n",
       " 'train/0c2fdeb77e6e650e69ecca013c7e8e67.jpg': (357, 500),\n",
       " 'train/0c329020d6ca0ae5af30f6857ac7e86c.jpg': (375, 500),\n",
       " 'train/0c4ac597d196aaf07f3af039b8fd6925.jpg': (251, 350),\n",
       " 'train/0c68a578981993b919e89c611f04a97f.jpg': (500, 375),\n",
       " 'train/0c71084d955bfca989d865cbcf8cf8ae.jpg': (300, 225),\n",
       " 'train/0c71338af3f3a8c068ec28b5f6b8f8ae.jpg': (500, 375),\n",
       " 'train/0c8fe33bd89646b678f6b2891df8a1c6.jpg': (357, 500),\n",
       " 'train/0c9fc0f58a6724ca680c76785a452bba.jpg': (449, 231),\n",
       " 'train/0ca382d7309e346ac802a202d0fa8c67.jpg': (334, 500),\n",
       " 'train/0ca9280205bd68d201e1d708db3f209d.jpg': (500, 375),\n",
       " 'train/0cb1bf12ae0fd5f681ae579c2a28ccd8.jpg': (435, 594),\n",
       " 'train/0cb5839c82f7c1286e55f260d4e608c4.jpg': (500, 333),\n",
       " 'train/0cbca2fcad7910a3c98d734e17cfde65.jpg': (500, 375),\n",
       " 'train/0cbdda18846cd014dcb0e18fa67f3f98.jpg': (400, 539),\n",
       " 'train/0cdd66f35d9b7d8b0a98a4d506396c0d.jpg': (500, 375),\n",
       " 'train/0ce7dd8b119184e91088336ec6973d53.jpg': (500, 333),\n",
       " 'train/0cf285cc3f1625bd80288cd6b7ddb7e0.jpg': (500, 375),\n",
       " 'train/0cf4dabd83d91e22f6ce845fe81fa21d.jpg': (190, 286),\n",
       " 'train/0d0d0f7c689020c35b83a91e7717624b.jpg': (500, 348),\n",
       " 'train/0d103ca7cf575757374f8f6ae87d8868.jpg': (500, 375),\n",
       " 'train/0d2dc4f72cc5d6d26055989b217a2450.jpg': (487, 500),\n",
       " 'train/0d2f9e12a2611d911d91a339074c8154.jpg': (250, 188),\n",
       " 'train/0d303784e6740e5de249e1f2078a7b4b.jpg': (305, 230),\n",
       " 'train/0d30e235aebdde78be6e2a59becb582d.jpg': (500, 375),\n",
       " 'train/0d37ea8a209eb60e9c03eaedf3fd5384.jpg': (400, 286),\n",
       " 'train/0d3b46bdc45c8bc24ed89cff69f06ab3.jpg': (500, 334),\n",
       " 'train/0d4e09456d9ebfdb076e34326586f18e.jpg': (200, 150),\n",
       " 'train/0d579f92d60935a54aa6dba6e6213257.jpg': (500, 333),\n",
       " 'train/0d693ab130c18e15f923f59eb102def9.jpg': (500, 334),\n",
       " 'train/0d695ef1bfe438be0cedcb8ef146afad.jpg': (333, 500),\n",
       " 'train/0d6bab298a320221f08c49c701d3e06f.jpg': (500, 334),\n",
       " 'train/0d6c6238a4cc499bb57fa0c10a15f8ad.jpg': (500, 333),\n",
       " 'train/0d74e47d162e023bb1ae5aae40276fd6.jpg': (512, 514),\n",
       " 'train/0d82788cd302dba65793ea68f55cc649.jpg': (375, 500),\n",
       " 'train/0d8858e722c5f9834ddbdcecbf3cd4d6.jpg': (500, 375),\n",
       " 'train/0d8d386390ba269dd4e475c20b91e8f9.jpg': (500, 445),\n",
       " 'train/0d96ca29ff2e557e93c3de0ba017ff61.jpg': (375, 500),\n",
       " 'train/0db44ddb42bf1f97de987abe2bf01839.jpg': (308, 550),\n",
       " 'train/0dbf0bd0fdc7b594de02e573b1a04a56.jpg': (210, 201),\n",
       " 'train/0dc3196b4213a2733d7f4bdcd41699d3.jpg': (500, 375),\n",
       " 'train/0dc45e3e57bbcfccc550479d57b39951.jpg': (500, 333),\n",
       " 'train/0dc7954749dc0224639be29aba3f1708.jpg': (500, 375),\n",
       " 'train/0dcb8150908bbb7b7fff1b9d41a358ba.jpg': (500, 319),\n",
       " 'train/0dd1914e122292dfbb25e35537b511f6.jpg': (500, 375),\n",
       " 'train/0dd7b725203b91c30ca4f796d168e6ba.jpg': (500, 332),\n",
       " 'train/0dde7ba887ee083616993d5892db139f.jpg': (500, 375),\n",
       " 'train/0ddf7ab49836b36081621a655f3a5c21.jpg': (500, 332),\n",
       " 'train/0df07a23ab97135ce7d390f2d12e388d.jpg': (500, 375),\n",
       " 'train/0df4124761f7303a0080d50377f2ec7b.jpg': (500, 486),\n",
       " 'train/0dff1edc6643df0d8ea6e0c5ca63b133.jpg': (395, 500),\n",
       " 'train/0e0e44349e6955bea9fea91de26a6980.jpg': (500, 333),\n",
       " 'train/0e167bb5c5d4736190d220d081d1de23.jpg': (500, 375),\n",
       " 'train/0e1ac042292a573ecd0ec71b3b646997.jpg': (500, 375),\n",
       " 'train/0e1fcfa1796f8c54b9fa4b56a3a1fc4e.jpg': (500, 500),\n",
       " 'train/0e24a584e10db2c8f827ab00772e29cf.jpg': (333, 500),\n",
       " 'train/0e403e86dc961d59fec94dfb62968a53.jpg': (500, 334),\n",
       " 'train/0e47c35f24067b19557e15fcfd48778c.jpg': (200, 293),\n",
       " 'train/0e532335572b91360975154c90381689.jpg': (364, 500),\n",
       " 'train/0e549376cfed70cf2a5b84e7a42d85ef.jpg': (375, 500),\n",
       " 'train/0e6e4b104e3cdf4c1963d74a27390f8e.jpg': (500, 332),\n",
       " 'train/0e6f7b1083d38cfef96ccdf3171608d3.jpg': (500, 375),\n",
       " 'train/0e708dfe2a8c60849a4b625eda57d118.jpg': (357, 500),\n",
       " 'train/0e7691c13a9267b621ffb866a83d08aa.jpg': (396, 500),\n",
       " 'train/0e7712450813da57f7df73fc45a183b4.jpg': (850, 638),\n",
       " 'train/0e7856dbcebb2268b839888c7972e8fb.jpg': (332, 500),\n",
       " 'train/0e94678bb5498dc6df640553bf3a1b2f.jpg': (196, 211),\n",
       " 'train/0ea00d73664139c52ee1eaabc77ea478.jpg': (374, 500),\n",
       " 'train/0ea5759640f2e1c2d1a06adaf8a54ca7.jpg': (400, 600),\n",
       " 'train/0ea78b024dc3955332d3ddb08b8e50f0.jpg': (500, 333),\n",
       " 'train/0eac90a6621ecbf97adfec04596b77a3.jpg': (450, 338),\n",
       " 'train/0eaea4c6fe055607ed8322db0306285f.jpg': (232, 332),\n",
       " 'train/0eafdcc7628b2c74983819f40c763c2f.jpg': (375, 500),\n",
       " 'train/0eb00c6fc429ecc2cf8745a6334594ad.jpg': (500, 333),\n",
       " 'train/0eb297c3d5f6cc93371f02f4ed35879c.jpg': (500, 461),\n",
       " 'train/0ebfd68f64bd750fca790f0b40d69481.jpg': (500, 375),\n",
       " 'train/0ec8020bc2c4bc1646a81737be8580e0.jpg': (500, 375),\n",
       " 'train/0ec9be8b32f2b9eff2b817a7f722b118.jpg': (358, 305),\n",
       " 'train/0eeb17d40281f3bd639de24ca662c5d2.jpg': (500, 375),\n",
       " 'train/0ef07f4a6706a04af9ff354e263a28b3.jpg': (250, 188),\n",
       " 'train/0ef688efcc98bc287976c3d4d8145ae8.jpg': (500, 375),\n",
       " 'train/0f015731185a2308c1a85eed4e8ad728.jpg': (480, 640),\n",
       " 'train/0f03e05c333f7e5538d4c90f9c837796.jpg': (500, 335),\n",
       " 'train/0f04466edd10d6c1d27e123399cf4433.jpg': (500, 375),\n",
       " 'train/0f0effd9b5d25fdab84c2a8ae17d6deb.jpg': (500, 375),\n",
       " 'train/0f0f297dca75b5c780316a0f4169a950.jpg': (333, 500),\n",
       " 'train/0f23ce5c1129ad70c079d262448d9fac.jpg': (500, 375),\n",
       " 'train/0f26d3f7ff65d0713f36cd8cfe6c7a5f.jpg': (500, 392),\n",
       " 'train/0f2fbcae9ec83165d1ce5f5783fcb903.jpg': (500, 333),\n",
       " 'train/0f5dd4999e44100d74f68c789f3edc54.jpg': (374, 500),\n",
       " 'train/0f6d2d6c124fb61ba7c59ef8dbd42c99.jpg': (437, 500),\n",
       " 'train/0f73c1cc99dd8b9c580c4260debf1f93.jpg': (500, 334),\n",
       " 'train/0f74df5d1c925541eb1b3031a82a5cb8.jpg': (500, 375),\n",
       " 'train/0f7c32eb17dce55860772c983f557e3c.jpg': (150, 202),\n",
       " 'train/0f7c817dd5f8b8d6b57e3b7f3e2f4f56.jpg': (500, 429),\n",
       " 'train/0f7db98cbd6f6537c0ac3dfad349b182.jpg': (500, 375),\n",
       " 'train/0f8e8464cfa3bacc074d6e0289d6657f.jpg': (500, 375),\n",
       " 'train/0f91ba06bfea7401f59c6d796717029d.jpg': (500, 375),\n",
       " 'train/0f91c68e2088b8d45950cdde991f37d1.jpg': (500, 337),\n",
       " 'train/0f976e55b3634296183b2b1c051d5bda.jpg': (640, 480),\n",
       " 'train/0f9d92617b85252200cf99ef0f84d59d.jpg': (500, 375),\n",
       " 'train/0fa302727af44e7ad8033825cea98d7c.jpg': (350, 596),\n",
       " 'train/0fa361cea0655e945970cd4762355ac0.jpg': (480, 320),\n",
       " 'train/0fa7d7d2e948948c67919565a380ad45.jpg': (500, 375),\n",
       " 'train/0fb1454104deee316f52244bb2037b37.jpg': (500, 375),\n",
       " 'train/0fbacbbdb4ad588598757b6d4bd111f1.jpg': (550, 450),\n",
       " 'train/0fbfe941d913c3976a13cc4925e67389.jpg': (200, 275),\n",
       " 'train/0fc12a365adfcbb603e298b10149632a.jpg': (1504, 1000),\n",
       " 'train/0fc1bd3c4d89b3f89dc91605032fa8f9.jpg': (200, 200),\n",
       " 'train/0fcaccf71de140cfbc77c793e6a485bd.jpg': (500, 333),\n",
       " 'train/0fd8e587dd02713551fc1fb0c8841c49.jpg': (500, 375),\n",
       " 'train/0fded83899cc06dc30c1bda6302b5bd6.jpg': (500, 375),\n",
       " 'train/0fdfc060cdbaf30f356ffb4946df4580.jpg': (175, 248),\n",
       " 'train/0fee7eb61d52b589414845803d73f2f9.jpg': (500, 375),\n",
       " 'train/1006967db8c3d015cb0d272c4ae623a5.jpg': (440, 580),\n",
       " 'train/100965db7a00c9752519e342ce9baf99.jpg': (335, 500),\n",
       " 'train/100f347ec78a42a9e7c2418e4beb3f6a.jpg': (200, 200),\n",
       " 'train/1012fef5c11e2875d2268c93253108ff.jpg': (500, 375),\n",
       " 'train/1015e4eba660def32e7e52b89fe3a9c6.jpg': (500, 375),\n",
       " 'train/101c7d1a68a7282bbc5a1a226d81cd74.jpg': (360, 155),\n",
       " 'train/1026e954ac304be5f049e79ee6a045c0.jpg': (399, 500),\n",
       " 'train/102b81ed975bfa49e496526720e9b671.jpg': (500, 375),\n",
       " 'train/102fe645c59f482cbc771c01cfff3ff9.jpg': (500, 335),\n",
       " 'train/103e4b4c0ebb0e8dabe6d47970fb546b.jpg': (333, 500),\n",
       " 'train/1041e0480ed0b88c41169fb2b119fcf7.jpg': (180, 220),\n",
       " 'train/1043003fb33c5fa1d094cde3c0dd1fd5.jpg': (500, 375),\n",
       " 'train/104f3118ce7eba3e48138ccaa201f25a.jpg': (500, 333),\n",
       " 'train/1066d43c5f952120ec355bb56459228a.jpg': (300, 262),\n",
       " 'train/1069587e556525ecf7b3c6def3c096d7.jpg': (500, 375),\n",
       " 'train/106a740e7e34d80e35b0f40a3d96fc1b.jpg': (276, 247),\n",
       " 'train/10706a4ccdd719191686b98d4dc48ed0.jpg': (500, 375),\n",
       " 'train/10730dfd280bb4b2723dc677378f2ff1.jpg': (500, 358),\n",
       " 'train/1083fffa8c174aa1a46627f53e1e50f8.jpg': (500, 333),\n",
       " 'train/1089c1e5058ffff12e1cca2e85205ed8.jpg': (429, 500),\n",
       " 'train/1095f3f511b5d85db6e614fc6cf58250.jpg': (500, 375),\n",
       " 'train/109bfcf2de8f0b7eb5f7768a51ebd565.jpg': (500, 375),\n",
       " 'train/10a59be0ffb5e269849d409d05b1e94c.jpg': (500, 333),\n",
       " 'train/10b7de79c1ce32cb8928616b00c3686e.jpg': (500, 370),\n",
       " 'train/10c2616bf8e750b282cea404d01a3429.jpg': (375, 500),\n",
       " 'train/10c9288e30af850676d34c18fb7c1632.jpg': (500, 331),\n",
       " 'train/10c9ac7d54eaf2a4ed12883125afa4e2.jpg': (500, 390),\n",
       " 'train/10ce268c0affd428a49ada5a79fe9ca8.jpg': (500, 333),\n",
       " 'train/10d766340a5c0038f2b0529a63ecf2ba.jpg': (500, 333),\n",
       " 'train/10e2fcf8d3292866bc93d1048cec7962.jpg': (240, 180),\n",
       " 'train/10ebf7599dd41ded00fd74bdfeada500.jpg': (500, 332),\n",
       " 'train/10edc6f98c2423e4e195e09a86b0d292.jpg': (500, 333),\n",
       " 'train/10f1d53bb20d5acc7c8772018399c238.jpg': (500, 369),\n",
       " 'train/10f7757fdc673e159e47ea20834ba551.jpg': (500, 261),\n",
       " 'train/10f790eb0fe5653c1980ddd983ec79c4.jpg': (500, 371),\n",
       " 'train/1108e48ce3e2d7d7fb527ae6e40ab486.jpg': (500, 375),\n",
       " 'train/112b85d8e95da86fdf51031caea20d5e.jpg': (500, 394),\n",
       " 'train/1132baf0ad2beef88c9d78c8ee21778c.jpg': (500, 332),\n",
       " 'train/113c17f9199d16d1a9a1b16e3740ef78.jpg': (500, 357),\n",
       " 'train/1143bb719660680ac0174ce68dc16773.jpg': (500, 375),\n",
       " 'train/114524d11fe49af5be43897233a4f65e.jpg': (516, 440),\n",
       " 'train/11476f28c0143a77c536b597a177abc9.jpg': (400, 500),\n",
       " 'train/115ad26b0cef153d2afaf6985503c9c3.jpg': (500, 332),\n",
       " 'train/1165dd8264b3998810065ab9e3cecb3b.jpg': (500, 340),\n",
       " 'train/11722136645ee54db58a0df76eae2179.jpg': (500, 333),\n",
       " 'train/119c85c592c1a60030abe35a6b49fa57.jpg': (500, 375),\n",
       " 'train/11a508588bc3dec81bd4ce4913f963cd.jpg': (333, 500),\n",
       " 'train/11b60d8d86f14a601ca290909a17cbc6.jpg': (500, 375),\n",
       " 'train/11bbd6229f14cc68bd0f157a9ef1d47d.jpg': (175, 175),\n",
       " 'train/11c0aaa58a419a61513b5c1f27b67f16.jpg': (500, 393),\n",
       " 'train/11c3b389906a9302def1e873c9f9b6c9.jpg': (850, 670),\n",
       " 'train/11d669406a273858a123d1d1c87354c9.jpg': (485, 500),\n",
       " 'train/11da2a7ad0326cbf4b46da32b1b82bc6.jpg': (500, 375),\n",
       " 'train/11de51e128d743d0d40dd8ce3b4fdb92.jpg': (400, 300),\n",
       " 'train/11e29ec9659995ebdc80f8d812dedaa8.jpg': (300, 261),\n",
       " 'train/11e572c36d23d362ff987d7f8828dd45.jpg': (252, 336),\n",
       " 'train/11f1e40f11ca1babbcc547c5c98a1a3c.jpg': (500, 334),\n",
       " 'train/11f968569f31c60b73a6d50b907f800f.jpg': (500, 375),\n",
       " 'train/120c338a78b113785c31e4ebf11d229e.jpg': (375, 500),\n",
       " 'train/120e665f7fa566a429d27ad920fc34da.jpg': (500, 375),\n",
       " 'train/1234dd4303d5181574ca007f53ed03db.jpg': (500, 375),\n",
       " 'train/12405b2e93417d81f5308769c4e184c7.jpg': (375, 500),\n",
       " 'train/1242d1521d58b7cc6dd03d95a02c8bcb.jpg': (500, 375),\n",
       " 'train/1242da788ce85d4311e1cc9922a0a809.jpg': (500, 374),\n",
       " 'train/1257cafca085d403a583378d525953d5.jpg': (306, 383),\n",
       " 'train/1278143f78dc063c1e29970bf3eb32a2.jpg': (500, 333),\n",
       " 'train/129cff4506469af7863a6e30c9947a66.jpg': (500, 375),\n",
       " 'train/12a96a9c366b60dcc62fec29006780a3.jpg': (500, 335),\n",
       " 'train/12a9f1c02202a020fe9e51fc46dc780f.jpg': (500, 333),\n",
       " 'train/12b5c6e825ea11850e23f233a54981f3.jpg': (262, 204),\n",
       " 'train/12b72be0bcd7a96172fee4f7cd5b01fd.jpg': (375, 500),\n",
       " 'train/12b839068a6c29541797fa9bd20f350c.jpg': (500, 333),\n",
       " 'train/12b880c67ff773988a16cee76be47c54.jpg': (500, 333),\n",
       " 'train/12bd4b1926c160fcd73ae48215e2b12d.jpg': (320, 240),\n",
       " 'train/12c222ec2e7808183056af545a4bc046.jpg': (500, 333),\n",
       " 'train/12c65c69fa9e112448f7d26ed34abb57.jpg': (500, 334),\n",
       " 'train/12c9f56e73ac9f4a08afb142f89051ae.jpg': (500, 375),\n",
       " 'train/12db63491c6590c8ef38dc1824aa4b81.jpg': (432, 496),\n",
       " 'train/12de62fb1fa5a48d596428dd5a90184a.jpg': (500, 375),\n",
       " 'train/12e15979a85e881613f8f2cf49de08be.jpg': (345, 250),\n",
       " 'train/1301d1dd2763e028cf70d0da4c1bab7b.jpg': (400, 300),\n",
       " 'train/1304760775c1aff0f21c311bd48f9580.jpg': (400, 469),\n",
       " 'train/1312009d41a9488bf5dc0af0289b0657.jpg': (500, 333),\n",
       " 'train/1312d2ca6f4bfd594624f7161be73ee7.jpg': (1200, 1600),\n",
       " 'train/131c49315a5bc73880b305a844bf531a.jpg': (500, 375),\n",
       " 'train/131ccf48aba2dc53174c170b2429e55b.jpg': (253, 263),\n",
       " 'train/131d708a270a3ebca285978bf53df62e.jpg': (500, 375),\n",
       " 'train/132538caad57960ca3c9162e2f4a8498.jpg': (375, 500),\n",
       " 'train/13267e83358116ad51bebdb1be3d0a8e.jpg': (300, 244),\n",
       " 'train/1351c4f7cec88e8ba56ada4c772d84f5.jpg': (441, 333),\n",
       " 'train/1352efb02c29ba1b9be918170afff486.jpg': (500, 375),\n",
       " 'train/135587061f51e7dabb820bbbd619977a.jpg': (500, 375),\n",
       " 'train/1369c16ecf370cee5e4a306eebe5656e.jpg': (250, 261),\n",
       " 'train/136b8208ffd0262ea1aa6f8c17265ff7.jpg': (500, 333),\n",
       " 'train/137f07bc5f15fa8e39f85a8333e68780.jpg': (480, 360),\n",
       " 'train/1381239a87d5a97caab8d0cf72a06e75.jpg': (500, 375),\n",
       " 'train/1381df385b4c5da43539ab48633bd9b5.jpg': (500, 375),\n",
       " 'train/1383bc8b2db4943fafe13b7f289f4a03.jpg': (500, 333),\n",
       " 'train/13863e32053e9735b55ba975ecd58cfd.jpg': (500, 333),\n",
       " 'train/1399f1e08abd77f1b736303d4101d51c.jpg': (500, 333),\n",
       " 'train/139b8328a97a600cceb73b0875f80a98.jpg': (500, 375),\n",
       " 'train/139fc3326016bf24cc06ad898c42742e.jpg': (170, 150),\n",
       " 'train/13c5a0d636619210b5ac003ee82aacf0.jpg': (350, 360),\n",
       " 'train/13c630fcf8aa68ab0e97cd4a644b8943.jpg': (477, 500),\n",
       " 'train/13c7c6b47b97b9f0a4591fef29893436.jpg': (500, 343),\n",
       " 'train/13d42ef52eb6c649c14cb9ffa8b6fba4.jpg': (196, 296),\n",
       " 'train/13d470408dbbdc20b38ea32d3752edbb.jpg': (500, 333),\n",
       " 'train/13e2d0cb1fa62d3085be6877bd7e85cb.jpg': (500, 336),\n",
       " 'train/13e608df9c88b1465ebf98bc84d0a832.jpg': (200, 225),\n",
       " 'train/13ea49cd2b706ec9a15e7214e492bbb2.jpg': (400, 302),\n",
       " 'train/13ee74fa50b3e32356047fde4fd993ab.jpg': (482, 500),\n",
       " 'train/13f6cb46cb23d6eb41fa6931b73b3e4c.jpg': (400, 400),\n",
       " 'train/13f765ea64c7a3575a105cbdfbb6c31f.jpg': (323, 431),\n",
       " 'train/13f939b9b15ec56409a21017263db93c.jpg': (333, 500),\n",
       " 'train/13feb3feb14fe8aa91f70411bc1b10e9.jpg': (600, 446),\n",
       " 'train/14095922a772c94921a065006a9fa454.jpg': (500, 333),\n",
       " 'train/1411967eaa020b15874e03167eceea62.jpg': (500, 348),\n",
       " 'train/141321373d0535ee37171a2d6ca9bcbb.jpg': (283, 283),\n",
       " 'train/14158fdadb6a3accea6b334d0f284092.jpg': (500, 423),\n",
       " 'train/1416047ba98d2c23eb2caf45d3008ccb.jpg': (500, 375),\n",
       " 'train/1416892831c073f6d3879d8cdf5386dd.jpg': (351, 500),\n",
       " 'train/141706c74486585c27de2dfb335695bb.jpg': (333, 500),\n",
       " 'train/1418b4cd78095ff2635ef02684a026b7.jpg': (180, 250),\n",
       " 'train/1428026a4472cda58ad13233bb9ad64d.jpg': (223, 259),\n",
       " 'train/142ef9990b3db0d521f87f9133a6b84f.jpg': (500, 375),\n",
       " 'train/1435300899e9180c90de6e100643b402.jpg': (500, 375),\n",
       " 'train/1438130db8837b0e5fdb8416e53353ec.jpg': (500, 333),\n",
       " 'train/1438ea6672622b5867ce2fbcebe6c552.jpg': (500, 333),\n",
       " 'train/143b9484273e57668d03bfc26755810a.jpg': (500, 456),\n",
       " 'train/143ce5343024462044b72de531b5ff08.jpg': (500, 500),\n",
       " 'train/143d5305a4055398828d5b7e3aa8f75b.jpg': (700, 630),\n",
       " 'train/14597c96d5c222eebd742f4207296314.jpg': (206, 320),\n",
       " 'train/145f7bb3bf6e4877b8b6624f612a1c24.jpg': (500, 375),\n",
       " 'train/1465759436b4acd2748dd50108b90ca9.jpg': (375, 500),\n",
       " 'train/146b732430bb63d5338fc6b7a8fc0135.jpg': (500, 375),\n",
       " 'train/146be641443a270dd8116f65d53d0c9d.jpg': (220, 220),\n",
       " 'train/146c249bf2d60bf30c309341020bf2ee.jpg': (500, 338),\n",
       " 'train/146c8ed2e65ed9e04d8302bf1d96815a.jpg': (435, 450),\n",
       " 'train/146fa113f3d8ad6e0effe9719e09cef1.jpg': (1152, 864),\n",
       " 'train/146fbfac6b5b1f0de83a5d0c1b473377.jpg': (500, 375),\n",
       " 'train/1472fb85b5c76d50009137da3dbde052.jpg': (328, 350),\n",
       " 'train/1476da6f7fc9421c8ec3c0aba6b3e1bf.jpg': (300, 233),\n",
       " 'train/14914d7f0348c56b32a779596c11ecd6.jpg': (500, 325),\n",
       " 'train/1493bf7f5cb1ca62b4e0772d9edc702e.jpg': (500, 375),\n",
       " 'train/14a24af1ce8c796dc96bb45dea1fb8dc.jpg': (240, 176),\n",
       " 'train/14a2795a5c3d69a5c18a63aad8718003.jpg': (500, 331),\n",
       " 'train/14a44cf4253e82340f83293e3920af11.jpg': (500, 375),\n",
       " 'train/14acf981af889d9b97d1d46a439228b0.jpg': (500, 375),\n",
       " 'train/14b1b3f0d45a15766dc02dc84899b07a.jpg': (334, 500),\n",
       " 'train/14b27fd74697cf699143ade2d4f801fc.jpg': (500, 333),\n",
       " 'train/14b6f4f65cf579f4a402b310be78b8ff.jpg': (500, 375),\n",
       " 'train/14c00ab356d9261ea220ea91fa20a42d.jpg': (400, 368),\n",
       " 'train/14cbd6c6c6550fa1306c8d4f7cf1a840.jpg': (250, 453),\n",
       " 'train/14cd98829e4e99e950af3cbf94ad1734.jpg': (500, 375),\n",
       " 'train/14cffe576239620f1733dfe487dbaa6f.jpg': (400, 300),\n",
       " 'train/14dee67f611c52183fda5fc07db5d5fb.jpg': (350, 363),\n",
       " 'train/14e9a6d002632db71a18283fc024f086.jpg': (360, 311),\n",
       " 'train/14f25ad78f02126a1ceeb44385378cd1.jpg': (500, 333),\n",
       " 'train/14f4938d64e0da5582a4ced35cf33a6b.jpg': (375, 500),\n",
       " 'train/150a95102a32d2f099b02a445442310b.jpg': (500, 281),\n",
       " 'train/15137b6e02d5cd04cabb34aba1fabb9f.jpg': (375, 500),\n",
       " 'train/151474b992b295f69547839e31271dd0.jpg': (500, 408),\n",
       " 'train/15190d69d724d7e94ef64a347b959ccb.jpg': (306, 204),\n",
       " 'train/152006ba4c78c907b2fc376a3336ae09.jpg': (500, 375),\n",
       " 'train/152aa0851b6a1349b99044f16eadc59d.jpg': (375, 500),\n",
       " 'train/152c0d164f42991d55d84dc30a1fa81f.jpg': (523, 508),\n",
       " 'train/15305c67da0838b92b90c66526cef5aa.jpg': (358, 360),\n",
       " 'train/153bbd70025d2738418176e6ab7fedd0.jpg': (500, 333),\n",
       " 'train/153f05ef64f050530ea746a357855b20.jpg': (500, 375),\n",
       " 'train/153f0c739e9049612a62f111b9519429.jpg': (500, 333),\n",
       " 'train/1548eb783093ac6bdf011d07f3370a36.jpg': (500, 333),\n",
       " 'train/155052199dfac47b3a1ccbea97ce648c.jpg': (399, 500),\n",
       " 'train/1553cf296f4d83f015a07afde78fd747.jpg': (142, 200),\n",
       " 'train/156d6d6ef7da47aa22b150268af9a3c4.jpg': (378, 303),\n",
       " 'train/156e74a393c76b215752d692eccd9135.jpg': (500, 333),\n",
       " 'train/1574f04538521f284218dfbf2c8678ee.jpg': (745, 768),\n",
       " 'train/158274c7a5b030a2e8462a55159bdfc4.jpg': (283, 300),\n",
       " 'train/1586326d52312228c20c3599feb72d7a.jpg': (500, 333),\n",
       " 'train/1596cf0ab964b3ff0587f0d30042ca18.jpg': (263, 350),\n",
       " 'train/159d07f089673cd225f3a47d08ee772f.jpg': (500, 375),\n",
       " 'train/159d8e089f2ce2a38580a02318fd9ecb.jpg': (500, 332),\n",
       " 'train/15a4ad475f9c8b2250df082b8e741d94.jpg': (500, 407),\n",
       " 'train/15ad574a13084df42ef17a5f635fae3c.jpg': (333, 500),\n",
       " 'train/15aee288781e5c11d1f9a6983326ad9c.jpg': (500, 375),\n",
       " 'train/15b5949f52a4838f9fe3d69cfff94fd5.jpg': (1280, 853),\n",
       " 'train/15b5cd948f5bcbb7a4f5b1904de4c6d5.jpg': (394, 500),\n",
       " 'train/15d17b41ac5230af8f31417f0a673915.jpg': (500, 375),\n",
       " 'train/15d25fb9d0b922b4943b312509e95c21.jpg': (500, 339),\n",
       " 'train/15d7f26c7d32f81c204936362ead551e.jpg': (500, 333),\n",
       " 'train/15e9e5a6a6f3630335261259940114b4.jpg': (266, 200),\n",
       " 'train/15f8b879f8660fece35ed760345fa9dd.jpg': (500, 333),\n",
       " 'train/160160c8ac562966448486906cb56308.jpg': (412, 599),\n",
       " 'train/1609abf6c6ac2e8df0af837cbe9cee74.jpg': (500, 375),\n",
       " 'train/160f87a50f4c3c80752872faa80e4699.jpg': (500, 375),\n",
       " 'train/160f932c413228553024d4cc9bafc156.jpg': (500, 333),\n",
       " 'train/16265434d841173019be215bea5d8097.jpg': (500, 435),\n",
       " 'train/162a3de12cc110679a921dc49dd38fc8.jpg': (237, 194),\n",
       " 'train/1639ccef237eec9fc4eb1aa0916201c3.jpg': (500, 375),\n",
       " 'train/164a194e9bf8819523235879eb0c2698.jpg': (500, 331),\n",
       " 'train/164c3b823c400cea20ad0a3426e1eeea.jpg': (800, 534),\n",
       " 'train/165f26ae3d9dfe88e10f7929c031b1c8.jpg': (500, 375),\n",
       " 'train/166d9a55197d0c21068273cca67fe2aa.jpg': (287, 350),\n",
       " 'train/166da5b561393f0dda932f562c39bc6b.jpg': (500, 402),\n",
       " 'train/168e2da635938b82819b8a45bbd3dd0d.jpg': (375, 500),\n",
       " 'train/1690522901e3d41a84c3dc91b1520902.jpg': (333, 500),\n",
       " 'train/1690937cfb23f8dbdcc594bf62650a92.jpg': (500, 333),\n",
       " 'train/16941a6728ddb9cb7423a6cc97fbe071.jpg': (375, 500),\n",
       " 'train/1699a179453b177a5e895c5b5ecb3624.jpg': (263, 280),\n",
       " 'train/169db2d825a1bdeb5a576ab746812936.jpg': (360, 480),\n",
       " 'train/16a6a63387fa1f0b4a0dcf6bb05f6204.jpg': (333, 500),\n",
       " 'train/16a760e466fd2b2fe0ef8879b5b2245d.jpg': (500, 375),\n",
       " 'train/16aaa590e39530bc1cb319fc7d89c00e.jpg': (405, 305),\n",
       " 'train/16ac25747d1a51db033d6461156ddb0b.jpg': (500, 375),\n",
       " 'train/16acaa39e4fe4edbc2becbeb85e8ccbe.jpg': (498, 650),\n",
       " 'train/16ca736a6ff68bc4d2d1586e8eec9b28.jpg': (331, 500),\n",
       " 'train/16cc38641158115b57a4610e40e5f6a9.jpg': (360, 270),\n",
       " 'train/16d21426a864e73050afda40bf1fddc6.jpg': (500, 375),\n",
       " 'train/16d2d5edf52892450e38aa4f766c2eea.jpg': (500, 375),\n",
       " 'train/16da5fc3f2c4273902da11aafc13456e.jpg': (275, 353),\n",
       " 'train/16e2c529e31eb3d2a276eb5bda2b009f.jpg': (500, 375),\n",
       " 'train/16e68faf318a580514ec2ae7fe295ec5.jpg': (300, 345),\n",
       " 'train/16f37498dbfe77fae6d442465e7356eb.jpg': (450, 390),\n",
       " 'train/16fd2ee2057012b1d3db46e219a4d022.jpg': (500, 375),\n",
       " 'train/16fdb4a145a7f5695a264ba980e23bc3.jpg': (197, 168),\n",
       " 'train/1703c4224aace739763ae9f4e4ad7e76.jpg': (400, 287),\n",
       " 'train/170b803738598c2466457271f98f647c.jpg': (533, 294),\n",
       " 'train/170dba137a3990b225bdf19074b97023.jpg': (500, 333),\n",
       " 'train/1710f33e5a5a32fd20547e8f133fa8d9.jpg': (500, 375),\n",
       " 'train/1716fe350f1339e19906eb2889960c9e.jpg': (436, 500),\n",
       " 'train/17193d29b9833d783133f4b13f12f513.jpg': (280, 250),\n",
       " 'train/172137d59604f06ceaa15e7c6434c592.jpg': (500, 377),\n",
       " 'train/172bb084b4d25fcfe247da525a493e57.jpg': (640, 572),\n",
       " 'train/172fcb0b8bbd67401c9e53e5f9bf39bc.jpg': (500, 333),\n",
       " 'train/17324f3d13ca421725028de23d631e03.jpg': (500, 411),\n",
       " 'train/1732acba109e3b1cf23efca0381c9a32.jpg': (340, 226),\n",
       " 'train/173b54d60d2d75be13416af93098445c.jpg': (334, 500),\n",
       " 'train/173d5eb6a645eee683442be8101d398e.jpg': (500, 333),\n",
       " 'train/174878bb8d33d52381bb3eb36dd1974a.jpg': (665, 617),\n",
       " 'train/174c68c77ca368337e9fc35112d7b842.jpg': (598, 342),\n",
       " 'train/1758bbaf1dba23fd418911be2a2becc2.jpg': (320, 240),\n",
       " 'train/1771e3fccad9cbb33077d779fbe22e4f.jpg': (332, 500),\n",
       " 'train/179bdadf902bf8447e9eebbe63553d24.jpg': (500, 375),\n",
       " 'train/17a2b04e47d6873a13d999bd605d0427.jpg': (375, 500),\n",
       " 'train/17a64c7a240d8c3b208eb371297189a6.jpg': (500, 400),\n",
       " 'train/17a79093473687e2cb3d0cc29c24f3e8.jpg': (500, 375),\n",
       " 'train/17c25d583276276876ecf58c011aff88.jpg': (375, 500),\n",
       " 'train/17c5e8815cf0d086090a07b003b9b036.jpg': (500, 359),\n",
       " 'train/17d2ef6638b31a9be935774b2b873499.jpg': (350, 263),\n",
       " 'train/17e74cb24060ad496aed8ca01f611ba9.jpg': (250, 330),\n",
       " 'train/17f15b80ab3238f1fbe5961286db0eba.jpg': (240, 180),\n",
       " 'train/17f5ba5fee5bbebe781009cf8d3e1809.jpg': (500, 333),\n",
       " 'train/17f69b6a170c33a8786d566f6dc9b8d5.jpg': (380, 253),\n",
       " 'train/1804c9f9d48a34ab283e3a39006936f2.jpg': (500, 333),\n",
       " 'train/18178aae17060733ebce2cff03413a8c.jpg': (500, 375),\n",
       " 'train/18195ce24678ab4e2a3c779d7d5e4fac.jpg': (500, 375),\n",
       " 'train/181e91cb6caf6739478d06231faa053d.jpg': (550, 467),\n",
       " 'train/181fadf5f2222c0791c7a02fad19bab1.jpg': (466, 311),\n",
       " 'train/182c436dd1fbec1c5f4979077ce74659.jpg': (375, 500),\n",
       " 'train/182c9134e07c883dfdc2acfb21184810.jpg': (500, 489),\n",
       " 'train/182e24a6ba14bfc0f109687b22589f57.jpg': (400, 395),\n",
       " 'train/1831f3ce615ffe27a78c5baa362ac677.jpg': (333, 500),\n",
       " 'train/183cf5cc037ccb5079634b7bfaae0a24.jpg': (500, 334),\n",
       " 'train/184710573b8878de902c42b7929ceeb9.jpg': (500, 375),\n",
       " 'train/1852241f20c06eb5d999cd43cc92bbeb.jpg': (500, 375),\n",
       " 'train/1853938d8adf8942d927f5fae8b9ec0c.jpg': (500, 334),\n",
       " 'train/185617e5924c55cede9ecdb7a41c4707.jpg': (700, 519),\n",
       " 'train/1857ac9d2306fc646d4bb817aaa20424.jpg': (350, 263),\n",
       " 'train/185dd9ac0589562442f553cf686783d4.jpg': (500, 375),\n",
       " 'train/1866bec18870abddd279fa4b1f0e126b.jpg': (500, 375),\n",
       " 'train/187eaac78834950c66b5737394cc0f13.jpg': (500, 335),\n",
       " 'train/1880c57a7ac87a232158207581c989df.jpg': (398, 445),\n",
       " 'train/189cc11eaaa9152fffb49e4fa5b14ebd.jpg': (500, 375),\n",
       " 'train/18a44f4dc15b555f67e0e9f1b7aa0613.jpg': (253, 273),\n",
       " 'train/18aa1cff5dc0615c75dec0fcc135be3c.jpg': (375, 500),\n",
       " 'train/18acb0833a0f70b25b772c383a5c49df.jpg': (500, 375),\n",
       " 'train/18b4c97445c5d20d2199b35f9c2043e4.jpg': (328, 300),\n",
       " 'train/18b631157527e14b007e570175c921a3.jpg': (500, 334),\n",
       " 'train/18b79147982f9a14c768a256d3696a16.jpg': (500, 375),\n",
       " 'train/18b9ef12902b52d6801bbc14c0ebd113.jpg': (170, 205),\n",
       " 'train/18bd3e3b7e5d07ea4babb24632b457fb.jpg': (500, 375),\n",
       " 'train/18c6389b08ab61f52298bfd1013e81fa.jpg': (500, 333),\n",
       " 'train/18ca743b62a4d45d5d3eec497a1028a2.jpg': (500, 375),\n",
       " 'train/18df427d731afe01ec6434d24f1ea381.jpg': (500, 324),\n",
       " 'train/18fa3a34649877d88173d1e3c05c12ff.jpg': (500, 227),\n",
       " 'train/19093c74765bbc1531962c46c2bc6197.jpg': (375, 500),\n",
       " 'train/19205fceb3eb41ba27f1b0b946934789.jpg': (500, 397),\n",
       " 'train/1928d59eba4b9470a8fb79eb56041c42.jpg': (500, 375),\n",
       " 'train/19299f2fae5ea3f66ee61b38d97167d0.jpg': (956, 1368),\n",
       " 'train/1929eb9a7cf1fe75c0731a27545d8893.jpg': (320, 492),\n",
       " 'train/19338a74e8e5a84e1c4bdd59309507a5.jpg': (500, 363),\n",
       " 'train/1935abc5226ad6d2cdcaed722d685623.jpg': (500, 375),\n",
       " 'train/193a30f0f345b1d335f24aa8657f4458.jpg': (500, 375),\n",
       " 'train/193e6325dad77ffdc789c0827dbc228b.jpg': (500, 375),\n",
       " 'train/193febd185d575924192c0f989076cd3.jpg': (435, 500),\n",
       " 'train/196586cdb571b583d65533c64fee85f6.jpg': (500, 333),\n",
       " 'train/197c5a3fe9af1bb08d5a19be04d5419b.jpg': (375, 500),\n",
       " 'train/197ec7eddccac0c672141018bd63ae59.jpg': (500, 333),\n",
       " 'train/19824021ae3bb47d0ed1069c78633c6c.jpg': (493, 500),\n",
       " 'train/19836230f52797b4d2221ca670ee6db7.jpg': (500, 375),\n",
       " 'train/1986d8c21c77b80cd81c2b2e1fe24665.jpg': (480, 480),\n",
       " 'train/19913fd83b0011c107db05f1b739d1a5.jpg': (500, 333),\n",
       " 'train/19a845cb10c06885ee147501491a65c9.jpg': (320, 211),\n",
       " 'train/19a8c1698819d382c3ead14bdc1a360b.jpg': (137, 125),\n",
       " 'train/19ac75060dec82ee4c5a72b003e977f2.jpg': (334, 500),\n",
       " 'train/19c0f716ccb733fb5881e47e3644a1bf.jpg': (500, 400),\n",
       " 'train/19cd5d0eb4cd70e2a7b1b65cd097c7b9.jpg': (500, 375),\n",
       " 'train/19de1db12b3ddc7f2af6d9453c977083.jpg': (500, 384),\n",
       " 'train/19f97faa7cf9e8efe2d92c0162f7043a.jpg': (500, 458),\n",
       " 'train/19fb6b46c01c27f8cdc3b8245875707f.jpg': (535, 600),\n",
       " 'train/19fd98408baa882087628bdf39d9d98c.jpg': (500, 375),\n",
       " 'train/1a012faf98b32039adc17ee708bcb360.jpg': (200, 150),\n",
       " 'train/1a02f01110c17bfde79e92cd0a7b4e64.jpg': (806, 762),\n",
       " 'train/1a0a76e482a7963a008e29977d48aad4.jpg': (432, 325),\n",
       " 'train/1a0c7c29748d91638f4aa08d00c0294e.jpg': (500, 381),\n",
       " 'train/1a10e334ddc6c8a2cd20e0e48a9f7ddb.jpg': (1250, 765),\n",
       " 'train/1a1276cf82c2a5dbc9c8d732a795caeb.jpg': (350, 354),\n",
       " 'train/1a1539a4f40e4417dd88ffee4a255175.jpg': (500, 375),\n",
       " 'train/1a15be6688dbe57ebab56b735bbe29f6.jpg': (500, 375),\n",
       " 'train/1a232b490fde0c962aa1fd7f02175e19.jpg': (312, 500),\n",
       " 'train/1a3a594c4fef6d92c9d112a6de31def3.jpg': (500, 375),\n",
       " 'train/1a42e083f36285dbc8f8f6f4d4122ecf.jpg': (405, 360),\n",
       " 'train/1a4384c7ec054a88d81f8f6ee6901a56.jpg': (500, 375),\n",
       " 'train/1a48129bed7d0075f2abba90fa9b7994.jpg': (500, 375),\n",
       " 'train/1a4c781b696cf2b51d9869bad308578c.jpg': (280, 206),\n",
       " 'train/1a5c5ce1891d990984cf1f7d1016122a.jpg': (313, 344),\n",
       " 'train/1a5dd02401d05d66bbc9eb1e13a096fc.jpg': (468, 350),\n",
       " 'train/1a62a5420f6cb1e0cae9a8aa7a505d43.jpg': (500, 375),\n",
       " 'train/1a646db2bcd4bc5d0ddf52d24ef99e12.jpg': (500, 333),\n",
       " 'train/1a73a13d9f2afa549299a725ab564ab9.jpg': (500, 295),\n",
       " 'train/1a791138acb17fa1d719b4870a61dad9.jpg': (500, 375),\n",
       " 'train/1a8a76a7bcc83f2ec151c83753945ac0.jpg': (500, 333),\n",
       " 'train/1a8d6993ec28618571b26ab7fa7d170d.jpg': (500, 334),\n",
       " 'train/1a8e795682c930d9c2a953495cdaa54e.jpg': (500, 375),\n",
       " 'train/1a9558cf1f87cc4a5fb374681979d100.jpg': (375, 500),\n",
       " 'train/1a98c368ffb2822653ff93475c73deb7.jpg': (500, 375),\n",
       " 'train/1a9e5726b767281f2d5b2ed8aa593e23.jpg': (500, 375),\n",
       " 'train/1aa93eed3e45396d5fb4397821160317.jpg': (421, 405),\n",
       " 'train/1ac99811729824259ded81d3bbed7762.jpg': (500, 375),\n",
       " 'train/1ad234ed7e26a66994dc71c89cb9810a.jpg': (500, 375),\n",
       " 'train/1ad2abdf8ee8ab02193bb0102ec66342.jpg': (250, 340),\n",
       " 'train/1ad4c64d20aac8176f0136122754344c.jpg': (456, 500),\n",
       " 'train/1ad61e0aa827fe8f39e5592523ded6d7.jpg': (500, 375),\n",
       " 'train/1ad70c17e5e38db454ec75b711ce73ad.jpg': (500, 375),\n",
       " 'train/1adf573efd5f90c4b11be12afbf66e3d.jpg': (500, 375),\n",
       " 'train/1ae80c7e781d72681bc8e582a703919d.jpg': (357, 500),\n",
       " 'train/1af14f734087da9b1405f8f02a4374b1.jpg': (500, 333),\n",
       " 'train/1af97b8477a0d9533985feb33aa704d8.jpg': (350, 181),\n",
       " 'train/1b20097c91be4734961d8e865e414d7e.jpg': (500, 400),\n",
       " 'train/1b23140bf99ab3a7a82ddefc64dff361.jpg': (500, 333),\n",
       " 'train/1b26fc0e227488f288c753c84a88ca6c.jpg': (500, 486),\n",
       " 'train/1b288bf18ec66fa70a3eb5d8552bec2b.jpg': (500, 375),\n",
       " 'train/1b2ad6fc60a6c5238d9e0a5863d310fa.jpg': (320, 240),\n",
       " 'train/1b37f69ec68a20db70bd073486fb5a3c.jpg': (400, 400),\n",
       " 'train/1b507c0901420f8aa4e8d1fea74a1372.jpg': (500, 375),\n",
       " 'train/1b76becb2169926fe23222b7adf180be.jpg': (375, 500),\n",
       " 'train/1b7cb7dc162a25d4f264eaf04ba3ddcc.jpg': (334, 500),\n",
       " 'train/1b801c3bdbb2c85e30cbefb641878005.jpg': (225, 227),\n",
       " 'train/1b85a40f3c79e9d94e975216792ef52d.jpg': (500, 375),\n",
       " 'train/1b867fadec45eff791f54f5ac990d212.jpg': (500, 375),\n",
       " 'train/1b8952fc908713b62031eb5ca161701e.jpg': (500, 333),\n",
       " 'train/1b8ed338ec992b0f951a165dd4d53336.jpg': (425, 283),\n",
       " 'train/1b928ff14f47ec7d6bd5a2222191bd4c.jpg': (500, 366),\n",
       " 'train/1ba6f0bfea9b9313b16472227b8f15ec.jpg': (500, 375),\n",
       " 'train/1bd0028d5ec833dd2122122eac4bab0f.jpg': (333, 500),\n",
       " 'train/1bd64e555efe17f93bb21cbcd47bca02.jpg': (2048, 1536),\n",
       " 'train/1bd8bbf78f1e60ace3f5d18090ac022c.jpg': (500, 375),\n",
       " 'train/1bdd7be5d86db9f293136bc94338e667.jpg': (500, 500),\n",
       " 'train/1be27f54de511e20b6a9ffa6644f1842.jpg': (500, 375),\n",
       " 'train/1bf7434edd621126af61b0a7b74177c8.jpg': (500, 375),\n",
       " 'train/1c04490a72706a3e0cf860cdf71f7c44.jpg': (375, 500),\n",
       " 'train/1c0d254ae49836d3365bec5e9f663550.jpg': (500, 375),\n",
       " 'train/1c0d38d23888da863dbb28b5db1cc4af.jpg': (227, 344),\n",
       " 'train/1c0e69013f7ff196a1abed88a7e65b5f.jpg': (170, 200),\n",
       " 'train/1c0eec60d22d5e50a057f261d54523d1.jpg': (375, 500),\n",
       " 'train/1c0f3ab121461b604ec2bbdf648c2bb6.jpg': (600, 512),\n",
       " 'train/1c19c153884645b9400a3af284d7b2d4.jpg': (295, 269),\n",
       " 'train/1c20c716aea18bf3ae6240b2ba2e0f90.jpg': (500, 333),\n",
       " 'train/1c260556d4aa1a18f7b50a78689c92e6.jpg': (500, 339),\n",
       " 'train/1c29101a4c4cbd41b1666082d226cfd0.jpg': (500, 375),\n",
       " 'train/1c2cc24dd7a94cf6ca34b7c9231dd1ce.jpg': (240, 184),\n",
       " 'train/1c2ddf30a98d15827d70761973678444.jpg': (250, 209),\n",
       " 'train/1c32819dd77f0ae25c700670d4d054dc.jpg': (160, 200),\n",
       " 'train/1c422e6f57d4227ae5d25b7cdb1435b3.jpg': (500, 375),\n",
       " 'train/1c49a72fdc9f22fb3efdc3477ccb9282.jpg': (600, 800),\n",
       " 'train/1c4b1ca01852b8ff6fca6debce1fd229.jpg': (500, 334),\n",
       " 'train/1c5575083fe9e346d66eac01d2cc5480.jpg': (334, 500),\n",
       " 'train/1c564272c2c290a83bf4a520359cfd5c.jpg': (500, 375),\n",
       " 'train/1c5cf83dbdb32e8bedb5e90d42f653b8.jpg': (500, 400),\n",
       " 'train/1c6efdb63d5d69d9a40c572b48d21278.jpg': (491, 500),\n",
       " 'train/1c8d28b7bb59a685a201e7adbd6d3563.jpg': (500, 333),\n",
       " 'train/1ca564d94dd35571de3b90d24c6f80ec.jpg': (500, 375),\n",
       " 'train/1ca968b47f96eae326ba0d7428584e6d.jpg': (371, 500),\n",
       " 'train/1caded15d1b633293fb3350238fdcea5.jpg': (500, 333),\n",
       " 'train/1cb0e898706f9ce220a52561f5a25f85.jpg': (500, 375),\n",
       " 'train/1cb81d1bbaa7d0c550281979b853491c.jpg': (500, 375),\n",
       " 'train/1cb97451ed7b29f5328fa1c172c62361.jpg': (500, 375),\n",
       " 'train/1ccdec00a47e2dd48976e2962f19c9a4.jpg': (500, 333),\n",
       " 'train/1cd45fce1051908a08205b7dfc644efc.jpg': (200, 192),\n",
       " 'train/1ce3cf17de2be8876ade2790d6ee5282.jpg': (376, 500),\n",
       " 'train/1cf4f0cb127327c2c84073efab3ce1ef.jpg': (311, 449),\n",
       " 'train/1cfaaf0b4ea4e7c0f63e9d047ae06a2d.jpg': (500, 396),\n",
       " 'train/1d114c4409c9cba464f762b11ce47d57.jpg': (375, 500),\n",
       " 'train/1d1584d7fb1d92bae311a7e436829e08.jpg': (500, 439),\n",
       " 'train/1d20f72a1d4152be4f98e78d499c4e74.jpg': (500, 375),\n",
       " 'train/1d25a5b2fb305047bfef877b77af6a36.jpg': (375, 500),\n",
       " 'train/1d2c069aa91e2818f1a45a7ea1892e9c.jpg': (332, 500),\n",
       " 'train/1d2dd09cd196f0df53134537122bd3ae.jpg': (500, 333),\n",
       " 'train/1d2ec10745124186e6e09c70cbe7a0fc.jpg': (500, 353),\n",
       " 'train/1d414293940cdc0892721eb94151ddfd.jpg': (500, 333),\n",
       " 'train/1d499d102adc9f6b8b660fbe96f57d5a.jpg': (346, 500),\n",
       " 'train/1d4e68d2b2f916dd37ef06c809e3bb88.jpg': (500, 375),\n",
       " 'train/1d4e6e2f6ec3e11ada0974a94119b076.jpg': (500, 375),\n",
       " 'train/1d58cdc6a713925388daf1757fbca83e.jpg': (360, 286),\n",
       " 'train/1d6a3bd059b637ffcb32b4b7bc4067cb.jpg': (500, 375),\n",
       " 'train/1d6c30ffca8a109fa3ad47ec485d21d7.jpg': (275, 196),\n",
       " 'train/1d75b0cf9ad1bd98e84bb5d0d4d3ac0f.jpg': (500, 474),\n",
       " 'train/1d7e21514b5bba48a16928a3d3129fe5.jpg': (500, 429),\n",
       " 'train/1d8279104144342e99d296432d3a5795.jpg': (500, 375),\n",
       " 'train/1d90999b84c12bce58f0157fbbd530cb.jpg': (375, 500),\n",
       " 'train/1d9246c677dda341b5da58a0a3af98d6.jpg': (500, 275),\n",
       " 'train/1d92a0059bd7c969d0ad0e00c3c6d7ba.jpg': (625, 469),\n",
       " 'train/1d941ae00a3e93cdda72589783a50129.jpg': (500, 375),\n",
       " 'train/1d9607466ffdcc47edf53d377fbbf6d2.jpg': (500, 334),\n",
       " 'train/1da98c9c285b5a47dac2f31917a24b11.jpg': (500, 333),\n",
       " 'train/1db6673169b83ed310c140a7ecea695d.jpg': (334, 500),\n",
       " 'train/1dba10683484b98ec59cbd5c998a0dad.jpg': (500, 325),\n",
       " 'train/1dc08faffb5d49f608ebffe5f293e67b.jpg': (500, 375),\n",
       " 'train/1dc44c282163994a08cc05a9c082f960.jpg': (500, 499),\n",
       " 'train/1dc49198d8a33372c106640a387dbefc.jpg': (447, 347),\n",
       " 'train/1dc74ff3e3b700d8037f6670808afa85.jpg': (500, 380),\n",
       " 'train/1dd157eb81bd16a7c44b923aff1c1815.jpg': (371, 500),\n",
       " 'train/1dd2a2f01deb67aa5319c6ef41eb5d3c.jpg': (500, 374),\n",
       " 'train/1dd2cef96311451ff368a1b49babd1d1.jpg': (500, 357),\n",
       " 'train/1dd650ee2df0ec8bd9bc8c38f94b2bcf.jpg': (500, 375),\n",
       " 'train/1de3d9144ab097bf42870feac3c79201.jpg': (500, 333),\n",
       " 'train/1de5f24f4c532d111be28b0904d5fe2e.jpg': (375, 500),\n",
       " 'train/1decd112d5da8b3b93ebdca52c5d5299.jpg': (500, 333),\n",
       " 'train/1df0f10b95f1ce47d718b2ba11843c1f.jpg': (250, 188),\n",
       " 'train/1dfb101ad18e5d4f10ebe6ba67678756.jpg': (381, 253),\n",
       " 'train/1e06d7f87fc2c11ac1c7ae10c10d5e63.jpg': (500, 375),\n",
       " 'train/1e0b723f0cfc7f729b4aa02743661714.jpg': (500, 357),\n",
       " 'train/1e12e4d3eb4a6e201683879671d7cf0a.jpg': (500, 335),\n",
       " 'train/1e13c36312eb9bd585e725f569f4fd1c.jpg': (500, 361),\n",
       " 'train/1e14173eda9a61af5ebe08fcff82ca1c.jpg': (300, 176),\n",
       " 'train/1e1650836e5d0dc6b49b2d3c91b36d59.jpg': (500, 335),\n",
       " 'train/1e1957207dd882f56c1b0b6e7fb3e147.jpg': (500, 375),\n",
       " 'train/1e22e0538fb7aa3e9ffa72fc8244c182.jpg': (375, 500),\n",
       " 'train/1e3326ef4b8c3f9410f55b4bc486b0c6.jpg': (250, 344),\n",
       " 'train/1e3f997fe2ab336614540a721a0052e8.jpg': (454, 500),\n",
       " 'train/1e44a9c130807d1413e7d9ef052fb338.jpg': (500, 375),\n",
       " 'train/1e4c6a2caedfec81de49eea2ee570fcf.jpg': (332, 500),\n",
       " 'train/1e50e6fdf8cb68b58b9c4a5553efb9bf.jpg': (333, 500),\n",
       " 'train/1e597523107666ef5152d4006a9fd7c2.jpg': (500, 333),\n",
       " 'train/1e5ce138280eabd214664398f19491b3.jpg': (346, 218),\n",
       " 'train/1e69f2ee565c49854da8d9fb6ac6264b.jpg': (500, 434),\n",
       " 'train/1e6f959d5a68ca5564ece4301b9a59c1.jpg': (500, 375),\n",
       " 'train/1e7146baafda5edbd4e9abdf08f728fa.jpg': (500, 399),\n",
       " 'train/1e7385f68662ed9730901fa81455f43c.jpg': (200, 234),\n",
       " 'train/1e7a5a361d584ce7bf21bf608483515a.jpg': (375, 500),\n",
       " 'train/1e95ba957cc6f8cf9094c952250cf24e.jpg': (500, 333),\n",
       " 'train/1e998f09db4f87eebc1fd5cbafd4aca7.jpg': (500, 375),\n",
       " 'train/1e99c23d5ce88bc408cb8c1111d86796.jpg': (333, 500),\n",
       " 'train/1ea791cf25489ef0469b4d61ff7eeb38.jpg': (500, 375),\n",
       " 'train/1ea7adfd17a58475b764cc95431e2315.jpg': (380, 310),\n",
       " 'train/1eaaf8702c8045c22dad605062d17986.jpg': (500, 375),\n",
       " 'train/1eb1c5f3d6b335b16c27738abd943008.jpg': (320, 350),\n",
       " 'train/1eb28a82080de0447017caf4d03d3934.jpg': (281, 500),\n",
       " 'train/1ebf07f4fc0f44b6befec9aa3cd8adbb.jpg': (375, 500),\n",
       " 'train/1ec76628ff231ec226da907f1ff0df67.jpg': (500, 331),\n",
       " 'train/1ede5aa5f18e1ed971b129195976b170.jpg': (225, 225),\n",
       " 'train/1ee0c041d15647e3909625eba419f153.jpg': (266, 214),\n",
       " 'train/1ef5e8db93701b28e1203ecd7e1baf37.jpg': (500, 333),\n",
       " 'train/1f0009002cd89d41b30791766bbf9102.jpg': (500, 375),\n",
       " 'train/1f23cfc7a7a6e62870a3bc75e33a82dc.jpg': (400, 300),\n",
       " 'train/1f24500ff34c1d73728852b92a2d3ec4.jpg': (500, 375),\n",
       " 'train/1f249e94a204f4daf5946350cf116448.jpg': (500, 333),\n",
       " 'train/1f28d7c98a4da02fb1b98ac45f2fe103.jpg': (197, 177),\n",
       " 'train/1f3e7116441cb09772ddf3ed3cb45dad.jpg': (500, 337),\n",
       " 'train/1f443edbd2a9e5a77be5d14262b8bd66.jpg': (500, 332),\n",
       " 'train/1f5547307d94808863edbbeeab45ebee.jpg': (600, 496),\n",
       " 'train/1f6ae325f91713701c9ae3d8ea6714fd.jpg': (425, 500),\n",
       " 'train/1f705dd3c8f4c66cb14b706990b80bc5.jpg': (500, 382),\n",
       " 'train/1f71ad688af967118708c855ca975594.jpg': (375, 500),\n",
       " 'train/1f747c2fa6f1984c04bbeebf3b97556a.jpg': (500, 327),\n",
       " 'train/1f7cf21f817c33782188d57fb12a4628.jpg': (500, 388),\n",
       " 'train/1f80a26289896fac1169e49e02dcff1b.jpg': (480, 360),\n",
       " 'train/1f825609b43784e073b718ec559ed397.jpg': (300, 245),\n",
       " 'train/1f913ada2a4fdb5b237112014087d5dc.jpg': (500, 500),\n",
       " 'train/1fa23d3d5aeaefcabb88d84db1264b64.jpg': (395, 500),\n",
       " 'train/1fa34ed77b77aaedb62094d6fa82bda8.jpg': (500, 375),\n",
       " 'train/1fa58b790c9e191f23dfbad962236f25.jpg': (279, 500),\n",
       " 'train/1fa82619012d8693282ace6d05e81ccd.jpg': (397, 450),\n",
       " 'train/1fbe78c5135f73d021aaa756ca69fe95.jpg': (500, 375),\n",
       " ...}"
      ]
     },
     "execution_count": 40,
     "metadata": {},
     "output_type": "execute_result"
    }
   ],
   "source": [
    "size_d={k : PIL.Image.open(PATH+k).size  for k in data.trn_ds.fnames}\n",
    "size_d"
   ]
  },
  {
   "cell_type": "code",
   "execution_count": 41,
   "metadata": {
    "collapsed": true,
    "hidden": true
   },
   "outputs": [],
   "source": [
    "row_sz,col_sz= list(zip(*(size_d.values())))"
   ]
  },
  {
   "cell_type": "code",
   "execution_count": 42,
   "metadata": {
    "collapsed": true,
    "hidden": true
   },
   "outputs": [],
   "source": [
    "row_sz=np.array(row_sz) ; col_sz=np.array(col_sz)"
   ]
  },
  {
   "cell_type": "markdown",
   "metadata": {
    "hidden": true
   },
   "source": [
    "using , we can print 2 values at the same time."
   ]
  },
  {
   "cell_type": "code",
   "execution_count": 43,
   "metadata": {
    "hidden": true
   },
   "outputs": [
    {
     "data": {
      "text/plain": [
       "(array([500, 500, 500, 500, 500]), array([375, 375, 500, 375, 470]))"
      ]
     },
     "execution_count": 43,
     "metadata": {},
     "output_type": "execute_result"
    }
   ],
   "source": [
    "row_sz[:5], col_sz[:5]"
   ]
  },
  {
   "cell_type": "code",
   "execution_count": 44,
   "metadata": {
    "hidden": true
   },
   "outputs": [
    {
     "data": {
      "text/plain": [
       "(array([3023., 5024.,   92.,   15.,    5.,    3.,   13.,    2.,    0.,    1.]),\n",
       " array([  97. ,  413.7,  730.4, 1047.1, 1363.8, 1680.5, 1997.2, 2313.9, 2630.6, 2947.3, 3264. ]),\n",
       " <a list of 10 Patch objects>)"
      ]
     },
     "execution_count": 44,
     "metadata": {},
     "output_type": "execute_result"
    },
    {
     "data": {
      "image/png": "[encoded data removed]",
      "text/plain": [
       "<Figure size 432x288 with 1 Axes>"
      ]
     },
     "metadata": {},
     "output_type": "display_data"
    }
   ],
   "source": [
    "plt.hist(row_sz)"
   ]
  },
  {
   "cell_type": "code",
   "execution_count": 45,
   "metadata": {
    "hidden": true
   },
   "outputs": [
    {
     "data": {
      "text/plain": [
       "(array([ 135.,  592., 1347., 1164., 4599.,  128.,   76.,   62.,   14.,   11.]),\n",
       " array([ 97. , 185.5, 274. , 362.5, 451. , 539.5, 628. , 716.5, 805. , 893.5, 982. ]),\n",
       " <a list of 10 Patch objects>)"
      ]
     },
     "execution_count": 45,
     "metadata": {},
     "output_type": "execute_result"
    },
    {
     "data": {
      "image/png": "[encoded data removed]",
      "text/plain": [
       "<Figure size 432x288 with 1 Axes>"
      ]
     },
     "metadata": {},
     "output_type": "display_data"
    }
   ],
   "source": [
    "plt.hist(row_sz[row_sz<1000])"
   ]
  },
  {
   "cell_type": "markdown",
   "metadata": {
    "hidden": true
   },
   "source": [
    "most of the images are about size 500 , you can see in printed array above graph 5th number is 4599 i.e approx 4599 images have width 500."
   ]
  },
  {
   "cell_type": "code",
   "execution_count": 46,
   "metadata": {
    "hidden": true
   },
   "outputs": [
    {
     "data": {
      "text/plain": [
       "(array([2870., 5121.,  128.,   25.,   10.,   15.,    5.,    2.,    0.,    2.]),\n",
       " array([ 102.,  348.,  594.,  840., 1086., 1332., 1578., 1824., 2070., 2316., 2562.]),\n",
       " <a list of 10 Patch objects>)"
      ]
     },
     "execution_count": 46,
     "metadata": {},
     "output_type": "execute_result"
    },
    {
     "data": {
      "image/png": "[encoded data removed]",
      "text/plain": [
       "<Figure size 432x288 with 1 Axes>"
      ]
     },
     "metadata": {},
     "output_type": "display_data"
    }
   ],
   "source": [
    "plt.hist(col_sz)"
   ]
  },
  {
   "cell_type": "code",
   "execution_count": 47,
   "metadata": {
    "hidden": true
   },
   "outputs": [
    {
     "data": {
      "text/plain": [
       "(array([ 235.,  733., 2205., 2979., 1807.,   98.,   27.,   33.,    7.,   10.]),\n",
       " array([102., 190., 278., 366., 454., 542., 630., 718., 806., 894., 982.]),\n",
       " <a list of 10 Patch objects>)"
      ]
     },
     "execution_count": 47,
     "metadata": {},
     "output_type": "execute_result"
    },
    {
     "data": {
      "image/png": "[encoded data removed]",
      "text/plain": [
       "<Figure size 432x288 with 1 Axes>"
      ]
     },
     "metadata": {},
     "output_type": "display_data"
    }
   ],
   "source": [
    "plt.hist(col_sz[col_sz<1000])"
   ]
  },
  {
   "cell_type": "markdown",
   "metadata": {
    "hidden": true
   },
   "source": [
    "most of the images are about size 250 to 450 , you can see in printed array above graph 2205,2979,1807 i.e resp approx those many images have height 300 to 400."
   ]
  },
  {
   "cell_type": "code",
   "execution_count": 48,
   "metadata": {
    "hidden": true
   },
   "outputs": [
    {
     "data": {
      "text/plain": [
       "8178"
      ]
     },
     "execution_count": 48,
     "metadata": {},
     "output_type": "execute_result"
    }
   ],
   "source": [
    "len(data.trn_ds)# , len(data.test_ds)"
   ]
  },
  {
   "cell_type": "code",
   "execution_count": 49,
   "metadata": {
    "hidden": true
   },
   "outputs": [
    {
     "data": {
      "text/plain": [
       "(120,\n",
       " ['affenpinscher',\n",
       "  'afghan_hound',\n",
       "  'african_hunting_dog',\n",
       "  'airedale',\n",
       "  'american_staffordshire_terrier'])"
      ]
     },
     "execution_count": 49,
     "metadata": {},
     "output_type": "execute_result"
    }
   ],
   "source": [
    "len(data.classes), data.classes[:5]"
   ]
  },
  {
   "cell_type": "markdown",
   "metadata": {
    "heading_collapsed": true
   },
   "source": [
    "### Create validation set"
   ]
  },
  {
   "cell_type": "code",
   "execution_count": 50,
   "metadata": {
    "hidden": true
   },
   "outputs": [
    {
     "data": {
      "text/plain": [
       "(10222, 2044)"
      ]
     },
     "execution_count": 50,
     "metadata": {},
     "output_type": "execute_result"
    }
   ],
   "source": [
    "labels=f'{PATH}/labels.csv'\n",
    "n=len(list(open(labels)))-1 #open labels file and make into list of filenames and count it -1 bcz there is a header\n",
    "val_idxs=get_cv_idxs(n) # get random 20% of indexes of file names to be used for validation ; get cross-validation indexes\n",
    "n,len(val_idxs)"
   ]
  },
  {
   "cell_type": "code",
   "execution_count": 51,
   "metadata": {
    "hidden": true
   },
   "outputs": [
    {
     "data": {
      "text/plain": [
       "array([2882, 4514, 7717, ..., 8922, 6774,   37])"
      ]
     },
     "execution_count": 51,
     "metadata": {},
     "output_type": "execute_result"
    }
   ],
   "source": [
    "val_idxs"
   ]
  },
  {
   "cell_type": "markdown",
   "metadata": {
    "heading_collapsed": true
   },
   "source": [
    "### Recheck image size and Load the data  \n",
    "side should be on no upside down since cat or dog can never be seen upside down.\n",
    "load data into dataset call data loader\n",
    "check for the image size if size is above 300 return original image else resize it to 340 and rename it to tmp."
   ]
  },
  {
   "cell_type": "code",
   "execution_count": 52,
   "metadata": {
    "collapsed": true,
    "hidden": true
   },
   "outputs": [],
   "source": [
    "def get_data(image_size,batch_size):\n",
    "    tfms = tfms_from_model(arch, image_size, aug_tfms=transforms_side_on, max_zoom=1.1)\n",
    "    data = ImageClassifierData.from_csv(PATH, folder='train', csv_fname=f'{PATH}/labels.csv',suffix='.jpg',\n",
    "                                        test_name='test', tfms=tfms, bs=batch_size, num_workers=4)\n",
    "    return data if image_size>300 else data.resize(340,'tmp')"
   ]
  },
  {
   "cell_type": "code",
   "execution_count": 53,
   "metadata": {
    "hidden": true
   },
   "outputs": [
    {
     "data": {
      "application/vnd.jupyter.widget-view+json": {
       "model_id": "f281377f88ff413c9f97a625a51ac8d4",
       "version_major": 2,
       "version_minor": 0
      },
      "text/plain": [
       "HBox(children=(IntProgress(value=0, max=6), HTML(value='')))"
      ]
     },
     "metadata": {},
     "output_type": "display_data"
    },
    {
     "name": "stdout",
     "output_type": "stream",
     "text": [
      "\n"
     ]
    }
   ],
   "source": [
    "data=get_data(image_size,batch_size)"
   ]
  },
  {
   "cell_type": "markdown",
   "metadata": {
    "heading_collapsed": true
   },
   "source": [
    "### Define Model and train it"
   ]
  },
  {
   "cell_type": "code",
   "execution_count": 54,
   "metadata": {
    "collapsed": true,
    "hidden": true
   },
   "outputs": [],
   "source": [
    "learn = ConvLearner.pretrained(arch, data, precompute=True, ps=0.5)"
   ]
  },
  {
   "cell_type": "code",
   "execution_count": 55,
   "metadata": {
    "hidden": true
   },
   "outputs": [
    {
     "data": {
      "application/vnd.jupyter.widget-view+json": {
       "model_id": "28027275eb3940d39c34871aff65115a",
       "version_major": 2,
       "version_minor": 0
      },
      "text/plain": [
       "HBox(children=(IntProgress(value=0, description='Epoch', max=5), HTML(value='')))"
      ]
     },
     "metadata": {},
     "output_type": "display_data"
    },
    {
     "name": "stdout",
     "output_type": "stream",
     "text": [
      "epoch      trn_loss   val_loss   accuracy                     \n",
      "    0      0.732111   0.333553   0.894325  \n",
      "    1      0.479254   0.301541   0.901663                     \n",
      "    2      0.399999   0.294185   0.909002                     \n",
      "    3      0.265956   0.270955   0.914384                     \n",
      "    4      0.242687   0.283732   0.914384                     \n",
      "\n"
     ]
    },
    {
     "data": {
      "text/plain": [
       "[array([0.28373]), 0.9143835616438356]"
      ]
     },
     "execution_count": 55,
     "metadata": {},
     "output_type": "execute_result"
    }
   ],
   "source": [
    "learn.fit(0.01, 5)"
   ]
  },
  {
   "cell_type": "code",
   "execution_count": 56,
   "metadata": {
    "hidden": true
   },
   "outputs": [
    {
     "data": {
      "application/vnd.jupyter.widget-view+json": {
       "model_id": "d61638bc87a8497a941317f49e485cab",
       "version_major": 2,
       "version_minor": 0
      },
      "text/plain": [
       "HBox(children=(IntProgress(value=0, max=6), HTML(value='')))"
      ]
     },
     "metadata": {},
     "output_type": "display_data"
    },
    {
     "name": "stdout",
     "output_type": "stream",
     "text": [
      "\n"
     ]
    }
   ],
   "source": [
    "data=get_data(image_size,batch_size)"
   ]
  },
  {
   "cell_type": "code",
   "execution_count": 57,
   "metadata": {
    "hidden": true
   },
   "outputs": [
    {
     "data": {
      "application/vnd.jupyter.widget-view+json": {
       "model_id": "00de4029615847a1b950c92c011f4429",
       "version_major": 2,
       "version_minor": 0
      },
      "text/plain": [
       "HBox(children=(IntProgress(value=0, description='Epoch', max=1), HTML(value='')))"
      ]
     },
     "metadata": {},
     "output_type": "display_data"
    },
    {
     "name": "stdout",
     "output_type": "stream",
     "text": [
      " 78%|███████▊  | 397/512 [00:03<00:01, 108.83it/s, loss=7.59]\n",
      "                                                             \r"
     ]
    }
   ],
   "source": [
    "learn = ConvLearner.pretrained(arch, data, precompute=True)\n",
    "lrf=learn.lr_find()"
   ]
  },
  {
   "cell_type": "code",
   "execution_count": 58,
   "metadata": {
    "hidden": true
   },
   "outputs": [
    {
     "data": {
      "image/png": "[encoded data removed]",
      "text/plain": [
       "<Figure size 432x288 with 1 Axes>"
      ]
     },
     "metadata": {},
     "output_type": "display_data"
    }
   ],
   "source": [
    "learn.sched.plot_lr()"
   ]
  },
  {
   "cell_type": "code",
   "execution_count": 59,
   "metadata": {
    "hidden": true
   },
   "outputs": [
    {
     "data": {
      "image/png": "[encoded data removed]",
      "text/plain": [
       "<Figure size 432x288 with 1 Axes>"
      ]
     },
     "metadata": {},
     "output_type": "display_data"
    }
   ],
   "source": [
    "learn.sched.plot()"
   ]
  },
  {
   "cell_type": "code",
   "execution_count": 60,
   "metadata": {
    "collapsed": true,
    "hidden": true
   },
   "outputs": [],
   "source": [
    "learn.precompute=False"
   ]
  },
  {
   "cell_type": "code",
   "execution_count": 61,
   "metadata": {
    "hidden": true
   },
   "outputs": [
    {
     "data": {
      "application/vnd.jupyter.widget-view+json": {
       "model_id": "5ed60cb3fbd847cfab4bd069121c45c9",
       "version_major": 2,
       "version_minor": 0
      },
      "text/plain": [
       "HBox(children=(IntProgress(value=0, description='Epoch', max=5), HTML(value='')))"
      ]
     },
     "metadata": {},
     "output_type": "display_data"
    },
    {
     "name": "stdout",
     "output_type": "stream",
     "text": [
      "epoch      trn_loss   val_loss   accuracy                    \n",
      "    0      0.693043   0.321785   0.900196  \n",
      "    1      0.569754   0.26475    0.91683                     \n",
      "    2      0.456455   0.252739   0.919765                    \n",
      "    3      0.424788   0.257266   0.917319                    \n",
      "    4      0.392404   0.246525   0.920254                    \n",
      "\n"
     ]
    },
    {
     "data": {
      "text/plain": [
       "[array([0.24653]), 0.9202544031311155]"
      ]
     },
     "execution_count": 61,
     "metadata": {},
     "output_type": "execute_result"
    }
   ],
   "source": [
    "#we should go for LR=0.01 i.e 10^-2, since after 10^-1 loss is gonna increase\n",
    "learn.fit(1e-2, 5, cycle_len=1)"
   ]
  },
  {
   "cell_type": "code",
   "execution_count": 62,
   "metadata": {
    "collapsed": true,
    "hidden": true
   },
   "outputs": [],
   "source": [
    "learn.save('224_lastlayer')"
   ]
  },
  {
   "cell_type": "code",
   "execution_count": 63,
   "metadata": {
    "collapsed": true,
    "hidden": true
   },
   "outputs": [],
   "source": [
    "learn.load('224_lastlayer')"
   ]
  },
  {
   "cell_type": "markdown",
   "metadata": {
    "heading_collapsed": true
   },
   "source": [
    "### increase image size to fight overfitting"
   ]
  },
  {
   "cell_type": "code",
   "execution_count": 64,
   "metadata": {
    "hidden": true
   },
   "outputs": [
    {
     "data": {
      "application/vnd.jupyter.widget-view+json": {
       "model_id": "45eaf2b8dfd34f76b4bd965aa81789f6",
       "version_major": 2,
       "version_minor": 0
      },
      "text/plain": [
       "HBox(children=(IntProgress(value=0, max=6), HTML(value='')))"
      ]
     },
     "metadata": {},
     "output_type": "display_data"
    },
    {
     "name": "stdout",
     "output_type": "stream",
     "text": [
      "\n"
     ]
    }
   ],
   "source": [
    "learn.set_data(get_data(299,batch_size))\n",
    "learn.freeze()"
   ]
  },
  {
   "cell_type": "code",
   "execution_count": 66,
   "metadata": {
    "hidden": true
   },
   "outputs": [
    {
     "data": {
      "application/vnd.jupyter.widget-view+json": {
       "model_id": "25f079f5b2db4f42a7902cdfff82ad3c",
       "version_major": 2,
       "version_minor": 0
      },
      "text/plain": [
       "HBox(children=(IntProgress(value=0, description='Epoch', max=7), HTML(value='')))"
      ]
     },
     "metadata": {},
     "output_type": "display_data"
    },
    {
     "name": "stdout",
     "output_type": "stream",
     "text": [
      "epoch      trn_loss   val_loss   accuracy                    \n",
      "    0      0.244636   0.23278    0.928571  \n",
      "    1      0.310078   0.23869    0.926614                    \n",
      "    2      0.231163   0.232922   0.923679                    \n",
      "    3      0.209379   0.251006   0.918297                    \n",
      "    4      0.177688   0.248562   0.920744                    \n",
      "    5      0.164732   0.237306   0.922701                    \n",
      "    6      0.15668    0.238452   0.92319                     \n",
      "\n"
     ]
    },
    {
     "data": {
      "text/plain": [
       "[array([0.23845]), 0.9231898238747553]"
      ]
     },
     "execution_count": 66,
     "metadata": {},
     "output_type": "execute_result"
    }
   ],
   "source": [
    "learn.fit(1e-2, 3, cycle_len=1, cycle_mult=2)"
   ]
  },
  {
   "cell_type": "code",
   "execution_count": 67,
   "metadata": {
    "collapsed": true,
    "hidden": true
   },
   "outputs": [],
   "source": [
    "learn.save('299_all')"
   ]
  },
  {
   "cell_type": "code",
   "execution_count": 68,
   "metadata": {
    "collapsed": true,
    "hidden": true
   },
   "outputs": [],
   "source": [
    "learn.load('224_all')"
   ]
  },
  {
   "cell_type": "markdown",
   "metadata": {
    "heading_collapsed": true
   },
   "source": [
    "### Check accuracy on valid set"
   ]
  },
  {
   "cell_type": "code",
   "execution_count": 70,
   "metadata": {
    "hidden": true
   },
   "outputs": [
    {
     "name": "stdout",
     "output_type": "stream",
     "text": [
      "                                             \r"
     ]
    }
   ],
   "source": [
    "log_preds,y = learn.TTA()\n",
    "probs = np.mean(np.exp(log_preds),0)"
   ]
  },
  {
   "cell_type": "code",
   "execution_count": 72,
   "metadata": {
    "hidden": true
   },
   "outputs": [
    {
     "data": {
      "text/plain": [
       "array([[0.     , 0.     , 0.     , ..., 0.     , 0.     , 0.     ],\n",
       "       [0.     , 0.     , 0.     , ..., 0.00003, 0.     , 0.     ],\n",
       "       [0.     , 0.     , 0.     , ..., 0.00001, 0.     , 0.     ],\n",
       "       ...,\n",
       "       [0.00001, 0.     , 0.     , ..., 0.     , 0.00001, 0.00001],\n",
       "       [0.     , 0.     , 0.     , ..., 0.     , 0.00001, 0.     ],\n",
       "       [0.     , 0.     , 0.     , ..., 0.     , 0.     , 0.     ]], dtype=float32)"
      ]
     },
     "execution_count": 72,
     "metadata": {},
     "output_type": "execute_result"
    }
   ],
   "source": [
    "probs"
   ]
  },
  {
   "cell_type": "code",
   "execution_count": 74,
   "metadata": {
    "collapsed": true,
    "hidden": true
   },
   "outputs": [],
   "source": [
    "from sklearn import metrics"
   ]
  },
  {
   "cell_type": "code",
   "execution_count": 73,
   "metadata": {
    "hidden": true
   },
   "outputs": [
    {
     "data": {
      "text/plain": [
       "0.928082191780822"
      ]
     },
     "execution_count": 73,
     "metadata": {},
     "output_type": "execute_result"
    }
   ],
   "source": [
    "accuracy_np(probs, y)"
   ]
  },
  {
   "cell_type": "code",
   "execution_count": 75,
   "metadata": {
    "hidden": true
   },
   "outputs": [
    {
     "data": {
      "text/plain": [
       "(2044, 120)"
      ]
     },
     "execution_count": 75,
     "metadata": {},
     "output_type": "execute_result"
    }
   ],
   "source": [
    "probs.shape"
   ]
  },
  {
   "cell_type": "code",
   "execution_count": 94,
   "metadata": {
    "collapsed": true,
    "hidden": true
   },
   "outputs": [],
   "source": [
    "learn.save('299_all')"
   ]
  },
  {
   "cell_type": "markdown",
   "metadata": {},
   "source": [
    "### Creating submission file using test set"
   ]
  },
  {
   "cell_type": "code",
   "execution_count": 69,
   "metadata": {},
   "outputs": [
    {
     "data": {
      "text/plain": [
       "['test/48affd737a322f7f6b4bf9367a5f3ae4.jpg',\n",
       " 'test/ad8db033602b45cc7006f5e534ca8f08.jpg',\n",
       " 'test/dc8f2d7265bf853fce9e87585cd63853.jpg',\n",
       " 'test/9bb4213b044033a0efffc81fefda6d2b.jpg',\n",
       " 'test/adbea7e1520c940fba5990b23ee9a625.jpg',\n",
       " 'test/c1487e8b751bd17f4ffafacc256c3c8a.jpg',\n",
       " 'test/48c28031abfec1f80d1e1cbbc064d9d5.jpg',\n",
       " 'test/6745cdcdaf788e189b88392e8294f82d.jpg',\n",
       " 'test/60b0ec74de27b2f5d88c26ce9839eb13.jpg',\n",
       " 'test/0fb39410b417652816759e4ae87f5f57.jpg',\n",
       " 'test/e2b808864a5253fd356a9032915447a1.jpg',\n",
       " 'test/a71f9dcc0cad1fac04ce95c3d4303b02.jpg',\n",
       " 'test/2d6b6491c6376e487f40c222079950ba.jpg',\n",
       " 'test/cd1df9dc088633be47adc596dd104656.jpg',\n",
       " 'test/745cf5a1e6bbd3b44dcff5b3733e6827.jpg',\n",
       " 'test/8d243d285e72a16d8c266866f5e6738e.jpg',\n",
       " 'test/03a6a4c713d657d53a804ebe1fb2b02c.jpg',\n",
       " 'test/8e6a11df866b85cfb0f921b7947ae77d.jpg',\n",
       " 'test/e9c38696d381e66971cc328e767fad27.jpg',\n",
       " 'test/5ca64c04f1838d21cb59d75357707b50.jpg',\n",
       " 'test/69e231ddd06ed66f4517f695908c7e6e.jpg',\n",
       " 'test/e0165801e47527205e45295aba441972.jpg',\n",
       " 'test/b7e8ec755947a90b3fa24dbd1666c072.jpg',\n",
       " 'test/062e065c77d4b759619612133e318dbe.jpg',\n",
       " 'test/36ce5815e8443c4716a79c2991ccd378.jpg',\n",
       " 'test/8e132d99a94e8ad63e2dd95bcda13994.jpg',\n",
       " 'test/0467770f34410f3fafd2482342d69f77.jpg',\n",
       " 'test/d2dfaebbd301b80ff290d088d2e7d258.jpg',\n",
       " 'test/7a833e6cd124b0ac3ad1b6eadf9a6831.jpg',\n",
       " 'test/8de2344aa5abe9737fa484afaac5d4c4.jpg',\n",
       " 'test/23a4829b5b7d607f30eb7e707fee5aae.jpg',\n",
       " 'test/9732f374534a7e66d0b4ce6c42f31933.jpg',\n",
       " 'test/6799a8b267302cf26b05b098db473c02.jpg',\n",
       " 'test/4b3f79ad4f44d990cc7456b2d50309e6.jpg',\n",
       " 'test/869a88e06b32026bb6c1e6acfd660aa7.jpg',\n",
       " 'test/ec0ed65df0e457182b62ee172783c574.jpg',\n",
       " 'test/c627411dae091af961dab2988c35923e.jpg',\n",
       " 'test/59d9d60a5a31c64f8db4c4e488283373.jpg',\n",
       " 'test/8c7e7873890d76ec2ad67d1b3e363e74.jpg',\n",
       " 'test/46577805f296f67b837bfd2020b515f8.jpg',\n",
       " 'test/5adbf2ece1619039c165fed5419ef565.jpg',\n",
       " 'test/0cb0cc50ad302ff64f3297ce361ec485.jpg',\n",
       " 'test/d6d08fe634318194555a9419180d4ab0.jpg',\n",
       " 'test/2195c61066cd2f64cc545e9f6cd5b5e1.jpg',\n",
       " 'test/a51c2803972dff8c7fcc17f6b7eda64d.jpg',\n",
       " 'test/d3f0056c97074b1579c31ee159eeb77b.jpg',\n",
       " 'test/aa14c1133c39dad2aefcb6326cb2502d.jpg',\n",
       " 'test/7f596c2a94b0c2d8c63b65193a92ecc1.jpg',\n",
       " 'test/9a698b35679ff4911f4c2a816ca1c1b0.jpg',\n",
       " 'test/b6d38beff7efbd38934e383eecf063be.jpg',\n",
       " 'test/50f60661565a02c5b96f446f089832e6.jpg',\n",
       " 'test/0630bc53549c1169cb9c081907a8cb05.jpg',\n",
       " 'test/3d70661bbb0f333c340567a8e2af0943.jpg',\n",
       " 'test/242752357be60ce41627d0d021d36087.jpg',\n",
       " 'test/5c451b205045be2ba89e5308e0ab505c.jpg',\n",
       " 'test/0df5d0e873f58e89111b5de3d3fab9d2.jpg',\n",
       " 'test/ca113721843e1a2729c11dd421891263.jpg',\n",
       " 'test/bb63eb97ca5067e224c94e625e6e7a5b.jpg',\n",
       " 'test/68c075d18cc938a89f3e583676e8eecb.jpg',\n",
       " 'test/a691b7a71b0ef5c3edc2eb0d0bbd99cb.jpg',\n",
       " 'test/30c178023ea5c8f764c23f689aafe5b4.jpg',\n",
       " 'test/e61cd2626c01dd00117eca55fb099f5d.jpg',\n",
       " 'test/6dc8b801689473766e8ce04031c6bf31.jpg',\n",
       " 'test/ee59d7c0fdd2344e9d6d815f1099ffb1.jpg',\n",
       " 'test/4efacbc76bcd2b3706cc3b908de9ac5b.jpg',\n",
       " 'test/d7097e526f74005277a1aa7288388906.jpg',\n",
       " 'test/118784064864f82da57ee41ede5fd59b.jpg',\n",
       " 'test/301d047419ce77454409aa35c6bca767.jpg',\n",
       " 'test/a128f77a7454f6590a84e974ffd931d9.jpg',\n",
       " 'test/dad366e2e913a285cc77979d53494040.jpg',\n",
       " 'test/41964479d9c08fa097346872a6376121.jpg',\n",
       " 'test/7fbf8b96db35324d6da82d03a367d5e3.jpg',\n",
       " 'test/0ecfbc51c3d5a40221c92a3c54b664b3.jpg',\n",
       " 'test/c5f032be44d94ed33a8e696a23c6ed69.jpg',\n",
       " 'test/e119301e11d4f1620948c3e6f5a3f021.jpg',\n",
       " 'test/fc7c34b64c3dc982db60e50b656983fc.jpg',\n",
       " 'test/0187ee2ec2367ed4fd060cca9681742a.jpg',\n",
       " 'test/20ee82df3bd13f4a70578f41cf2aca36.jpg',\n",
       " 'test/df86ba50c4d0b597af0d23bda37eb10e.jpg',\n",
       " 'test/15e18e644542e0c8777d0cc04d5f1469.jpg',\n",
       " 'test/d48d1fbe42a07cc8df4fbbcc883fed1c.jpg',\n",
       " 'test/e7e9dd51302fe08c1c89a550e183cf07.jpg',\n",
       " 'test/286095a000c66279f3e3061468bf60e4.jpg',\n",
       " 'test/72606f246fda073ed8e8584f54f4574c.jpg',\n",
       " 'test/34aa018fde17798972508df88e799de0.jpg',\n",
       " 'test/98b8f4424417f43bee5d719441bd22d4.jpg',\n",
       " 'test/6f685b838df534b65ca28b19ac31bc50.jpg',\n",
       " 'test/7872772cffddd8a6e2af99c2200ff800.jpg',\n",
       " 'test/c71888540413e080e98d27b3161a7d52.jpg',\n",
       " 'test/bac5e3f6454352aec23245bff7a10612.jpg',\n",
       " 'test/8594ae6003221de99ffbc5d9fa357e34.jpg',\n",
       " 'test/db7039242bb89c485c0fc638a16a4869.jpg',\n",
       " 'test/f3d4b8b4cd50260c89a6d5b29a7e9243.jpg',\n",
       " 'test/91a56212d14e244423bea13c93c77cab.jpg',\n",
       " 'test/ba46139495a97d58b858a63e672a8938.jpg',\n",
       " 'test/ed6d16749ad7dbed282857c6c0cb0b64.jpg',\n",
       " 'test/79be74f33012ba6ee332d35565592c96.jpg',\n",
       " 'test/10f5107a94eaa2355bc66f095e1ee9fc.jpg',\n",
       " 'test/85c78df191958f1751aa118e6d3021aa.jpg',\n",
       " 'test/2e288e4bfd1a82c0772cba27003f9654.jpg',\n",
       " 'test/93e03b53d9abfe662d5da32ea9995ea8.jpg',\n",
       " 'test/631cfa978b97e848b7c37fb5630d84da.jpg',\n",
       " 'test/f5787e3574a4af6a19ff825cf0c32366.jpg',\n",
       " 'test/f62a52631ede45098ecce8fc96e0a2f6.jpg',\n",
       " 'test/8242672e1f875709f0959d6fa7d936bc.jpg',\n",
       " 'test/38fe82e9b160a8ea05467b989acba467.jpg',\n",
       " 'test/30f960fef5fd6547d76d08d09c3f6e2d.jpg',\n",
       " 'test/0415a2754ad5177df59e62a461604c14.jpg',\n",
       " 'test/30173f1ac047f6df75d59fe5f0600018.jpg',\n",
       " 'test/f58b1ce36c59e42dd22be92949fc38a7.jpg',\n",
       " 'test/fc93fec97f158e4320893cef2a4d9168.jpg',\n",
       " 'test/8e3e85e7d95ad085aaf3c945799d53e0.jpg',\n",
       " 'test/2c2954c35e390e69172aa8f2f94def46.jpg',\n",
       " 'test/745689380c8ad557139a5a210ca2b5dd.jpg',\n",
       " 'test/8b42b4de0207ef139154aeb8bbc3e5b2.jpg',\n",
       " 'test/1beac5337b15d515fbbeb16139fcc646.jpg',\n",
       " 'test/14edac8c1c5ff73be5da45c527f756a1.jpg',\n",
       " 'test/682c6aa940b3f0ecc3e196f4a318a548.jpg',\n",
       " 'test/5f0689f1454032a485c455101b4cf2ec.jpg',\n",
       " 'test/f789cfce1b5af285046f91ef48234d0a.jpg',\n",
       " 'test/4570c7efa5bcc2fd264124dd1da55a90.jpg',\n",
       " 'test/c6866b837d54f3f136250e02a79976a0.jpg',\n",
       " 'test/ba19a10e93747cf1c55433f860ea33bf.jpg',\n",
       " 'test/3591ab50c288dc226cb49fbb991404d6.jpg',\n",
       " 'test/25d131ecdf7d4937ee31b248c3d0b5c3.jpg',\n",
       " 'test/7d8ba9bd845b785fffa9ffe31eb5f4ef.jpg',\n",
       " 'test/8fc281faad8daf39c460a97eb8566b62.jpg',\n",
       " 'test/be7afa25c8a5a6bbb6995c217b05c250.jpg',\n",
       " 'test/fc00016dee37d944be852f6e8a1aea0f.jpg',\n",
       " 'test/1df01c807a113eb783542f8eed082ef9.jpg',\n",
       " 'test/f928a71d3356833e8c46734938c04cd7.jpg',\n",
       " 'test/573b952339cffa250a6c02f6b8f73037.jpg',\n",
       " 'test/a8d18860b4b7dfbdb8a1417eb2933084.jpg',\n",
       " 'test/c69f0ab8a0e4a77018c1b72d1db4c46f.jpg',\n",
       " 'test/baa65a5b33ec9dd44dc5d45cc6b6761d.jpg',\n",
       " 'test/21f9d58f2e0525ef045a6ceb1da7b2be.jpg',\n",
       " 'test/19f85012f6cb636e921c947dc7c5b48d.jpg',\n",
       " 'test/5df6418667553eb07d5ac51c247508c6.jpg',\n",
       " 'test/1b6828700205a5552e8ab2464647021f.jpg',\n",
       " 'test/34af2af10752cece1dba74709e2358e7.jpg',\n",
       " 'test/ead8c0e74fb7ddcf05a6395ee06fa9aa.jpg',\n",
       " 'test/0feb3e06b50cada6f4339058eef8d1b0.jpg',\n",
       " 'test/3861de980fd4e17b43fd70dcbdb89a50.jpg',\n",
       " 'test/90ad495de11baabadbd4aeb22b15b507.jpg',\n",
       " 'test/7ef719ad1c8b98ffdaff289c209b470c.jpg',\n",
       " 'test/e241bfdd5cc6154698394905abaa0d76.jpg',\n",
       " 'test/7c76deac2df4449df3c1b74bfce3b18b.jpg',\n",
       " 'test/2f13a80c9269d600951c8a0e4d1c9a81.jpg',\n",
       " 'test/b364a34a1801d72043707e19e668a301.jpg',\n",
       " 'test/dd7fbb397a4968d9ae54d1d7b7a35ae6.jpg',\n",
       " 'test/1727a53c33d666e3734dc7a11d7dd9a1.jpg',\n",
       " 'test/cd45a02af54c609992921dbce154b4b4.jpg',\n",
       " 'test/d14bc7e00b69187953e6ac38209ab19d.jpg',\n",
       " 'test/a282fbb475d0cdba074d432bf257944e.jpg',\n",
       " 'test/54a1746b4d6de2264b219757060fcf47.jpg',\n",
       " 'test/4338b655b34c0548b089958e1574d7f1.jpg',\n",
       " 'test/6bf409049710b8eec50e1aadf7d6585d.jpg',\n",
       " 'test/7f2b26a750113d9d0d1eb146ac649137.jpg',\n",
       " 'test/c5c1b0d3f89b67af07fbd8fbb7865d75.jpg',\n",
       " 'test/9ce856febb7e0ea4b9b377cc853f4897.jpg',\n",
       " 'test/420b64de9488040f9db59d4007aca81f.jpg',\n",
       " 'test/6f0def6129d0660e4eb90c69005b3464.jpg',\n",
       " 'test/73ddacae393d791e492fbdf198b587a7.jpg',\n",
       " 'test/3dee49a01b8d17df02eac0b35dbf2f8a.jpg',\n",
       " 'test/6992e003e462d3b66985448467414118.jpg',\n",
       " 'test/24ea2e01a7cf3250a0fbc6b5a06f6664.jpg',\n",
       " 'test/83dda205bcf1686c54641a5881f9d529.jpg',\n",
       " 'test/27a5ccc9944d0a7081814a481a02a880.jpg',\n",
       " 'test/3c6c36c556ec485187f50d396c6d9419.jpg',\n",
       " 'test/d68c3d1d8aa9c007b4266a217de8b9c2.jpg',\n",
       " 'test/d4c6d9c40b58fc16c0b42532a21406b3.jpg',\n",
       " 'test/8f4210be609c47ccd3c611a106e6c095.jpg',\n",
       " 'test/121af8c54411f9e7459e92b62f9e7767.jpg',\n",
       " 'test/fc50b817f059dbfff5fa1857d7769cc2.jpg',\n",
       " 'test/81aef7ac5a174191b4e0ac53c23136f5.jpg',\n",
       " 'test/cc41015b99b0cf2974a7ce1f6c11a0ff.jpg',\n",
       " 'test/2e71f98fa641e76bcb34cb12dbd1a0f2.jpg',\n",
       " 'test/2d18205817a06a80258495b10047aabd.jpg',\n",
       " 'test/d1d5b398aaee58ef3d6d7cde20cf17ac.jpg',\n",
       " 'test/a68469be22f03d01eba6bd8cc743d75f.jpg',\n",
       " 'test/b958f52751dfc027def9c38dcf7c66ed.jpg',\n",
       " 'test/0c56abba9f7ff87afbbd1021364739af.jpg',\n",
       " 'test/c6cc9ba11d0a94fc4a12e60cfa0f7b77.jpg',\n",
       " 'test/f497ac35b94726e58d6298902794596f.jpg',\n",
       " 'test/5c34695264c092175cb3ee7c218cec4f.jpg',\n",
       " 'test/51ecc75144edc86a0b008cf96d5bdd02.jpg',\n",
       " 'test/8d3a3f80d624dae142d10827ef3c4bfd.jpg',\n",
       " 'test/6ce2f79bfc8e23d4158f79d1b2d034d1.jpg',\n",
       " 'test/3d64b0add5bc371c2b6a873615dde15e.jpg',\n",
       " 'test/0bb31d2e7e30340a947dc809f1143b63.jpg',\n",
       " 'test/c7e902030813608c830629729601fe71.jpg',\n",
       " 'test/e18db768bc1a9e7e633940dcadacb231.jpg',\n",
       " 'test/8c1449129e0f0560d254961eedb718bd.jpg',\n",
       " 'test/7fc375fc24b2a904146582c6b10325bd.jpg',\n",
       " 'test/2cb25025fb719764e7361a71206c7a7e.jpg',\n",
       " 'test/ad64322d51f9b36dc53b40e77ade605c.jpg',\n",
       " 'test/25dffabd74fba90f45cd55431015a65d.jpg',\n",
       " 'test/da428a0d788b22d626e799bdd276f834.jpg',\n",
       " 'test/b6cd61479913d818b12b0bcfe7894f2b.jpg',\n",
       " 'test/950618805a891d92ba13229d237a0b86.jpg',\n",
       " 'test/7885dee6c70ba5db1c9f18a387c0f324.jpg',\n",
       " 'test/37636a080646f2d9b4cbe788f740253a.jpg',\n",
       " 'test/e7ed96b272013c6de9505a753816ce75.jpg',\n",
       " 'test/9424f0e154ab5672ff2b41d6ea604cc4.jpg',\n",
       " 'test/c0cf45d6873058e0fa2b5d12bd8d41a8.jpg',\n",
       " 'test/2b546c0f7a5ba74c9d222c149d2134a0.jpg',\n",
       " 'test/8f1f7d57584552d193b1e70f10846247.jpg',\n",
       " 'test/c8933d3a4f263329ef02d76663a3c897.jpg',\n",
       " 'test/7dc35cd0fa0965cb9add24576bc2e1bc.jpg',\n",
       " 'test/ffd87c3e44faa0e3ee5fbbdc4c63b59b.jpg',\n",
       " 'test/c2d87315df1b02017edd04f30f8b60fa.jpg',\n",
       " 'test/ea0a254533e645588e739dbdd0e3d3fa.jpg',\n",
       " 'test/c1d8d7185a8ddfc01b0625ddadfbd3b3.jpg',\n",
       " 'test/ff71c0a7a71d994884c9f92457f0eda8.jpg',\n",
       " 'test/5daa673bfb4a8bdc959b2bb6054bf4e2.jpg',\n",
       " 'test/05863e46ff72f425fb9da5ffcef06c1c.jpg',\n",
       " 'test/246d301e3d0491f4bd6edd2d602130db.jpg',\n",
       " 'test/9edc8d82ae3fbcea9953b9a807419007.jpg',\n",
       " 'test/b1aeb449e903e417bb1a0cc677912336.jpg',\n",
       " 'test/89db4b97109ed0e110a835062ba8d73f.jpg',\n",
       " 'test/138aaaa3ad8bdee8167bda4ba8dd3875.jpg',\n",
       " 'test/e2c3376aeea1057337f02dfc48feee62.jpg',\n",
       " 'test/85e0fbe0230b40795feda0d64e9af9e2.jpg',\n",
       " 'test/fc405345f9ba08169e24ee81cc1fcaad.jpg',\n",
       " 'test/2926c20a7ce1ec46f1dd332b29cc0ac8.jpg',\n",
       " 'test/2ee0a2da17019b2c95f5283c15a692ff.jpg',\n",
       " 'test/6d297a2b361761000869d99fe53f4ef5.jpg',\n",
       " 'test/ed4535d3e501ff280dfefb927b0e093a.jpg',\n",
       " 'test/28f7fbb3750d3256de932c58000a4c33.jpg',\n",
       " 'test/4cce2a5cde5ed65da39bcd4c4abd21c0.jpg',\n",
       " 'test/0a3f1f6f5f0ede7ea6e27427994d5f62.jpg',\n",
       " 'test/67ed04767d1db6ecee253f8bd49fafd9.jpg',\n",
       " 'test/aa578ee232975465e28d8b372d410149.jpg',\n",
       " 'test/e16c4485a37ac90e1623e2da77513648.jpg',\n",
       " 'test/a10932ea361cb1a8a6107e9fc180de48.jpg',\n",
       " 'test/2e66e5efdcb7043a05be411148971b79.jpg',\n",
       " 'test/6f883541c3652476d57e5c62c05eeb8e.jpg',\n",
       " 'test/e6d6ff5b33e6174158d5ab05a7eda95c.jpg',\n",
       " 'test/015a6a8a46302983fad0e5ea258b351a.jpg',\n",
       " 'test/8ef652e3a8e720c288bdd74b20f32070.jpg',\n",
       " 'test/a77d90e8768e0d97db44019c9f57824b.jpg',\n",
       " 'test/8cb223ef6f495972c87c07a2fce4228f.jpg',\n",
       " 'test/0fea0c2478fcd1e0c53fc025bb2b0183.jpg',\n",
       " 'test/2afde80069aa7f515ff2cb0be2fa7787.jpg',\n",
       " 'test/ad7e50abca9b7c6a88b63946c5bbe493.jpg',\n",
       " 'test/76b52cf890203f4d1a9406524ff7834b.jpg',\n",
       " 'test/1210c8fbfb9ea74e249043df0aade4d0.jpg',\n",
       " 'test/de9a61a532241cff14e732f43b646d9a.jpg',\n",
       " 'test/be83051daeeef1dafa4bb65c31980fff.jpg',\n",
       " 'test/ce78ed744ec263c8ea7418e75959dfff.jpg',\n",
       " 'test/ccb7c5f4d740f7bf8fb0161efe594b48.jpg',\n",
       " 'test/53914a5d9649086ca191bce4ebc1811d.jpg',\n",
       " 'test/23e9f1d6a1a0d5a7b495b3f4795187d8.jpg',\n",
       " 'test/77675c1e2ffc5de3670defa4063966e4.jpg',\n",
       " 'test/78ac7393a682b3880baa5642f2b5a020.jpg',\n",
       " 'test/c39f52965ef35ebaec71cee044b3d947.jpg',\n",
       " 'test/a996602e2147a30d8f9eb0dfa536e634.jpg',\n",
       " 'test/f31dabe4e60722a1f2eb3352fd9d0525.jpg',\n",
       " 'test/0b8132fc7939d41b92e13ebffec83261.jpg',\n",
       " 'test/42d47502a728ebb752db63871329f09a.jpg',\n",
       " 'test/fd04e7236081ae28e353974f05f90bbf.jpg',\n",
       " 'test/13837b605ad3176d3114c5f6bd6a653c.jpg',\n",
       " 'test/9f1cbbf0833d8682b1743a2d398c86ee.jpg',\n",
       " 'test/f8bb4bf1ab951320f8d57cd7827eec64.jpg',\n",
       " 'test/9d194995dc94f4caa713c7f10675ffcd.jpg',\n",
       " 'test/fbc01bafa35b71eca0fcb7d33537c022.jpg',\n",
       " 'test/e78b50f1d12148deef4c564ea4c88050.jpg',\n",
       " 'test/d361d73172d166881955c782296c5a7f.jpg',\n",
       " 'test/6730f15a77116e044442077d3c275938.jpg',\n",
       " 'test/74e35279e42dfd6e84fcf073e0212bc8.jpg',\n",
       " 'test/593615f14480143a5a03c7510ff0fd25.jpg',\n",
       " 'test/03a6a16f43df5f175d99cff6b2bf62bc.jpg',\n",
       " 'test/fa85d9951d7996c4c92ce5dc41d87dcd.jpg',\n",
       " 'test/f8b3b0111a3143d4e5251ee190601f63.jpg',\n",
       " 'test/3076871958f8da66278d6425bf2e79e9.jpg',\n",
       " 'test/bf9a109dd391229fa06b3a34bc1470bf.jpg',\n",
       " 'test/37810d09d050bf679fd89d4f1961897b.jpg',\n",
       " 'test/44b68752274f0ecb37d7f0de56a43e10.jpg',\n",
       " 'test/4f43274c58eeeb30327ea249a79fca72.jpg',\n",
       " 'test/32724463924b96a5139bfdcbe5c0780b.jpg',\n",
       " 'test/195218fd3edf8fb395e986fa33280c04.jpg',\n",
       " 'test/2c4aab0a71b7d43de83e2b3dd393b9a6.jpg',\n",
       " 'test/2acabf0d051d2ab208bceb6b1831272d.jpg',\n",
       " 'test/6e63dbec51bdd8720cd7ad7a8d1a4dfc.jpg',\n",
       " 'test/b8da90f454f62fb33c83715a404aca3b.jpg',\n",
       " 'test/83e4b817c762dc3e308220721c11bf70.jpg',\n",
       " 'test/6913b835c9d9a64159d992dbf9a8060f.jpg',\n",
       " 'test/60d33c54636163bdba07303d949c79ed.jpg',\n",
       " 'test/e995cac3e30ce4e55d0f203c20cd0986.jpg',\n",
       " 'test/63ee6dcc980a87b667cf2100cd112ba8.jpg',\n",
       " 'test/3ee1025997b782f6eb2ddd20cd0965c1.jpg',\n",
       " 'test/945474ad2fc3932dcd1beb2e2be9b488.jpg',\n",
       " 'test/35b8a9c3d66485d628b94e6efdecce7e.jpg',\n",
       " 'test/81fd1480bc371e8107b744e93d7544fb.jpg',\n",
       " 'test/9f704010fc32a382763e1a7fc1a72a77.jpg',\n",
       " 'test/d08c477d0d6b6060163c61f030699bb3.jpg',\n",
       " 'test/53228eb119340867718b808e363e3e5f.jpg',\n",
       " 'test/032b031f2c08f87b76608b2c19851725.jpg',\n",
       " 'test/263cbd45af73d8efc73edb0251354e19.jpg',\n",
       " 'test/6e79a17a2e5c44fc1aced210622010c7.jpg',\n",
       " 'test/2c876bf2fa65d4a8047ed009aec0da31.jpg',\n",
       " 'test/42975153e2fa61f672eff4c60cfb9616.jpg',\n",
       " 'test/1ab045675419425122fc2e882c7976b2.jpg',\n",
       " 'test/18f330c68ce2bdf7291b10baa3561e63.jpg',\n",
       " 'test/47811a1b2ecb1427d13e78f6bf11ac0b.jpg',\n",
       " 'test/bb5dccafefdac840935697a0f648fd72.jpg',\n",
       " 'test/656eb54f833227748c00ab71cabf527a.jpg',\n",
       " 'test/c23a169026a1e6517dc9f6ab1879922a.jpg',\n",
       " 'test/1e7c9f4b611a9f917c492e83a0d54704.jpg',\n",
       " 'test/b138ee2179ec8871d9534e81a54517bd.jpg',\n",
       " 'test/3bbdb72ff6a0ad3b87077ff38b3ec468.jpg',\n",
       " 'test/76a6bc74f5ccf814e8928139eafb57b1.jpg',\n",
       " 'test/9841057e1e4699918e264310f55fc000.jpg',\n",
       " 'test/ec0a814cc971dbe6e618a9a37ba355f8.jpg',\n",
       " 'test/29cafb8c01f1f0861317c072559db310.jpg',\n",
       " 'test/ef0209bcfab48f72f71c9d1b8648aa45.jpg',\n",
       " 'test/00c14d34a725db12068402e4ce714d4c.jpg',\n",
       " 'test/bbd433f853eacb0c2d1d62b36121a834.jpg',\n",
       " 'test/6450f115eb719f57695329d8af7f13e4.jpg',\n",
       " 'test/74341da92482c1cfbd963d207e0ad5fe.jpg',\n",
       " 'test/e53b2f4211fb7a34aeaa04974b919f6d.jpg',\n",
       " 'test/5bbe40c8adec0550a246e3dd230ff0d2.jpg',\n",
       " 'test/0d20ec872931053d937381013e38ddc2.jpg',\n",
       " 'test/e8c778896a73d0f6b4f88c564690c9db.jpg',\n",
       " 'test/875606a7c2a96a729380ecfc9d38a4bc.jpg',\n",
       " 'test/c762956da4860b0ee3a5f9c7b7fdb57f.jpg',\n",
       " 'test/f1b634511c0ca2fcdf53c9c30f3358c9.jpg',\n",
       " 'test/cf396de52276b1669ffec37239069ed0.jpg',\n",
       " 'test/fd9a41c9a7e713e8ff5ffac23fed60e8.jpg',\n",
       " 'test/d0919d222b2b96f23d8ee450bc66709b.jpg',\n",
       " 'test/4ead408f81b09e617882bcad28bf7593.jpg',\n",
       " 'test/15dc293771e16bf634691bf78c7da0a7.jpg',\n",
       " 'test/9f5755ec65e8e95409569e4de1c0614c.jpg',\n",
       " 'test/a9d8e501add43a46704f49b746e8f7fa.jpg',\n",
       " 'test/897ad7e9976b014413f7817ea5eadaca.jpg',\n",
       " 'test/b91281d65a5769c6312fec0d0ff6f606.jpg',\n",
       " 'test/7328b1eee0be05c80f119753aa4623de.jpg',\n",
       " 'test/c9e569638f09e27aded2008f15fb9622.jpg',\n",
       " 'test/bd791d8655a22f2d972ddaa66831ee89.jpg',\n",
       " 'test/88eb7119ae105e92a54ad41330b41492.jpg',\n",
       " 'test/498d4cb8dced0a3a4255e83ec00a1496.jpg',\n",
       " 'test/8ae10e59bf4a2fe7f3f83cbb85fcac29.jpg',\n",
       " 'test/726fd32f05aac6b81c0dcfaa1860f0e0.jpg',\n",
       " 'test/4e83754d791e85c7f821784dea459729.jpg',\n",
       " 'test/83c31f18588894218ae0493c7a9fa913.jpg',\n",
       " 'test/abb690d82d9497df0e6b621c672ccd24.jpg',\n",
       " 'test/119f675da55ad20f8033218d33d3ec7b.jpg',\n",
       " 'test/8ad2e12d5c8535891394762cab345037.jpg',\n",
       " 'test/e17defebd1b8fc39e9c3c10df3c2e3de.jpg',\n",
       " 'test/b19a8a426fe7b91c890e33f5622fcced.jpg',\n",
       " 'test/ed2a749830d4ed6544ec3bc2efb9a58a.jpg',\n",
       " 'test/7bddf6d894af4e60b5a78581e2d261d1.jpg',\n",
       " 'test/551ae50984787c608fcb2a8762d34b9b.jpg',\n",
       " 'test/83c335a1a050268bc5890303fffcb772.jpg',\n",
       " 'test/22a524ec5efe207d70753917b48d50f6.jpg',\n",
       " 'test/87023197f17451a7e2a4bff944933f3c.jpg',\n",
       " 'test/07d5ab48d42c8e67b8720ae221ad1962.jpg',\n",
       " 'test/f687b2ec96d346e2c88934855f3c3b12.jpg',\n",
       " 'test/d530d1f96aeb086140b9008a319ea45b.jpg',\n",
       " 'test/6c924ee8afc955214b93f0fe3fdf670d.jpg',\n",
       " 'test/0e4c14d014ad3e0421933ab29ad7b16c.jpg',\n",
       " 'test/3ada400595a24fb5ff3c1fab4dea1581.jpg',\n",
       " 'test/a1885f75dea13104d38b10a04c42aaeb.jpg',\n",
       " 'test/9ed420e0afa9b8a48fb3a256f2012856.jpg',\n",
       " 'test/77037f4cc5978efa8ed4109b78672790.jpg',\n",
       " 'test/13d7f2f5ce86397e813dcf24d6cc449d.jpg',\n",
       " 'test/5a791d23491e48f36bd65935e6e8a7d3.jpg',\n",
       " 'test/fa98e0dd02c4fcc5b5155a1fdaa2cb13.jpg',\n",
       " 'test/fe24773f327279000093a4cb4ee95c5b.jpg',\n",
       " 'test/53a437d5a6f043abdcfcae058e2762f9.jpg',\n",
       " 'test/fb35bfc9d136671490fd914f080c8b09.jpg',\n",
       " 'test/33bcb26084c2521cfd67ae20bef3127b.jpg',\n",
       " 'test/0cbe1df9ac49399277c5bcbc4c163f88.jpg',\n",
       " 'test/24b56e8bf5d615f200a5dffb2770e02f.jpg',\n",
       " 'test/aac5caab05224706d9c24f294a71f247.jpg',\n",
       " 'test/a2ab6ea680f2fd6ea013ee8e98ee7492.jpg',\n",
       " 'test/4466fac905b6156ec096968332f82591.jpg',\n",
       " 'test/2de3603e679bd3174a0a2464611bf21e.jpg',\n",
       " 'test/c0187477b5cea0f961f84ed2cc4c0c45.jpg',\n",
       " 'test/10a25198b6d293a07b4c8dcee0c8a5d6.jpg',\n",
       " 'test/f833a56026b89fba59f04d16ca6881d5.jpg',\n",
       " 'test/ada95e14b8198eb631e14321e148b718.jpg',\n",
       " 'test/fd0a3ceca8806d5d63f72fb57c0a73c0.jpg',\n",
       " 'test/0f119eb2566f6f11c6cdab8608575f5d.jpg',\n",
       " 'test/ecb6362d105c0cb84d8e69cfd9b8d0b5.jpg',\n",
       " 'test/81ed9aad84b54f02ad4c69bf39da311f.jpg',\n",
       " 'test/30043292425e9f16ab9baf8dd23adc3a.jpg',\n",
       " 'test/a7a060cb93bd2cbfc49c648d49970604.jpg',\n",
       " 'test/6c52bfa416908dbe178def9cce316f08.jpg',\n",
       " 'test/0b297c77f3c031ee31ae2095e6a72405.jpg',\n",
       " 'test/f1e0d9aa421de4c518baddf3d7bea598.jpg',\n",
       " 'test/d3f35cd21d100eb8c0f84616b3a5476e.jpg',\n",
       " 'test/fd219ab54b33aa99a68797431a1b8e07.jpg',\n",
       " 'test/64288d8b9c08221f721d1edc26725c32.jpg',\n",
       " 'test/9142e75838c7965092cfaaa58c2b2802.jpg',\n",
       " 'test/adb386aaab53bb6f847bc50158808d3f.jpg',\n",
       " 'test/737e016c32985e4d6fc3a974e9a7b44c.jpg',\n",
       " 'test/9c7d95e949fada6a8c479fe1ae10a87c.jpg',\n",
       " 'test/5f7eaeb86bdabd25c256570c991ed734.jpg',\n",
       " 'test/d053ae3e36f5b2e48dae4b484f313c7e.jpg',\n",
       " 'test/8d56ecc3a52fac0969175537569048a7.jpg',\n",
       " 'test/6544e8463854c7d6ed90258bd413ef63.jpg',\n",
       " 'test/32e783378b18b4cd5d047f68639b2e8a.jpg',\n",
       " 'test/e2537e98808877c707bfe8ca53e303b7.jpg',\n",
       " 'test/5fc50ff832ae9f5ba160e0d1e3ad9544.jpg',\n",
       " 'test/2ef1c0ff95eba94cef8646afcb7a730b.jpg',\n",
       " 'test/78e1dc4bfef9eae0bf251302e38d511e.jpg',\n",
       " 'test/796cc4fe56597d3e8cfc9595ca1454de.jpg',\n",
       " 'test/332734a5f93a5e6e29fb7375bd6842f3.jpg',\n",
       " 'test/81ec6d2ad40d358b90c3dcc7084db3b4.jpg',\n",
       " 'test/2048d35cee18bb15d9d646bb197ac737.jpg',\n",
       " 'test/35dc670bcda4be1818f5a944b4945162.jpg',\n",
       " 'test/96cd94b8c5a2ce8e4253f9eb2666f7da.jpg',\n",
       " 'test/74e40c5277dc098324dfba2ae27c4b22.jpg',\n",
       " 'test/49adf44b63b707f951298072329968f1.jpg',\n",
       " 'test/53109d1a02bc59c23cd7b6ee92a7af2a.jpg',\n",
       " 'test/e2e9e37fa587ad87761da12e105c2b6b.jpg',\n",
       " 'test/c3ca2375597dc9e3062811bbb545441b.jpg',\n",
       " 'test/c272ac0b07e9b0e529f800a40355ed21.jpg',\n",
       " 'test/0110fb82ad93572bd6f5dae4b048037d.jpg',\n",
       " 'test/6bb30f53bb4dceec07af0558e0704201.jpg',\n",
       " 'test/4e06ab5e4129cd603e8a5df22ae9dcfc.jpg',\n",
       " 'test/53147bc342fc04929a4c51769c4ad958.jpg',\n",
       " 'test/8679ebc44d0cd351872c4261b466d100.jpg',\n",
       " 'test/dbaaaac3d01447929408a3b6e93caa60.jpg',\n",
       " 'test/3feace6790ba6eea2aef34f198e43025.jpg',\n",
       " 'test/0c6e1f42e718ab9b308d12b766797761.jpg',\n",
       " 'test/6e4d3a34878fc9b78993c43be028b12b.jpg',\n",
       " 'test/3775192f79204510af593dae958899cc.jpg',\n",
       " 'test/4eb9c0b40bf62d82942665e2530fa908.jpg',\n",
       " 'test/55df884100dc84946a99925a3c03df2f.jpg',\n",
       " 'test/988668e926afe77c50029c1fdf78a789.jpg',\n",
       " 'test/0f56064b344e608e11a41e3523eb3b89.jpg',\n",
       " 'test/21ca3205f590adf0f266ef71323bba49.jpg',\n",
       " 'test/1999e48ff03fc215677d3e49b38e7272.jpg',\n",
       " 'test/4d2c5271ca71c95234b78bc0910f3d04.jpg',\n",
       " 'test/2131809d48843f23df950d57a44b2c16.jpg',\n",
       " 'test/6b8718cde05cc71a8fb6e68d43ab224b.jpg',\n",
       " 'test/138a5ce524f0ef30818208492eb169e3.jpg',\n",
       " 'test/83c9772239e6b0d64a3d1b899ec557d6.jpg',\n",
       " 'test/b354c4a3a0034b93545a6a2cd4c3f54e.jpg',\n",
       " 'test/65c792d01f8d25d7f6aa45a679261340.jpg',\n",
       " 'test/9397230f6b4660a560fd2ad5371cedd4.jpg',\n",
       " 'test/dbc298c3834590263050e68d1e92057a.jpg',\n",
       " 'test/bdabd955334ed52876ea54c97d02bc1c.jpg',\n",
       " 'test/06d0f5ea2a6042fa1dec8b734148edd0.jpg',\n",
       " 'test/a11f38a3f78dbe56ba0aadad683ddf22.jpg',\n",
       " 'test/cfff42adc2db5fe6d452d17d13163e87.jpg',\n",
       " 'test/6e9612076d4d07a7144e4a136a8a48cc.jpg',\n",
       " 'test/8cb22840b91101fac84dc2be7affe418.jpg',\n",
       " 'test/8cf2b4b073ab5d90aac14a33b35f25c3.jpg',\n",
       " 'test/b0b17ca4e2f2bc6e6d29fbcf27fa7a04.jpg',\n",
       " 'test/276b3a945c27e662e711ee1b09002524.jpg',\n",
       " 'test/6b907cbeb097df1a1fcf9144d257d59d.jpg',\n",
       " 'test/52acfa995434f4623164fa27dcdb98c8.jpg',\n",
       " 'test/abe01dac9aa384d049e61bf06dabbd62.jpg',\n",
       " 'test/4ca18a5617593265513954b17b30f37a.jpg',\n",
       " 'test/a033d754240bcab4aaa91f4a716fc8db.jpg',\n",
       " 'test/a60e73d011dd220a692a1b885cad3508.jpg',\n",
       " 'test/cbcd4e1befa019fdda0fdbfefad2e10b.jpg',\n",
       " 'test/7a956ed950f1c8a7145a91d3ddfd454d.jpg',\n",
       " 'test/e87771bc542cc6112c922962d8fda92b.jpg',\n",
       " 'test/0f19ffd8d0614958442cee26bc199d41.jpg',\n",
       " 'test/f75a4a49d98f935b65c51a054e138e60.jpg',\n",
       " 'test/9977814610777b24db044d8150dcb0e7.jpg',\n",
       " 'test/ae062a097cb8ede7272e0cc807d1600b.jpg',\n",
       " 'test/83600f25c6094746a9a7720eefd52c75.jpg',\n",
       " 'test/ac2e1ded459deccf7a74443962a60dc2.jpg',\n",
       " 'test/9ade0473344201d2fdffbffdcafd7568.jpg',\n",
       " 'test/a743d539375287ba72ddf544f1084afa.jpg',\n",
       " 'test/4ded44ea906ddaeaff15eb82965a14d8.jpg',\n",
       " 'test/12c3287c880cb83dfbc9cbce3d2952be.jpg',\n",
       " 'test/fff7d50d848e8014ac1e9172dc6762a3.jpg',\n",
       " 'test/92315e04da2546eaff3da0864dfc20f9.jpg',\n",
       " 'test/b5066502351c2f176afc84a70f0f9249.jpg',\n",
       " 'test/418aa95b6b6c6b37c79f215525e9cef9.jpg',\n",
       " 'test/bca6e1103af59b4d5ee9ee8840a4a569.jpg',\n",
       " 'test/645b676a8551f0c9f8982cbc9c253e59.jpg',\n",
       " 'test/52c2021a5ec2aa05e841df52b6a97d41.jpg',\n",
       " 'test/f372b595f5e684d8c7c261d6b0166736.jpg',\n",
       " 'test/9149ad1fdff77ebb0fce6548b1bac275.jpg',\n",
       " 'test/ceebb28fb7e03b8389e2ef5f14d9e8c6.jpg',\n",
       " 'test/83fecd19ea7ea831b91f35021a7c2bd4.jpg',\n",
       " 'test/2be26a503662d5033b2ccb85fc68d309.jpg',\n",
       " 'test/201bdc6f7a8b0fde297d1291fcd31380.jpg',\n",
       " 'test/7e29d82da70eb06e523b5553f01ed04f.jpg',\n",
       " 'test/dbc80d9758259603f8b0847a3d40a251.jpg',\n",
       " 'test/328b72aeafcb0ea19df3f4198f351d66.jpg',\n",
       " 'test/a714869ffee377a2c0cda3fd3307f273.jpg',\n",
       " 'test/d2e0317a332e94313bd2875e38e55e34.jpg',\n",
       " 'test/6ac5207e54b451e7ed5049bbd0175f3b.jpg',\n",
       " 'test/e596c0d97b381e876d46dda2eb60074c.jpg',\n",
       " 'test/978860f8b3fc9f0af9041d1285179206.jpg',\n",
       " 'test/fd8ad4d4a965089aee101a3da80c4a52.jpg',\n",
       " 'test/8e45d28a1b2e7d8672ea4e0efd06fbc1.jpg',\n",
       " 'test/c954e384a178bdbfdc357b54d8886244.jpg',\n",
       " 'test/2d1da3b8d8dbcc7c712a1c4088e42c00.jpg',\n",
       " 'test/be5782798a334708d8faf03d0ad7a45b.jpg',\n",
       " 'test/d68d0c99eda6690afb9f5901aa8acbb3.jpg',\n",
       " 'test/b5c466383dd337e039e053bc4643872f.jpg',\n",
       " 'test/32c9ed26072a2b70563d02dbcb478471.jpg',\n",
       " 'test/ca21ffd6d02f7bfd9ec9f08747941293.jpg',\n",
       " 'test/bcd7789ed5cf415d7439db5afa5b588b.jpg',\n",
       " 'test/1f503f2c112adff1bd9ccc23c1377c59.jpg',\n",
       " 'test/542e52bf36989c146cb1c6a7ef18e93a.jpg',\n",
       " 'test/b5ccf5f558b01d3cd1f3fea5e2329383.jpg',\n",
       " 'test/7ac0624c677fdd6a38956d720c27b0a2.jpg',\n",
       " 'test/70c04b019f5f2e0018bbfe5453b62144.jpg',\n",
       " 'test/103cdc14a648474fa9a85c3542d6821e.jpg',\n",
       " 'test/f28e776762aba6a080ab11ffb40e8d04.jpg',\n",
       " 'test/a76da0a8ced355cdf3cc84f6e10a029d.jpg',\n",
       " 'test/9ee85a81c98f14d7eb02c2cc0c17bb7d.jpg',\n",
       " 'test/c9501fe1f07bc43eeedb593aaebb3226.jpg',\n",
       " 'test/3a1c97e85aaaf6810c1f5a8c9250a6a7.jpg',\n",
       " 'test/72ec9ff0338193778ef1760ed3a33789.jpg',\n",
       " 'test/0b8044ce57a6e825db342168ea2cdf17.jpg',\n",
       " 'test/6b62eee9c188519f2b1bcf65493b4129.jpg',\n",
       " 'test/30ef42c5c84b11fa3052524706687bcd.jpg',\n",
       " 'test/42c4b276050f8d049f035742650363b1.jpg',\n",
       " 'test/f2bc2e10c40f94618b6d48bca353199a.jpg',\n",
       " 'test/ca0e74e73b66d1aacb8122d96ecda636.jpg',\n",
       " 'test/1c8639b16f4080e1f1a107dc9d5d0391.jpg',\n",
       " 'test/d4b35622d0df5814f4056812d7507e50.jpg',\n",
       " 'test/ad889aca15b6168db4dd7133ac5a8ba4.jpg',\n",
       " 'test/df01edf92d38b334f78bd85460304801.jpg',\n",
       " 'test/4a297e34abbd732700246a8ddefefa8c.jpg',\n",
       " 'test/49cd459efd30b3b593de0c57245f3e9a.jpg',\n",
       " 'test/4424215095564e8fee9882f7246a988c.jpg',\n",
       " 'test/e487437a727b3e4f0b919c878d39ae6e.jpg',\n",
       " 'test/0fda8797dabbe5a4014cd3d0cdecac4e.jpg',\n",
       " 'test/527c76c29bffd93757cee44abab025f7.jpg',\n",
       " 'test/12a8312dcf3d19999da1d4ce3c529015.jpg',\n",
       " 'test/e421e13d0d4c977ab89fa9965221809c.jpg',\n",
       " 'test/e4819d4934cad3c74896ebbf60df595a.jpg',\n",
       " 'test/30acb7d3ea82b6dd0e099fbf42065212.jpg',\n",
       " 'test/a3f2bdc1b31e838afd609a242c44310d.jpg',\n",
       " 'test/63d381a8b806b56e3c155dd458a66646.jpg',\n",
       " 'test/60b26c0a1e35e2647439606e614ccab9.jpg',\n",
       " 'test/ec59bee2b29342acd414a5a1e72b38e0.jpg',\n",
       " 'test/5183b77b582c29fc822d5f24eaa4795c.jpg',\n",
       " 'test/0658d98859dbf3976a4a2008097e2dfb.jpg',\n",
       " 'test/d08aa4f13841c6f503b7a6a93104ff55.jpg',\n",
       " 'test/e3d417026b89cbb57b00a7208421009d.jpg',\n",
       " 'test/ac347274ae8bd8e185435069d4af3697.jpg',\n",
       " 'test/19a3f51f2473ba3def8fa21fc3f26eaf.jpg',\n",
       " 'test/6322fa7edb40af844609b4843a89b5fd.jpg',\n",
       " 'test/b0bf36fe9aa3a00a1367b60886775c38.jpg',\n",
       " 'test/42e57c2a787a7dd2cc5fe260376bb71a.jpg',\n",
       " 'test/95bd03289e641ad4797a63a6cbc86cfc.jpg',\n",
       " 'test/a6b349e316f02e769ea998d22c3bc1a2.jpg',\n",
       " 'test/42039581433077885058357f8cc0a281.jpg',\n",
       " 'test/80663f48e62d2c12e5b6f9c148b8f493.jpg',\n",
       " 'test/007ed71136966728f5c0936e23c8286b.jpg',\n",
       " 'test/3b37e30fd0fde6a708ef4a6792c31c3f.jpg',\n",
       " 'test/e0072c3d9bee718b68ff1cf964a52536.jpg',\n",
       " 'test/fd7148fdd18ad0b4d1c5ff4c4c35f99d.jpg',\n",
       " 'test/875288ec5f69ecfc4b1ffcc7076664ae.jpg',\n",
       " 'test/02e34caac2af8f176f1a0f864e111f61.jpg',\n",
       " 'test/9f849a1f535ee8b31401f717ac41140f.jpg',\n",
       " 'test/7981f73904ad728dc8d5baa5186057ce.jpg',\n",
       " 'test/dcc047e682db75bbcebdec2288192f1d.jpg',\n",
       " 'test/ff066888cfea22e81ca9c125ec5a89f8.jpg',\n",
       " 'test/c88bbc39173d328c2db1afbc83b4a66f.jpg',\n",
       " 'test/7e83dca4123053e9e5d15fb236da7fff.jpg',\n",
       " 'test/e3a43510b5f90bfb9fb050c77cabb079.jpg',\n",
       " 'test/774aebdd0ecfc4367a1418d760a90a38.jpg',\n",
       " 'test/c1ae4641cc6f66278c9bbfc2a2996bbb.jpg',\n",
       " 'test/bb24c73b9a03b4859aee5885cce14cff.jpg',\n",
       " 'test/c4b157b662d565936af2ad8e6bcfa08e.jpg',\n",
       " 'test/7443eb38a661a58a385c18c976c8aaa3.jpg',\n",
       " 'test/15d58b312740384cd1fdd289735ca6b5.jpg',\n",
       " 'test/330e0db564d0121c3ff3002af859aa26.jpg',\n",
       " 'test/4567855d1c0cc7a3692b2637dc62cdb4.jpg',\n",
       " 'test/8b1f5142b35559f43175e99a346dc9f0.jpg',\n",
       " 'test/e46a2bfb7816324d171c4e07786abc59.jpg',\n",
       " 'test/6323255e2c4f3c1882170b39134a622c.jpg',\n",
       " 'test/44abb9a54a0eba94e1891f2184c0845a.jpg',\n",
       " 'test/4ab0b6d8f95c48e2ba9e0d31f2bdf6f9.jpg',\n",
       " 'test/97b52c9b094e6e8a978565d8eb78db75.jpg',\n",
       " 'test/2245615f699977db53c0d16b7f1607fd.jpg',\n",
       " 'test/d354419a80463739ce343ad80c3a906b.jpg',\n",
       " 'test/f1705303b30da3a48db2a5f34376b947.jpg',\n",
       " 'test/b81c15c0f426dfc776d36c9816057a87.jpg',\n",
       " 'test/c69c44572a5df3b7a9ac93e9071453dc.jpg',\n",
       " 'test/dd5c5652d5d34e922af98c9b0295d909.jpg',\n",
       " 'test/860409613c002d1684659434cc3b7815.jpg',\n",
       " 'test/a444cfda52fc5918caa524535df959be.jpg',\n",
       " 'test/1b410af3a3965265af9b4c1153d32630.jpg',\n",
       " 'test/b0c5944458dafe3ba68b7021da55fb12.jpg',\n",
       " 'test/bbda835412fc5ea582f68ac6f9bea2ba.jpg',\n",
       " 'test/8823d335192db08b7216a26cba307030.jpg',\n",
       " 'test/490cd0d0afa679bb3df28342897f9d6c.jpg',\n",
       " 'test/613460c38f224112fe803aa8e48db72b.jpg',\n",
       " 'test/a8b25cbffb50c79dc53467205b7f2226.jpg',\n",
       " 'test/c44a57f7f60d4a6ac489134ef4625810.jpg',\n",
       " 'test/53d336cdfe574e917155b300ae3e5cca.jpg',\n",
       " 'test/3236f7d9c22ba920be690180a0ed84bd.jpg',\n",
       " 'test/f575720280425098d6faca42cff69a36.jpg',\n",
       " 'test/917d90061274aa36b86eac30d2771ed3.jpg',\n",
       " 'test/975133aa03b0e417c0a18944ac61c41e.jpg',\n",
       " 'test/8790746eaf6f2df6cc8e862d3a6019ac.jpg',\n",
       " 'test/f7a32505c12649183c5991ecfa7d68b3.jpg',\n",
       " 'test/65794b4b3aef2adb12cb54e40de0c914.jpg',\n",
       " 'test/95e3e9ba43d04118216b9fe20f132eaa.jpg',\n",
       " 'test/96e144a1956c0d827478a51a6525eb95.jpg',\n",
       " 'test/0fb5e83ed166d82503b89da3f177aa62.jpg',\n",
       " 'test/225de79bafdd29258ffe64547f65666d.jpg',\n",
       " 'test/2fe169d491af038f1ab05aeb56d2dc26.jpg',\n",
       " 'test/5a62233fd05c5b465b617298e9bae6b8.jpg',\n",
       " 'test/c17f9b038bdda5bf8e8f5b02f9678e75.jpg',\n",
       " 'test/aaa5a5f229ff556de918600cc664a55d.jpg',\n",
       " 'test/9a2e6ecc4f7bd1578d8c55f8eae0dad7.jpg',\n",
       " 'test/8364818eba106a2e70dd4fab53cde21c.jpg',\n",
       " 'test/16e979f5cd47a91d0c9aa629668b3487.jpg',\n",
       " 'test/2fec20e728227c20ad90b5ccc60ebbe1.jpg',\n",
       " 'test/81fcf88f635727bce89a31142c8a4007.jpg',\n",
       " 'test/16a7e9f6d674462e90c403dd2044f462.jpg',\n",
       " 'test/533f4094b80a234c74cbd2ea942060cf.jpg',\n",
       " 'test/1c6d5fd3d037d75d66d1bd7f95dce367.jpg',\n",
       " 'test/bac40bc242612094fa369b4e5e064abd.jpg',\n",
       " 'test/31fa66b4b169fd8947c5b097145859ec.jpg',\n",
       " 'test/e5507ebc0e05513bf543e160a484666f.jpg',\n",
       " 'test/076a3243b06a0e4f304950c212ca5430.jpg',\n",
       " 'test/9efbdac7725fdb3416ba85fa35610e7d.jpg',\n",
       " 'test/2228a74ceb7f95dcc6d6e27bf1810299.jpg',\n",
       " 'test/2629282e76208ac508c539d220dd1676.jpg',\n",
       " 'test/433e6bd5a4b98e97bf47f0dfcd6cf942.jpg',\n",
       " 'test/57ba777547a97bb3251d69d3a358137b.jpg',\n",
       " 'test/08d5f16507943be640f4592c9d08a798.jpg',\n",
       " 'test/28826c8902e4b36658d0729705097e24.jpg',\n",
       " 'test/45ea6b341bd8d2884f3fe1a90e4d67bf.jpg',\n",
       " 'test/ce751a8802761e85ac7ad0a802c9e048.jpg',\n",
       " 'test/f4ec1eb228bb0a7084de552fa4333b43.jpg',\n",
       " 'test/e0a21cb0d8d3014b6c56230350a9362f.jpg',\n",
       " 'test/5f0a8a7fcc833332b34ceae8b56fd31d.jpg',\n",
       " 'test/c0d45b04b7b427c973c71ad23b6a77f4.jpg',\n",
       " 'test/7be35c000832d018170c3697271b40ea.jpg',\n",
       " 'test/cc671ee46e9a0fb3cd41c43fcdc1c54a.jpg',\n",
       " 'test/e09859cae41cb59228518c09c3b27362.jpg',\n",
       " 'test/918b82a965d04368a095f574ef053292.jpg',\n",
       " 'test/f300694670b4219cf9e8f23306ae3407.jpg',\n",
       " 'test/8217c57f3ce8505a6a262a0583720f13.jpg',\n",
       " 'test/dcbe4226672aa4af80c1e52a9bb78268.jpg',\n",
       " 'test/7e8b64637f260d3e678356839ae94fb2.jpg',\n",
       " 'test/f02b0bb575f8dd86c63ab38df20483ba.jpg',\n",
       " 'test/4c44d439cff33a42178ee9d12f85b4ee.jpg',\n",
       " 'test/712a05167aad6bc1a8527b225e657fe0.jpg',\n",
       " 'test/e24b98741c9c780d7c5203def153f00c.jpg',\n",
       " 'test/a3be6cd3cf8483dd98af6202f0233689.jpg',\n",
       " 'test/38f077d8997ecf366bf746258f103cda.jpg',\n",
       " 'test/cff62b98a81171ded614fb63519c2447.jpg',\n",
       " 'test/e85d4e2707683df0e6387e19b67b873d.jpg',\n",
       " 'test/3232cf9ac52f412df2fda5614dd614e7.jpg',\n",
       " 'test/873a39759be91ca142ebc7c9f38ffe5d.jpg',\n",
       " 'test/32b09857c983edf030d8b27136a841cc.jpg',\n",
       " 'test/17bc09f7599a3ba843d9b0086e9f8222.jpg',\n",
       " 'test/72adbeafa117ba758fdf21bb0c935abb.jpg',\n",
       " 'test/bf23f102104e43630fd4aeb576995f2b.jpg',\n",
       " 'test/7a89cb07afac36dee1257a15674fa7e7.jpg',\n",
       " 'test/5bd406fee0b55f66245b6ac9f278d28f.jpg',\n",
       " 'test/1afbf54f38d97c02cf8da4ca8cdbc4c1.jpg',\n",
       " 'test/f8f3c8903f904242b099f1fa4472ff02.jpg',\n",
       " 'test/f768e77da9ad4b759834f6f8d61cb1e6.jpg',\n",
       " 'test/84d706acaacf5488ab3b0fc3f35ffd79.jpg',\n",
       " 'test/4ac2a6a616a14f7673245642089f7736.jpg',\n",
       " 'test/1af1c8b40ed015861a4ebdb67f21f7a3.jpg',\n",
       " 'test/6a393de9df49d1e313f0a3dd42aa2815.jpg',\n",
       " 'test/eeffe08e577ad8dda81bbfe12bf8faea.jpg',\n",
       " 'test/1618763d5cd4c51c555ea05a3048a117.jpg',\n",
       " 'test/14cc27d72512eded5b580e642fecbe95.jpg',\n",
       " 'test/f58ce44146db339a0bba50bcecb02730.jpg',\n",
       " 'test/f57f8ce3fe1d928828e37a9bd78574d9.jpg',\n",
       " 'test/0d580b0000ec6948330c3f60db39bf12.jpg',\n",
       " 'test/0c278ed448bfd1b7f06854a5a9be7128.jpg',\n",
       " 'test/69baecdfcf9b0e8bfa903d969f406a58.jpg',\n",
       " 'test/733083726113ea89eedc441efbdca7ab.jpg',\n",
       " 'test/347f4ba2abd69997f6d2934126ceedc0.jpg',\n",
       " 'test/c18fc5b2ed455ba3857adc0d5830e837.jpg',\n",
       " 'test/ad31b8b2a5dc04e507c0b70044dbf889.jpg',\n",
       " 'test/c16b48dbb10bd4cb6ce6103e64a89be1.jpg',\n",
       " 'test/63a5b6073499c0ef434358e0fc664684.jpg',\n",
       " 'test/c1ce589723d6ac6a17de69f7dcf558fd.jpg',\n",
       " 'test/b89c5b90b4089e765a9a2675c6647e38.jpg',\n",
       " 'test/635e859fef2e4cfaf5546c4d0265c88e.jpg',\n",
       " 'test/651136a08a228e5ee4cccb522e502e15.jpg',\n",
       " 'test/9d3e9b13f485e09605e9f522ba64bd3f.jpg',\n",
       " 'test/66f6f5b7c8aa88afe86c9f3d5e7bfeb1.jpg',\n",
       " 'test/0223272e92ee6b7e9fc4cf48dbd7d167.jpg',\n",
       " 'test/e9d585ce5dc29b4e9aa6a7332ddfa983.jpg',\n",
       " 'test/e4c743b9aaf615dd5fe162bf25f82fb5.jpg',\n",
       " 'test/d84a0fe97224098314d0f4c61edb2f77.jpg',\n",
       " 'test/73c66923717aee265ad6e9cc2266e602.jpg',\n",
       " 'test/fcb43284dd6f9699a7029ef1bf80fd9c.jpg',\n",
       " 'test/fcf30274c748e760029514f152c8419d.jpg',\n",
       " 'test/84e3a6a1d53e886d97f65411489969f0.jpg',\n",
       " 'test/c228e7120995a81ecfefdfd3979605ae.jpg',\n",
       " 'test/0fa39bc6bbb7107ae27cba8e244a7e4a.jpg',\n",
       " 'test/f8adb1563005924137ea07d373664cb7.jpg',\n",
       " 'test/fd1a7be32f10493735555e62913c0841.jpg',\n",
       " 'test/e2d65ef41ec9a649c8dbd92f0b821163.jpg',\n",
       " 'test/7ddf9b454e95b57883f50d511b20c914.jpg',\n",
       " 'test/a78953a60473b1ebeac5eed47f62b705.jpg',\n",
       " 'test/c93e93653ad272d49b8fbc0ccfc1e086.jpg',\n",
       " 'test/0925832e4d19da79b186f1fc89d59229.jpg',\n",
       " 'test/8899965f57351bcd9647cca2c3248b58.jpg',\n",
       " 'test/484791ba2c0daf4c87404f4a429d7dfb.jpg',\n",
       " 'test/adba260fe25b863e6f826df3a701ea80.jpg',\n",
       " 'test/bc53dbc40ab2ad0dff741a8e90e3a19b.jpg',\n",
       " 'test/de90fcd52b9c527ea097d88804985516.jpg',\n",
       " 'test/9df1fb7599c87c53f36fbe8f1937ea14.jpg',\n",
       " 'test/28530c5edd3d924e24805a00b27f0709.jpg',\n",
       " 'test/53c1c7cdc7fe2332fd90cd0c07a71016.jpg',\n",
       " 'test/6ca7b65a34be7ab2e90203c844946b1b.jpg',\n",
       " 'test/6855c3c552ea97f5165adf54c9ca6ca6.jpg',\n",
       " 'test/69e5f3731a6690cc64e369244c7bdcf8.jpg',\n",
       " 'test/92d8243cb9921e3fdad6d49977b1ae9e.jpg',\n",
       " 'test/bfbadb3ef3dc0635a5a0fd800fe456b1.jpg',\n",
       " 'test/1b4fb7b28cefe4aa8c9da0c8b9acbb80.jpg',\n",
       " 'test/faf757243722ea255b9b190cd251b9d6.jpg',\n",
       " 'test/54cdb34b48be55876a1208685303672d.jpg',\n",
       " 'test/1e9356099572905f1a00f5d8041ec52d.jpg',\n",
       " 'test/a5aa39411075b2e74379eacf79f64883.jpg',\n",
       " 'test/f5f3f3913dabe2ff9d100b81b44e2611.jpg',\n",
       " 'test/200f82b1eeb6b0e01e79e03599801122.jpg',\n",
       " 'test/dc7f80794faf18f0f3b658528a630812.jpg',\n",
       " 'test/a4086a730b6c5011be6eee3bb3b92463.jpg',\n",
       " 'test/48b28d4c1e91b59599d38edb646b9d0a.jpg',\n",
       " 'test/3f09991195890109300ad911d87fd223.jpg',\n",
       " 'test/0081831ceb49cd64212c32b884036b82.jpg',\n",
       " 'test/9902ec331f9222f5f7f2aae4f1d0fd87.jpg',\n",
       " 'test/a7e0132c587509077161318621932a04.jpg',\n",
       " 'test/2a4486b119e44642557fb0d64e0f7bae.jpg',\n",
       " 'test/aa9bcd12dd6b6c050a02ff77f631c20a.jpg',\n",
       " 'test/2ff3bec981d938c39cfa1a4edc8e64e0.jpg',\n",
       " 'test/0130e4d83375e4b33a6db2c2b59324d5.jpg',\n",
       " 'test/0042d6bf3e5f3700865886db32689436.jpg',\n",
       " 'test/bd2280ecdd69b338d657a8da2e05d787.jpg',\n",
       " 'test/e43f6e621469f438f351d31d889b839f.jpg',\n",
       " 'test/82b8fed3d9e3d9cf02bc286e32002416.jpg',\n",
       " 'test/9feec66fed6fffc8139af290c04244b8.jpg',\n",
       " 'test/8d0105c691dbfd0f80d9ecb95ea5f69d.jpg',\n",
       " 'test/025156133d8d8700f6c7027371b1b8e0.jpg',\n",
       " 'test/110027dd4a1b9de5081064ad66ebc678.jpg',\n",
       " 'test/673bc20e700dc04751b2111fbe1070c6.jpg',\n",
       " 'test/1f9117f70db685c66d73a1b5a2b51940.jpg',\n",
       " 'test/2f235e988ae9f6b12d06be81dbf3bf89.jpg',\n",
       " 'test/6d35e614946b7beb0765da5197edc610.jpg',\n",
       " 'test/6b95471c68c0ee1cb89a68d03e277245.jpg',\n",
       " 'test/52c8947686c0132e95f23c9d10387880.jpg',\n",
       " 'test/85e749d2b349c2aa648cb650d6b31797.jpg',\n",
       " 'test/ea3e496d0dd2b7c24ae8c9a0fea57060.jpg',\n",
       " 'test/53be3fc2cf1a2cd3a60c5c58e72c1b9a.jpg',\n",
       " 'test/d3c63afe6716a586c6fb0f12c7e35537.jpg',\n",
       " 'test/25053d29f6d11cb31bfa35365d81bf08.jpg',\n",
       " 'test/4eddf528862bc0a1e5c0c84d5c25cbcd.jpg',\n",
       " 'test/ac2c67c2a2f30a02fffe9063abbbef8e.jpg',\n",
       " 'test/80da6ae51731dc301360a3b59e061fa1.jpg',\n",
       " 'test/8adfd086c589385da9ce828c24668b4c.jpg',\n",
       " 'test/7f5dbb8b42de5e104583132a6fef51ae.jpg',\n",
       " 'test/d9e7dbd730e3feaa74e8408e4124aee3.jpg',\n",
       " 'test/9261644a015eeea281939d5a884859ff.jpg',\n",
       " 'test/7a30c6c4df25dbae90c4a76c61b46173.jpg',\n",
       " 'test/42040603428eb9e817bb39598194e1fb.jpg',\n",
       " 'test/0a0f82d4557f70718efa26f8a8a7773f.jpg',\n",
       " 'test/06644044c8bbdb99346813d4836aa7af.jpg',\n",
       " 'test/c58ce8bde0724cf224e65ad5ca4c1ac7.jpg',\n",
       " 'test/8f50a3bfee66f8416c35e0e471e29387.jpg',\n",
       " 'test/574df6271f0a199ff494b9219fa8f27e.jpg',\n",
       " 'test/e288dace85bb7ae95b545066bcbdee60.jpg',\n",
       " 'test/e9574ebd4785c1e1a1470dfc93f9271e.jpg',\n",
       " 'test/04ecb983b82a9fe8629ca78d15219adb.jpg',\n",
       " 'test/81260afb14138d918e65b99867b0a0bc.jpg',\n",
       " 'test/fc584aa0af57439b8bd9568ab52f9030.jpg',\n",
       " 'test/908c1b70ac2e0c03a1ea447f19f252b6.jpg',\n",
       " 'test/3c631321287065a56f6e9603941d3644.jpg',\n",
       " 'test/4e31b6af3a52413c82adc704bea59307.jpg',\n",
       " 'test/7868bda8b52226ccc50c5eb4f1d00d08.jpg',\n",
       " 'test/df0d6ba158287cb2b3ed6459a22d42ba.jpg',\n",
       " 'test/8f59740ac8b0c38d5ef550de7f47f726.jpg',\n",
       " 'test/cc702232709feb4d69ed9ec38e610195.jpg',\n",
       " 'test/d2e51cd71015fa1df5d82c48de99d871.jpg',\n",
       " 'test/73fbb8ed8dbff26e9ccd31f60733f93e.jpg',\n",
       " 'test/44a21699b12f15507c5aa2f02c3a5082.jpg',\n",
       " 'test/52402474e075c1cfe0ced183c2f7f2a7.jpg',\n",
       " 'test/8e89b8d436558a0f869a412e54c2538c.jpg',\n",
       " 'test/4add39b4057238847b41179da087a689.jpg',\n",
       " 'test/03b4aee397e5dacdc21da01e5a5beeee.jpg',\n",
       " 'test/355e3d7d57dcc08bcddefb3afbf5b46e.jpg',\n",
       " 'test/5bb84f09173f26c20a3c470cb1bb235d.jpg',\n",
       " 'test/00bbfaa5b2bff32a3dc8ce1563e484a3.jpg',\n",
       " 'test/90361e3d5692767ddf8a09b0fa0dec62.jpg',\n",
       " 'test/75814122786c8acdbfbea15ac335b577.jpg',\n",
       " 'test/7dbc92ac14d6e2491f8a4eca0464fe1f.jpg',\n",
       " 'test/bd3bbb232ff91450273941aac001c791.jpg',\n",
       " 'test/3933dfddcec30cdccbdf10afc4825693.jpg',\n",
       " 'test/f73c6b6891b3e40a6bc9dd26f4e65767.jpg',\n",
       " 'test/1a525631681953aa9e8503f73cda6fb8.jpg',\n",
       " 'test/9368b4cac4239c7b600f7908c551ac88.jpg',\n",
       " 'test/2481c4db5da08d6e512882dd971ffe78.jpg',\n",
       " 'test/c3c5d45616b0842fa7d36a41852f5e74.jpg',\n",
       " 'test/35a0b143e2927ad5d6125e6b33312c9a.jpg',\n",
       " 'test/1e69df83c9de6a9b30a2a1055f179287.jpg',\n",
       " 'test/22abfb780e344844faf14a1f5d402735.jpg',\n",
       " 'test/f28b4d5899f9db2a2caa7a3361c847f1.jpg',\n",
       " 'test/34dfb2209bb6585cf12dcc58bf69011e.jpg',\n",
       " 'test/9e4076f224a14567fcd7970d84671a6a.jpg',\n",
       " 'test/48c846723c8a232dc4332de0ca7b2ce7.jpg',\n",
       " 'test/a7f6765ea4b7ece125f8f9bec7959da4.jpg',\n",
       " 'test/b827855f566b9569fd668d990854ad0b.jpg',\n",
       " 'test/4cd451404d1d576e9fac3680068fc10a.jpg',\n",
       " 'test/f6c76521f3eb52045af1c3a5cc05e64f.jpg',\n",
       " 'test/c7544aa210a3148fb29dfb17e45ea3b0.jpg',\n",
       " 'test/a9e58621353fbf5376bf6689a13578d1.jpg',\n",
       " 'test/eb2f2ad0f785a7c85f8c62969be71e2a.jpg',\n",
       " 'test/51a79ea47f89ff2ebaa879d5ccf132f0.jpg',\n",
       " 'test/abdf2a7ba41040224ba3bcf2cb1c4c21.jpg',\n",
       " 'test/ff194ab5709702a2eafb5e9063348776.jpg',\n",
       " 'test/471de9d0431f986195b97b11a074f1a0.jpg',\n",
       " 'test/3b086107fe78cf5c22975e9fa0a18da7.jpg',\n",
       " 'test/e7feb64da6aae1ef8e62453f6660d0c5.jpg',\n",
       " 'test/77fbc571d85238151072c9ef7d0f4c9e.jpg',\n",
       " 'test/3c3ab13edde7d2293d45d453a5a7df95.jpg',\n",
       " 'test/f9c6eaf6f490f30fdecd76831805d0f7.jpg',\n",
       " 'test/84dbf7465e8c4055de1840a3a5ac7c49.jpg',\n",
       " 'test/ed71e43cf7e5e8449879b5f0d38f3bd0.jpg',\n",
       " 'test/6570caa02983d571c7a073d82cc5fb9c.jpg',\n",
       " 'test/9d024559062d855289c59de3071025c1.jpg',\n",
       " 'test/913777c418746d3f063f0fd6b46e5c52.jpg',\n",
       " 'test/0f9c64778bf451d709e54c66868ff8de.jpg',\n",
       " 'test/3c2184aa6f31301b9e43e7d8360f8bd1.jpg',\n",
       " 'test/467e59a59e62e4145fbf49f5a82d9b12.jpg',\n",
       " 'test/32c88a21c86293c59b59563499ac48a1.jpg',\n",
       " 'test/a2c3280726908cca724fbb0b22fece26.jpg',\n",
       " 'test/90470ab0eb156b067fa20260a5667f76.jpg',\n",
       " 'test/87b5a6504ccaee29470d976556262676.jpg',\n",
       " 'test/6964b5801dee4d11fd56a2c873021a6e.jpg',\n",
       " 'test/0292b3dfcab314b7b2bf705f80565508.jpg',\n",
       " 'test/b373ce8b0e1de183a2adff0ec7c36d19.jpg',\n",
       " 'test/4bddac4bf91f5b45dc8104db791deb97.jpg',\n",
       " 'test/cff3b5c499c24d2d93074628a3b27362.jpg',\n",
       " 'test/a8b5093fc641e3c13678dad11059498a.jpg',\n",
       " 'test/fbf4abbd32d544ff9b5df6af25eec3e3.jpg',\n",
       " 'test/0aef0a7e7a79092235213555be0e1f52.jpg',\n",
       " 'test/f3cbc8bcd54963296f75377d6fe931d3.jpg',\n",
       " 'test/f13508048aa548af116601fa59bd4c62.jpg',\n",
       " 'test/b964a6ca60f81c19e84ad0aaa9ed6f88.jpg',\n",
       " 'test/6325d16890b72d22008ed74b93d5d9b9.jpg',\n",
       " 'test/1dc4d0b30221828f13cc24a22f8f414d.jpg',\n",
       " 'test/84072d2142d43e27decbad9736141bb0.jpg',\n",
       " 'test/b19f7853f6b2b84a99fc3b7c8a8eaa64.jpg',\n",
       " 'test/2d7c2ac3fe912d9545ba692490b45d00.jpg',\n",
       " 'test/33f49ad67acfe8816d56d232fe87b48b.jpg',\n",
       " 'test/996e75ccdd15e67592ea6975b236fa99.jpg',\n",
       " 'test/d029b3c425cd0c5e8a3de3969be1a295.jpg',\n",
       " 'test/d8e39eb35436e6c4e1119cbe377c4371.jpg',\n",
       " 'test/68cfc459e57429b1f8b6372fa1363a60.jpg',\n",
       " 'test/8a61ad45cae28a62f8a173f62cdb20da.jpg',\n",
       " 'test/65cdc168805f51f7c15c40c899107cd9.jpg',\n",
       " 'test/9cb3e790efcfc5b50f1d5540d41580e9.jpg',\n",
       " 'test/5398793d976fc97d23d340070ddd3e9c.jpg',\n",
       " 'test/5de79cddad717b04df0dcb7a132dd5f1.jpg',\n",
       " 'test/0a3900f02e38cd042f23a6be538b95d6.jpg',\n",
       " 'test/a6f7a3bad09db1ac741a7dbb765482f2.jpg',\n",
       " 'test/b171e4ea1717aefa495e4b5e67dba0f1.jpg',\n",
       " 'test/e00a1b26edd5cb7323e3b75ce37b36f6.jpg',\n",
       " 'test/a079f72193264bc5685e5d28d7372680.jpg',\n",
       " 'test/900c2fdffec1ca6956208ff7a236926e.jpg',\n",
       " 'test/f85ccd6fb240cd4771e80c1e3aeea571.jpg',\n",
       " 'test/1ba2c344ca747ec77f6835524ff55d17.jpg',\n",
       " 'test/35285831a42d652521a33132f01f6147.jpg',\n",
       " 'test/53f1223c8c9953c2b7871ca340a98d6e.jpg',\n",
       " 'test/11f9a644c6e7a1ec847b917e99462e72.jpg',\n",
       " 'test/f191370aae3cc8e282cfd72ecdcc2226.jpg',\n",
       " 'test/1a3439ab77376430b15342d99d666278.jpg',\n",
       " 'test/1acbf4637bcce746291d39e8147efaa3.jpg',\n",
       " 'test/24806cdc7c2b99ab77532d98e7431b43.jpg',\n",
       " 'test/0441fda84f1eab8ddc72a8262a66e626.jpg',\n",
       " 'test/f13011a399f175d88c17d2bd1785625e.jpg',\n",
       " 'test/da383e0970244d4308a9335b3ae1d8da.jpg',\n",
       " 'test/0ac820001998537915e7769da3746d27.jpg',\n",
       " 'test/aac9a11187e8d0c4d7fa8b7f9cde597a.jpg',\n",
       " 'test/6fc886ae22650ecdb5ac911cb621a077.jpg',\n",
       " 'test/b7d611dec18c9a7557fbe3f6e06eb64a.jpg',\n",
       " 'test/8d88b714ded29910d3f20474f22519b1.jpg',\n",
       " 'test/1a9721dd4a7f07d1fcd55d03271f9a6e.jpg',\n",
       " 'test/3a388f3caac1d147b4c0ea1d65bb95fb.jpg',\n",
       " 'test/4f5ef91d33d35b31d91e2fe250bc88cb.jpg',\n",
       " 'test/4692b7d214fafbff4266a3a8678a1fd6.jpg',\n",
       " 'test/6328b8ab5bb3efb5251f14020503c1c9.jpg',\n",
       " 'test/b6b1b982d156cd439f9bca9a81f67236.jpg',\n",
       " 'test/80ca00d1e173fc554f845789c02db0b7.jpg',\n",
       " 'test/3205cb93ca3a4252bc181099ea77d44a.jpg',\n",
       " 'test/635c4c250784ebae26bf40f48a9a1e39.jpg',\n",
       " 'test/9c7817f5a1890558f7d83f16b29151b4.jpg',\n",
       " 'test/ea5a2c10729ab1ffec74c0aabce02b52.jpg',\n",
       " 'test/f9be307623c1963af3e15a7214c2b41c.jpg',\n",
       " 'test/e7041fdc87517192097e62b3822309b7.jpg',\n",
       " 'test/e241e149039740594a6af60dc18b269b.jpg',\n",
       " 'test/833f90a3652b06607b55bd25c8d97457.jpg',\n",
       " 'test/7a788b37d42f1730a49a5471f3375baa.jpg',\n",
       " 'test/3cc9adc023849da1316cfeb2bb53867f.jpg',\n",
       " 'test/d2dec608053c1cf80cae8116cd470cda.jpg',\n",
       " 'test/6fc46f5784216d62f75acf546152966a.jpg',\n",
       " 'test/20a45da826224a3bf23672e2e186f5ac.jpg',\n",
       " 'test/a707b3d8ba33c5b1bfb10a0339766dd2.jpg',\n",
       " 'test/88d23b246d593dff5ea91d0e07408384.jpg',\n",
       " 'test/9c9705b091f764a27968d480e4b8f108.jpg',\n",
       " 'test/eb8d19898e69b355679f98fe068cb06a.jpg',\n",
       " 'test/4edda78c9a49e0e8a866966275178124.jpg',\n",
       " 'test/57ff0f64f17597e00f58aa6db0392f83.jpg',\n",
       " 'test/aa7cdc576f346efa2b3bf7e130c69f1c.jpg',\n",
       " 'test/b71cb26e95889e2f80bffa88d856c482.jpg',\n",
       " 'test/7495c3d0ada8b19e865fe5655535086c.jpg',\n",
       " 'test/09be34319680d5e6a5608f74d4825271.jpg',\n",
       " 'test/dea92807aa2ac37bbc2dabf1b0eb6a39.jpg',\n",
       " 'test/301a51616f2b84c02b62e1eacf70dd71.jpg',\n",
       " 'test/51ba0fb4a151b32094020584e6326053.jpg',\n",
       " 'test/79c961a446f41f6c090a2df5abab1c6b.jpg',\n",
       " 'test/0201de3d74ad48774e0bd55d04d2966d.jpg',\n",
       " 'test/8bc098fd981ba69ebb346b6a1608b0b5.jpg',\n",
       " 'test/2a1aef68849e0e8bc88bf70771042fb2.jpg',\n",
       " 'test/e36ec4ab8218060660ec82fd6c4757a7.jpg',\n",
       " 'test/5f1dfd4952895fd3ca80b370dc1d65c7.jpg',\n",
       " 'test/35933ae46db73367572fac0a28646c9e.jpg',\n",
       " 'test/fd5d6dd2e57b708630cfaddd768641d6.jpg',\n",
       " 'test/058088311a4ff2c40acd1648ed8363fd.jpg',\n",
       " 'test/215e4caf84bdb4db786eb3b8b8663b6b.jpg',\n",
       " 'test/c7232f1365c363c18453cda2063f59a9.jpg',\n",
       " 'test/18833355ff91e5a959cb94d026a5ebdf.jpg',\n",
       " 'test/d75b525a57d91ebf47826956b0f2318e.jpg',\n",
       " 'test/5ab92bb65ccc22cd3a22bef689e86e61.jpg',\n",
       " 'test/21fecc9ad1cd0fed9d19662c7a69d31e.jpg',\n",
       " 'test/c142aaf180c17ce11d7f2291d4631fa3.jpg',\n",
       " 'test/6cdff5325cb35cfd44447b9e4f6cb7b4.jpg',\n",
       " 'test/17c9e54626577c259d861cc61ff95508.jpg',\n",
       " 'test/fecd62d8caf2bad07e0cb279ba346939.jpg',\n",
       " 'test/7724f2bf59c6aab65c8e1a7e26c7f4f8.jpg',\n",
       " 'test/e5b14b20ee8ac070bf5cea3b640f3dde.jpg',\n",
       " 'test/b7a8008f12df534faca9d5403fea0ec8.jpg',\n",
       " 'test/25e33a00a13d5f0d18eb5ec3651e09c8.jpg',\n",
       " 'test/0b255f836ab0e2c1a76479588fb678b5.jpg',\n",
       " 'test/c6a275328bd553179e41c9f017e084ab.jpg',\n",
       " 'test/23e3de07d79b125aa21651f6d2bb972b.jpg',\n",
       " 'test/cd2329a9004fa2f39201a2107263afcc.jpg',\n",
       " 'test/6623edc9139505ea3d1da178a2870534.jpg',\n",
       " 'test/bbd6ebf6cea000cf5df2c649b138959d.jpg',\n",
       " 'test/fc1361e2abbb2911c812d40335ffb8bd.jpg',\n",
       " 'test/5fb134dc248a7b120e4ed4fbf60430bf.jpg',\n",
       " 'test/841bf5867e9c7f162e0aa7411d4c13d9.jpg',\n",
       " 'test/a40573873937250a9cda0defa8667bab.jpg',\n",
       " 'test/a5d697b382d112372ae2fd1a1b625f3f.jpg',\n",
       " 'test/f6b7274f16f605b9649fd021a5c70046.jpg',\n",
       " 'test/3f9c221d07748dd36c06e196c751be51.jpg',\n",
       " 'test/a00866ef441ff30b22e0fdc31b1fd604.jpg',\n",
       " 'test/83ee46c4f2fb37c7617dbac9fc49706d.jpg',\n",
       " 'test/ba14cb85310ba024d7c46af6070e9937.jpg',\n",
       " 'test/fa1460c331de2f6e6e5b1c97f1c51047.jpg',\n",
       " 'test/ac2c22af940590c0458297e86839ce51.jpg',\n",
       " 'test/545c3279db44dc7c00ccded6eb2ccaa3.jpg',\n",
       " 'test/58fbd8d644057e463ca4e9c88d46b285.jpg',\n",
       " 'test/f1c1f35ca91cd9d007f957da29aa087e.jpg',\n",
       " 'test/48d0737c8d57d673ad2f3ee0475d7f49.jpg',\n",
       " 'test/52c2aa603ea6537d4568d4e9da3bacf4.jpg',\n",
       " 'test/77c922894ce01be17d3016a377f985d1.jpg',\n",
       " 'test/486f3cc1d1324b8633278ef97719cab6.jpg',\n",
       " 'test/cd0a8261be06236f76518a976d38c071.jpg',\n",
       " 'test/f8c2b412dd7b37e28234314f6396aaed.jpg',\n",
       " 'test/00e51308952848ae67b3ff8b53895119.jpg',\n",
       " 'test/0a0b97441050bba8e733506de4655ea1.jpg',\n",
       " 'test/e850770a6575a34b1c7ad4b401692553.jpg',\n",
       " 'test/8532fae23df205b4c71e36297555a584.jpg',\n",
       " 'test/77c1ab99cffb817d54fb14f229aeb118.jpg',\n",
       " 'test/20d14fb3517af117763a501e72335276.jpg',\n",
       " 'test/8ff393d19801032103f029e09eabfa2e.jpg',\n",
       " 'test/2896468b0aa9423a2db1b25f24412a67.jpg',\n",
       " 'test/c87b574003ac9568970b70f29702bf85.jpg',\n",
       " 'test/28b30b0bf0eb138e89aa590e4a3ebdd9.jpg',\n",
       " 'test/5b5b63c4aebbacadb9c893349b584fed.jpg',\n",
       " 'test/34be0a34ffdd0a6415f6adada8864a1e.jpg',\n",
       " 'test/5352f9494a1f1a3dcf56a7153d844926.jpg',\n",
       " 'test/795bd673cfe2178819c10a042fa77b5b.jpg',\n",
       " 'test/5b8fe1b3769460952465a296e6f5b53a.jpg',\n",
       " 'test/57d16b446de9760c62e4aac3a2034b7b.jpg',\n",
       " 'test/f63632142392cb2f86a39d03a937088e.jpg',\n",
       " 'test/6893b5ed882c7ae791e4a440f613a3f8.jpg',\n",
       " 'test/7da747e1a6d5422016a7491c6c76cb32.jpg',\n",
       " 'test/5924b48dc045ffcb094ce0adfd09fc20.jpg',\n",
       " 'test/f6cc3ff7f1eef6c625b18c1f9d1b384d.jpg',\n",
       " 'test/bff7112ce4992789da240668070a9b14.jpg',\n",
       " 'test/88c64508d071c4f25dec348e55e79eb7.jpg',\n",
       " 'test/ccc75852ccfe236eb8bf16c55f55d5fd.jpg',\n",
       " 'test/4cd769bd34e3d5243657ab6788993664.jpg',\n",
       " 'test/61a2bf4fc6f35bff211a298b6fc23d8d.jpg',\n",
       " 'test/a44bf9ce05d46a65d22049d186f8f813.jpg',\n",
       " 'test/6c2ed88e24f9415f17aa0f5de59548a9.jpg',\n",
       " 'test/115e90d8a953820b54e2a63199223b0a.jpg',\n",
       " 'test/538e7a043f4435bb7b4be8fbdc73f2d9.jpg',\n",
       " 'test/f39a1f1692b67eb9c92a29f14a07d568.jpg',\n",
       " 'test/9a9b00d800968e1b17c747ac1bcd237c.jpg',\n",
       " 'test/b7b044e87e1e0acbe91312bbfff680f8.jpg',\n",
       " ...]"
      ]
     },
     "execution_count": 69,
     "metadata": {},
     "output_type": "execute_result"
    }
   ],
   "source": [
    "data.test_ds.fnames"
   ]
  },
  {
   "cell_type": "code",
   "execution_count": 77,
   "metadata": {},
   "outputs": [
    {
     "name": "stdout",
     "output_type": "stream",
     "text": [
      "                                              \r"
     ]
    }
   ],
   "source": [
    "log_preds,y = learn.TTA(is_test=True)"
   ]
  },
  {
   "cell_type": "code",
   "execution_count": 78,
   "metadata": {
    "collapsed": true
   },
   "outputs": [],
   "source": [
    "#probs = np.exp(log_preds)\n",
    "probs=np.mean(np.exp(log_preds),0)"
   ]
  },
  {
   "cell_type": "code",
   "execution_count": 79,
   "metadata": {},
   "outputs": [
    {
     "data": {
      "text/plain": [
       "(10357, 120)"
      ]
     },
     "execution_count": 79,
     "metadata": {},
     "output_type": "execute_result"
    }
   ],
   "source": [
    "probs.shape"
   ]
  },
  {
   "cell_type": "code",
   "execution_count": 80,
   "metadata": {
    "collapsed": true
   },
   "outputs": [],
   "source": [
    "df=pd.DataFrame(probs)\n",
    "df.columns=data.classes"
   ]
  },
  {
   "cell_type": "code",
   "execution_count": 81,
   "metadata": {},
   "outputs": [
    {
     "data": {
      "text/html": [
       "<div>\n",
       "<style scoped>\n",
       "    .dataframe tbody tr th:only-of-type {\n",
       "        vertical-align: middle;\n",
       "    }\n",
       "\n",
       "    .dataframe tbody tr th {\n",
       "        vertical-align: top;\n",
       "    }\n",
       "\n",
       "    .dataframe thead th {\n",
       "        text-align: right;\n",
       "    }\n",
       "</style>\n",
       "<table border=\"1\" class=\"dataframe\">\n",
       "  <thead>\n",
       "    <tr style=\"text-align: right;\">\n",
       "      <th></th>\n",
       "      <th>id</th>\n",
       "      <th>affenpinscher</th>\n",
       "      <th>afghan_hound</th>\n",
       "      <th>african_hunting_dog</th>\n",
       "      <th>airedale</th>\n",
       "      <th>american_staffordshire_terrier</th>\n",
       "      <th>appenzeller</th>\n",
       "      <th>australian_terrier</th>\n",
       "      <th>basenji</th>\n",
       "      <th>basset</th>\n",
       "      <th>...</th>\n",
       "      <th>toy_poodle</th>\n",
       "      <th>toy_terrier</th>\n",
       "      <th>vizsla</th>\n",
       "      <th>walker_hound</th>\n",
       "      <th>weimaraner</th>\n",
       "      <th>welsh_springer_spaniel</th>\n",
       "      <th>west_highland_white_terrier</th>\n",
       "      <th>whippet</th>\n",
       "      <th>wire-haired_fox_terrier</th>\n",
       "      <th>yorkshire_terrier</th>\n",
       "    </tr>\n",
       "  </thead>\n",
       "  <tbody>\n",
       "    <tr>\n",
       "      <th>0</th>\n",
       "      <td>48affd737a322f7f6b4bf9367a5f3ae4</td>\n",
       "      <td>2.182028e-11</td>\n",
       "      <td>6.728823e-13</td>\n",
       "      <td>5.653933e-12</td>\n",
       "      <td>2.790213e-10</td>\n",
       "      <td>8.393108e-11</td>\n",
       "      <td>1.474309e-11</td>\n",
       "      <td>2.243267e-10</td>\n",
       "      <td>3.552624e-09</td>\n",
       "      <td>3.577321e-12</td>\n",
       "      <td>...</td>\n",
       "      <td>9.718464e-01</td>\n",
       "      <td>2.577993e-09</td>\n",
       "      <td>3.202979e-10</td>\n",
       "      <td>2.124044e-12</td>\n",
       "      <td>4.747267e-13</td>\n",
       "      <td>1.325020e-12</td>\n",
       "      <td>4.853122e-12</td>\n",
       "      <td>4.441496e-14</td>\n",
       "      <td>1.357104e-13</td>\n",
       "      <td>1.030347e-08</td>\n",
       "    </tr>\n",
       "    <tr>\n",
       "      <th>1</th>\n",
       "      <td>ad8db033602b45cc7006f5e534ca8f08</td>\n",
       "      <td>3.661830e-07</td>\n",
       "      <td>7.375360e-06</td>\n",
       "      <td>3.012648e-05</td>\n",
       "      <td>3.714552e-06</td>\n",
       "      <td>6.555590e-06</td>\n",
       "      <td>1.523756e-06</td>\n",
       "      <td>1.042148e-05</td>\n",
       "      <td>1.065365e-06</td>\n",
       "      <td>5.357198e-06</td>\n",
       "      <td>...</td>\n",
       "      <td>8.393205e-06</td>\n",
       "      <td>9.912112e-07</td>\n",
       "      <td>1.422586e-05</td>\n",
       "      <td>8.766365e-06</td>\n",
       "      <td>3.847140e-05</td>\n",
       "      <td>1.327752e-05</td>\n",
       "      <td>1.464779e-06</td>\n",
       "      <td>9.578634e-07</td>\n",
       "      <td>9.274062e-07</td>\n",
       "      <td>2.456075e-06</td>\n",
       "    </tr>\n",
       "    <tr>\n",
       "      <th>2</th>\n",
       "      <td>dc8f2d7265bf853fce9e87585cd63853</td>\n",
       "      <td>5.349672e-07</td>\n",
       "      <td>1.575105e-06</td>\n",
       "      <td>5.845709e-06</td>\n",
       "      <td>1.098644e-04</td>\n",
       "      <td>1.048165e-06</td>\n",
       "      <td>2.277025e-07</td>\n",
       "      <td>5.228717e-06</td>\n",
       "      <td>3.847484e-06</td>\n",
       "      <td>3.297985e-07</td>\n",
       "      <td>...</td>\n",
       "      <td>5.093874e-07</td>\n",
       "      <td>5.780513e-07</td>\n",
       "      <td>4.599700e-05</td>\n",
       "      <td>2.864296e-07</td>\n",
       "      <td>1.401969e-07</td>\n",
       "      <td>3.790530e-05</td>\n",
       "      <td>2.453242e-06</td>\n",
       "      <td>4.341944e-07</td>\n",
       "      <td>1.007722e-02</td>\n",
       "      <td>1.989332e-06</td>\n",
       "    </tr>\n",
       "    <tr>\n",
       "      <th>3</th>\n",
       "      <td>9bb4213b044033a0efffc81fefda6d2b</td>\n",
       "      <td>6.326006e-10</td>\n",
       "      <td>6.818539e-10</td>\n",
       "      <td>2.876198e-07</td>\n",
       "      <td>5.599437e-11</td>\n",
       "      <td>4.046262e-09</td>\n",
       "      <td>1.176508e-07</td>\n",
       "      <td>2.307378e-10</td>\n",
       "      <td>1.160970e-07</td>\n",
       "      <td>3.539497e-10</td>\n",
       "      <td>...</td>\n",
       "      <td>4.120839e-09</td>\n",
       "      <td>3.262241e-10</td>\n",
       "      <td>4.271176e-09</td>\n",
       "      <td>1.084711e-08</td>\n",
       "      <td>5.596309e-10</td>\n",
       "      <td>6.276146e-10</td>\n",
       "      <td>5.326466e-10</td>\n",
       "      <td>4.877260e-09</td>\n",
       "      <td>3.314122e-09</td>\n",
       "      <td>2.879054e-10</td>\n",
       "    </tr>\n",
       "    <tr>\n",
       "      <th>4</th>\n",
       "      <td>adbea7e1520c940fba5990b23ee9a625</td>\n",
       "      <td>6.930436e-09</td>\n",
       "      <td>5.991514e-08</td>\n",
       "      <td>1.764336e-07</td>\n",
       "      <td>1.384506e-08</td>\n",
       "      <td>1.025118e-08</td>\n",
       "      <td>3.209222e-10</td>\n",
       "      <td>4.026087e-10</td>\n",
       "      <td>1.142998e-08</td>\n",
       "      <td>2.244260e-09</td>\n",
       "      <td>...</td>\n",
       "      <td>1.083858e-05</td>\n",
       "      <td>3.581981e-08</td>\n",
       "      <td>3.365066e-08</td>\n",
       "      <td>2.180394e-08</td>\n",
       "      <td>1.862033e-07</td>\n",
       "      <td>7.449888e-10</td>\n",
       "      <td>6.534616e-09</td>\n",
       "      <td>9.378633e-09</td>\n",
       "      <td>1.765588e-09</td>\n",
       "      <td>2.844157e-10</td>\n",
       "    </tr>\n",
       "  </tbody>\n",
       "</table>\n",
       "<p>5 rows × 121 columns</p>\n",
       "</div>"
      ],
      "text/plain": [
       "                                 id  affenpinscher  afghan_hound  \\\n",
       "0  48affd737a322f7f6b4bf9367a5f3ae4   2.182028e-11  6.728823e-13   \n",
       "1  ad8db033602b45cc7006f5e534ca8f08   3.661830e-07  7.375360e-06   \n",
       "2  dc8f2d7265bf853fce9e87585cd63853   5.349672e-07  1.575105e-06   \n",
       "3  9bb4213b044033a0efffc81fefda6d2b   6.326006e-10  6.818539e-10   \n",
       "4  adbea7e1520c940fba5990b23ee9a625   6.930436e-09  5.991514e-08   \n",
       "\n",
       "   african_hunting_dog      airedale  american_staffordshire_terrier  \\\n",
       "0         5.653933e-12  2.790213e-10                    8.393108e-11   \n",
       "1         3.012648e-05  3.714552e-06                    6.555590e-06   \n",
       "2         5.845709e-06  1.098644e-04                    1.048165e-06   \n",
       "3         2.876198e-07  5.599437e-11                    4.046262e-09   \n",
       "4         1.764336e-07  1.384506e-08                    1.025118e-08   \n",
       "\n",
       "    appenzeller  australian_terrier       basenji        basset  \\\n",
       "0  1.474309e-11        2.243267e-10  3.552624e-09  3.577321e-12   \n",
       "1  1.523756e-06        1.042148e-05  1.065365e-06  5.357198e-06   \n",
       "2  2.277025e-07        5.228717e-06  3.847484e-06  3.297985e-07   \n",
       "3  1.176508e-07        2.307378e-10  1.160970e-07  3.539497e-10   \n",
       "4  3.209222e-10        4.026087e-10  1.142998e-08  2.244260e-09   \n",
       "\n",
       "         ...            toy_poodle   toy_terrier        vizsla  walker_hound  \\\n",
       "0        ...          9.718464e-01  2.577993e-09  3.202979e-10  2.124044e-12   \n",
       "1        ...          8.393205e-06  9.912112e-07  1.422586e-05  8.766365e-06   \n",
       "2        ...          5.093874e-07  5.780513e-07  4.599700e-05  2.864296e-07   \n",
       "3        ...          4.120839e-09  3.262241e-10  4.271176e-09  1.084711e-08   \n",
       "4        ...          1.083858e-05  3.581981e-08  3.365066e-08  2.180394e-08   \n",
       "\n",
       "     weimaraner  welsh_springer_spaniel  west_highland_white_terrier  \\\n",
       "0  4.747267e-13            1.325020e-12                 4.853122e-12   \n",
       "1  3.847140e-05            1.327752e-05                 1.464779e-06   \n",
       "2  1.401969e-07            3.790530e-05                 2.453242e-06   \n",
       "3  5.596309e-10            6.276146e-10                 5.326466e-10   \n",
       "4  1.862033e-07            7.449888e-10                 6.534616e-09   \n",
       "\n",
       "        whippet  wire-haired_fox_terrier  yorkshire_terrier  \n",
       "0  4.441496e-14             1.357104e-13       1.030347e-08  \n",
       "1  9.578634e-07             9.274062e-07       2.456075e-06  \n",
       "2  4.341944e-07             1.007722e-02       1.989332e-06  \n",
       "3  4.877260e-09             3.314122e-09       2.879054e-10  \n",
       "4  9.378633e-09             1.765588e-09       2.844157e-10  \n",
       "\n",
       "[5 rows x 121 columns]"
      ]
     },
     "execution_count": 81,
     "metadata": {},
     "output_type": "execute_result"
    }
   ],
   "source": [
    "df.insert(0, 'id', [o[5:-4] for o in data.test_ds.fnames])\n",
    "df.head()"
   ]
  },
  {
   "cell_type": "code",
   "execution_count": 82,
   "metadata": {
    "collapsed": true
   },
   "outputs": [],
   "source": [
    "SUBM = f'{PATH}sub/' \n",
    "os.makedirs(SUBM, exist_ok=True) \n",
    "df.to_csv(f'{SUBM}subm.gz', compression='gzip', index=False)"
   ]
  },
  {
   "cell_type": "code",
   "execution_count": 83,
   "metadata": {},
   "outputs": [
    {
     "data": {
      "text/html": [
       "<a href='/home/vishnu/Documents/DeepLearningProjects/data/dogbreeds/sub/subm.gz' target='_blank'>/home/vishnu/Documents/DeepLearningProjects/data/dogbreeds/sub/subm.gz</a><br>"
      ],
      "text/plain": [
       "/home/vishnu/Documents/DeepLearningProjects/data/dogbreeds/sub/subm.gz"
      ]
     },
     "execution_count": 83,
     "metadata": {},
     "output_type": "execute_result"
    }
   ],
   "source": [
    "FileLink(f'{SUBM}subm.gz')"
   ]
  },
  {
   "cell_type": "markdown",
   "metadata": {
    "heading_collapsed": true
   },
   "source": [
    "### individual prediction\n"
   ]
  },
  {
   "cell_type": "code",
   "execution_count": 84,
   "metadata": {
    "hidden": true
   },
   "outputs": [
    {
     "data": {
      "text/plain": [
       "'train/000bec180eb18c7604dcecc8fe0dba07.jpg'"
      ]
     },
     "execution_count": 84,
     "metadata": {},
     "output_type": "execute_result"
    }
   ],
   "source": [
    "fn=data.val_ds.fnames[0]\n",
    "fn"
   ]
  },
  {
   "cell_type": "code",
   "execution_count": 85,
   "metadata": {
    "hidden": true
   },
   "outputs": [
    {
     "data": {
      "image/png": "[encoded data removed]",
      "text/plain": [
       "<PIL.Image.Image image mode=RGB size=150x150 at 0x7F26E1096A20>"
      ]
     },
     "execution_count": 85,
     "metadata": {},
     "output_type": "execute_result"
    }
   ],
   "source": [
    "PIL.Image.open(PATH+fn).resize((150,150))"
   ]
  },
  {
   "cell_type": "code",
   "execution_count": 86,
   "metadata": {
    "collapsed": true,
    "hidden": true
   },
   "outputs": [],
   "source": [
    "trn_tfms,val_tfms=tfms_from_model(arch,image_size)"
   ]
  },
  {
   "cell_type": "code",
   "execution_count": 87,
   "metadata": {
    "collapsed": true,
    "hidden": true
   },
   "outputs": [],
   "source": [
    "ds=FilesIndexArrayDataset([fn],np.array([0]),val_tfms,PATH)\n",
    "dl=DataLoader(ds)\n",
    "preds=learn.predict_dl(dl)"
   ]
  },
  {
   "cell_type": "code",
   "execution_count": 88,
   "metadata": {
    "hidden": true
   },
   "outputs": [
    {
     "data": {
      "text/plain": [
       "19"
      ]
     },
     "execution_count": 88,
     "metadata": {},
     "output_type": "execute_result"
    }
   ],
   "source": [
    "np.argmax(preds)"
   ]
  },
  {
   "cell_type": "code",
   "execution_count": null,
   "metadata": {
    "collapsed": true,
    "hidden": true
   },
   "outputs": [],
   "source": [
    "im = val_tfms(Image.open(PATH+fn))\n",
    "preds = learn.predict_array(im[None])\n",
    "np.argmax(preds)"
   ]
  }
 ],
 "metadata": {
  "kernelspec": {
   "display_name": "Python 3",
   "language": "python",
   "name": "python3"
  },
  "language_info": {
   "codemirror_mode": {
    "name": "ipython",
    "version": 3
   },
   "file_extension": ".py",
   "mimetype": "text/x-python",
   "name": "python",
   "nbconvert_exporter": "python",
   "pygments_lexer": "ipython3",
   "version": "3.6.4"
  }
 },
 "nbformat": 4,
 "nbformat_minor": 2
}
