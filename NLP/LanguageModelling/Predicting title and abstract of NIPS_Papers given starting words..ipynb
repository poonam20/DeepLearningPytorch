{
 "cells": [
  {
   "cell_type": "markdown",
   "metadata": {},
   "source": [
    "### Imports"
   ]
  },
  {
   "cell_type": "code",
   "execution_count": 1,
   "metadata": {},
   "outputs": [],
   "source": [
    "#download data from https://www.kaggle.com/benhamner/nips-papers#papers.csv"
   ]
  },
  {
   "cell_type": "code",
   "execution_count": 1,
   "metadata": {},
   "outputs": [],
   "source": [
    "%reload_ext autoreload\n",
    "%autoreload 2\n",
    "%matplotlib inline\n",
    "\n",
    "from fastai.nlp import *\n",
    "from sklearn.linear_model import LogisticRegression\n",
    "from sklearn.svm import LinearSVC\n",
    "from torchtext import vocab, data, datasets\n",
    "import pandas as pd\n",
    "from pathlib import Path\n"
   ]
  },
  {
   "cell_type": "code",
   "execution_count": 2,
   "metadata": {},
   "outputs": [],
   "source": [
    "sl=1000\n",
    "vocab_size=200000\n",
    "PATH=Path('../../data/language_modeling/nips_papers/')\n",
    "\n",
    "TRN_PATH = PATH/'all/trn'\n",
    "VAL_PATH = PATH/'all/val'"
   ]
  },
  {
   "cell_type": "markdown",
   "metadata": {},
   "source": [
    "### Import and clean data"
   ]
  },
  {
   "cell_type": "code",
   "execution_count": 42,
   "metadata": {},
   "outputs": [
    {
     "name": "stdout",
     "output_type": "stream",
     "text": [
      "(7241, 7)\n"
     ]
    },
    {
     "data": {
      "text/html": [
       "<div>\n",
       "<style scoped>\n",
       "    .dataframe tbody tr th:only-of-type {\n",
       "        vertical-align: middle;\n",
       "    }\n",
       "\n",
       "    .dataframe tbody tr th {\n",
       "        vertical-align: top;\n",
       "    }\n",
       "\n",
       "    .dataframe thead th {\n",
       "        text-align: right;\n",
       "    }\n",
       "</style>\n",
       "<table border=\"1\" class=\"dataframe\">\n",
       "  <thead>\n",
       "    <tr style=\"text-align: right;\">\n",
       "      <th></th>\n",
       "      <th>id</th>\n",
       "      <th>year</th>\n",
       "      <th>title</th>\n",
       "      <th>event_type</th>\n",
       "      <th>pdf_name</th>\n",
       "      <th>abstract</th>\n",
       "      <th>paper_text</th>\n",
       "    </tr>\n",
       "  </thead>\n",
       "  <tbody>\n",
       "    <tr>\n",
       "      <th>0</th>\n",
       "      <td>1</td>\n",
       "      <td>1987</td>\n",
       "      <td>Self-Organization of Associative Database and ...</td>\n",
       "      <td>NaN</td>\n",
       "      <td>1-self-organization-of-associative-database-an...</td>\n",
       "      <td>Abstract Missing</td>\n",
       "      <td>767\\n\\nSELF-ORGANIZATION OF ASSOCIATIVE DATABA...</td>\n",
       "    </tr>\n",
       "    <tr>\n",
       "      <th>1</th>\n",
       "      <td>10</td>\n",
       "      <td>1987</td>\n",
       "      <td>A Mean Field Theory of Layer IV of Visual Cort...</td>\n",
       "      <td>NaN</td>\n",
       "      <td>10-a-mean-field-theory-of-layer-iv-of-visual-c...</td>\n",
       "      <td>Abstract Missing</td>\n",
       "      <td>683\\n\\nA MEAN FIELD THEORY OF LAYER IV OF VISU...</td>\n",
       "    </tr>\n",
       "    <tr>\n",
       "      <th>2</th>\n",
       "      <td>100</td>\n",
       "      <td>1988</td>\n",
       "      <td>Storing Covariance by the Associative Long-Ter...</td>\n",
       "      <td>NaN</td>\n",
       "      <td>100-storing-covariance-by-the-associative-long...</td>\n",
       "      <td>Abstract Missing</td>\n",
       "      <td>394\\n\\nSTORING COVARIANCE BY THE ASSOCIATIVE\\n...</td>\n",
       "    </tr>\n",
       "    <tr>\n",
       "      <th>3</th>\n",
       "      <td>1000</td>\n",
       "      <td>1994</td>\n",
       "      <td>Bayesian Query Construction for Neural Network...</td>\n",
       "      <td>NaN</td>\n",
       "      <td>1000-bayesian-query-construction-for-neural-ne...</td>\n",
       "      <td>Abstract Missing</td>\n",
       "      <td>Bayesian Query Construction for Neural\\nNetwor...</td>\n",
       "    </tr>\n",
       "    <tr>\n",
       "      <th>4</th>\n",
       "      <td>1001</td>\n",
       "      <td>1994</td>\n",
       "      <td>Neural Network Ensembles, Cross Validation, an...</td>\n",
       "      <td>NaN</td>\n",
       "      <td>1001-neural-network-ensembles-cross-validation...</td>\n",
       "      <td>Abstract Missing</td>\n",
       "      <td>Neural Network Ensembles, Cross\\nValidation, a...</td>\n",
       "    </tr>\n",
       "    <tr>\n",
       "      <th>5</th>\n",
       "      <td>1002</td>\n",
       "      <td>1994</td>\n",
       "      <td>Using a neural net to instantiate a deformable...</td>\n",
       "      <td>NaN</td>\n",
       "      <td>1002-using-a-neural-net-to-instantiate-a-defor...</td>\n",
       "      <td>Abstract Missing</td>\n",
       "      <td>U sing a neural net to instantiate a\\ndeformab...</td>\n",
       "    </tr>\n",
       "    <tr>\n",
       "      <th>6</th>\n",
       "      <td>1003</td>\n",
       "      <td>1994</td>\n",
       "      <td>Plasticity-Mediated Competitive Learning</td>\n",
       "      <td>NaN</td>\n",
       "      <td>1003-plasticity-mediated-competitive-learning.pdf</td>\n",
       "      <td>Abstract Missing</td>\n",
       "      <td>Plasticity-Mediated Competitive Learning\\n\\nTe...</td>\n",
       "    </tr>\n",
       "    <tr>\n",
       "      <th>7</th>\n",
       "      <td>1004</td>\n",
       "      <td>1994</td>\n",
       "      <td>ICEG Morphology Classification using an Analog...</td>\n",
       "      <td>NaN</td>\n",
       "      <td>1004-iceg-morphology-classification-using-an-a...</td>\n",
       "      <td>Abstract Missing</td>\n",
       "      <td>ICEG Morphology Classification using an\\nAnalo...</td>\n",
       "    </tr>\n",
       "    <tr>\n",
       "      <th>8</th>\n",
       "      <td>1005</td>\n",
       "      <td>1994</td>\n",
       "      <td>Real-Time Control of a Tokamak Plasma Using Ne...</td>\n",
       "      <td>NaN</td>\n",
       "      <td>1005-real-time-control-of-a-tokamak-plasma-usi...</td>\n",
       "      <td>Abstract Missing</td>\n",
       "      <td>Real-Time Control of a Tokamak Plasma\\nUsing N...</td>\n",
       "    </tr>\n",
       "    <tr>\n",
       "      <th>9</th>\n",
       "      <td>1006</td>\n",
       "      <td>1994</td>\n",
       "      <td>Pulsestream Synapses with Non-Volatile Analogu...</td>\n",
       "      <td>NaN</td>\n",
       "      <td>1006-pulsestream-synapses-with-non-volatile-an...</td>\n",
       "      <td>Abstract Missing</td>\n",
       "      <td>Real-Time Control of a Tokamak Plasma\\nUsing N...</td>\n",
       "    </tr>\n",
       "    <tr>\n",
       "      <th>10</th>\n",
       "      <td>1007</td>\n",
       "      <td>1994</td>\n",
       "      <td>Learning to Play the Game of Chess</td>\n",
       "      <td>NaN</td>\n",
       "      <td>1007-learning-to-play-the-game-of-chess.pdf</td>\n",
       "      <td>Abstract Missing</td>\n",
       "      <td>Learning To Play the Game of Chess\\n\\nSebastia...</td>\n",
       "    </tr>\n",
       "    <tr>\n",
       "      <th>11</th>\n",
       "      <td>1008</td>\n",
       "      <td>1994</td>\n",
       "      <td>Multidimensional Scaling and Data Clustering</td>\n",
       "      <td>NaN</td>\n",
       "      <td>1008-multidimensional-scaling-and-data-cluster...</td>\n",
       "      <td>Abstract Missing</td>\n",
       "      <td>Multidimensional Scaling and Data Clustering\\n...</td>\n",
       "    </tr>\n",
       "    <tr>\n",
       "      <th>12</th>\n",
       "      <td>1009</td>\n",
       "      <td>1994</td>\n",
       "      <td>An experimental comparison of recurrent neural...</td>\n",
       "      <td>NaN</td>\n",
       "      <td>1009-an-experimental-comparison-of-recurrent-n...</td>\n",
       "      <td>Abstract Missing</td>\n",
       "      <td>An experimental comparison\\nof recurrent neura...</td>\n",
       "    </tr>\n",
       "    <tr>\n",
       "      <th>13</th>\n",
       "      <td>101</td>\n",
       "      <td>1988</td>\n",
       "      <td>Training Multilayer Perceptrons with the Exten...</td>\n",
       "      <td>NaN</td>\n",
       "      <td>101-training-multilayer-perceptrons-with-the-e...</td>\n",
       "      <td>Abstract Missing</td>\n",
       "      <td>133\\n\\nTRAINING MULTILAYER PERCEPTRONS WITH TH...</td>\n",
       "    </tr>\n",
       "    <tr>\n",
       "      <th>14</th>\n",
       "      <td>1010</td>\n",
       "      <td>1994</td>\n",
       "      <td>Interference in Learning Internal Models of In...</td>\n",
       "      <td>NaN</td>\n",
       "      <td>1010-interference-in-learning-internal-models-...</td>\n",
       "      <td>Abstract Missing</td>\n",
       "      <td>Interference in Learning Internal\\nModels of I...</td>\n",
       "    </tr>\n",
       "    <tr>\n",
       "      <th>15</th>\n",
       "      <td>1011</td>\n",
       "      <td>1994</td>\n",
       "      <td>Active Learning with Statistical Models</td>\n",
       "      <td>NaN</td>\n",
       "      <td>1011-active-learning-with-statistical-models.pdf</td>\n",
       "      <td>Abstract Missing</td>\n",
       "      <td>Active Learning with Statistical Models\\n\\nDav...</td>\n",
       "    </tr>\n",
       "    <tr>\n",
       "      <th>16</th>\n",
       "      <td>1012</td>\n",
       "      <td>1994</td>\n",
       "      <td>A Rapid Graph-based Method for Arbitrary Trans...</td>\n",
       "      <td>NaN</td>\n",
       "      <td>1012-a-rapid-graph-based-method-for-arbitrary-...</td>\n",
       "      <td>Abstract Missing</td>\n",
       "      <td>A Rapid Graph-based Method for\\nArbitrary Tran...</td>\n",
       "    </tr>\n",
       "    <tr>\n",
       "      <th>17</th>\n",
       "      <td>1013</td>\n",
       "      <td>1994</td>\n",
       "      <td>Ocular Dominance and Patterned Lateral Connect...</td>\n",
       "      <td>NaN</td>\n",
       "      <td>1013-ocular-dominance-and-patterned-lateral-co...</td>\n",
       "      <td>Abstract Missing</td>\n",
       "      <td>Ocular Dominance and Patterned Lateral\\nConnec...</td>\n",
       "    </tr>\n",
       "    <tr>\n",
       "      <th>18</th>\n",
       "      <td>1014</td>\n",
       "      <td>1994</td>\n",
       "      <td>Associative Decorrelation Dynamics: A Theory o...</td>\n",
       "      <td>NaN</td>\n",
       "      <td>1014-associative-decorrelation-dynamics-a-theo...</td>\n",
       "      <td>Abstract Missing</td>\n",
       "      <td>Associative Decorrelation Dynamics:\\nA Theory ...</td>\n",
       "    </tr>\n",
       "    <tr>\n",
       "      <th>19</th>\n",
       "      <td>1015</td>\n",
       "      <td>1994</td>\n",
       "      <td>A Connectionist Technique for Accelerated Text...</td>\n",
       "      <td>NaN</td>\n",
       "      <td>1015-a-connectionist-technique-for-accelerated...</td>\n",
       "      <td>Abstract Missing</td>\n",
       "      <td>A Connectionist Technique for Accelerated\\nTex...</td>\n",
       "    </tr>\n",
       "    <tr>\n",
       "      <th>20</th>\n",
       "      <td>1016</td>\n",
       "      <td>1994</td>\n",
       "      <td>Connectionist Speaker Normalization with Gener...</td>\n",
       "      <td>NaN</td>\n",
       "      <td>1016-connectionist-speaker-normalization-with-...</td>\n",
       "      <td>Abstract Missing</td>\n",
       "      <td>Connectionist Speaker Normalization\\nwith Gene...</td>\n",
       "    </tr>\n",
       "    <tr>\n",
       "      <th>21</th>\n",
       "      <td>1017</td>\n",
       "      <td>1994</td>\n",
       "      <td>A Critical Comparison of Models for Orientatio...</td>\n",
       "      <td>NaN</td>\n",
       "      <td>1017-a-critical-comparison-of-models-for-orien...</td>\n",
       "      <td>Abstract Missing</td>\n",
       "      <td>A Critical Comparison of Models for\\nOrientati...</td>\n",
       "    </tr>\n",
       "    <tr>\n",
       "      <th>22</th>\n",
       "      <td>1018</td>\n",
       "      <td>1994</td>\n",
       "      <td>Generalization in Reinforcement Learning: Safe...</td>\n",
       "      <td>NaN</td>\n",
       "      <td>1018-generalization-in-reinforcement-learning-...</td>\n",
       "      <td>Abstract Missing</td>\n",
       "      <td>Generalization in Reinforcement Learning:\\nSaf...</td>\n",
       "    </tr>\n",
       "    <tr>\n",
       "      <th>23</th>\n",
       "      <td>1019</td>\n",
       "      <td>1994</td>\n",
       "      <td>A Mixture Model System for Medical and Machine...</td>\n",
       "      <td>NaN</td>\n",
       "      <td>1019-a-mixture-model-system-for-medical-and-ma...</td>\n",
       "      <td>Abstract Missing</td>\n",
       "      <td>A Mixture Model System for Medical and\\nMachin...</td>\n",
       "    </tr>\n",
       "    <tr>\n",
       "      <th>24</th>\n",
       "      <td>102</td>\n",
       "      <td>1988</td>\n",
       "      <td>An Application of the Principle of Maximum Inf...</td>\n",
       "      <td>NaN</td>\n",
       "      <td>102-an-application-of-the-principle-of-maximum...</td>\n",
       "      <td>Abstract Missing</td>\n",
       "      <td>186\\n\\nAN APPLICATION OF THE PRINCIPLE OF\\nMAX...</td>\n",
       "    </tr>\n",
       "    <tr>\n",
       "      <th>25</th>\n",
       "      <td>1020</td>\n",
       "      <td>1994</td>\n",
       "      <td>A Computational Model of Prefrontal Cortex Fun...</td>\n",
       "      <td>NaN</td>\n",
       "      <td>1020-a-computational-model-of-prefrontal-corte...</td>\n",
       "      <td>Abstract Missing</td>\n",
       "      <td>A Computational Model of Prefrontal\\nCortex Fu...</td>\n",
       "    </tr>\n",
       "    <tr>\n",
       "      <th>26</th>\n",
       "      <td>1021</td>\n",
       "      <td>1995</td>\n",
       "      <td>The Gamma MLP for Speech Phoneme Recognition</td>\n",
       "      <td>NaN</td>\n",
       "      <td>1021-the-gamma-mlp-for-speech-phoneme-recognit...</td>\n",
       "      <td>Abstract Missing</td>\n",
       "      <td>The Gamma MLP for Speech Phoneme\\nRecognition\\...</td>\n",
       "    </tr>\n",
       "    <tr>\n",
       "      <th>27</th>\n",
       "      <td>1022</td>\n",
       "      <td>1995</td>\n",
       "      <td>A Multiscale Attentional Framework for Relaxat...</td>\n",
       "      <td>NaN</td>\n",
       "      <td>1022-a-multiscale-attentional-framework-for-re...</td>\n",
       "      <td>Abstract Missing</td>\n",
       "      <td>A Multiscale Attentional Framework for\\nRelaxa...</td>\n",
       "    </tr>\n",
       "    <tr>\n",
       "      <th>28</th>\n",
       "      <td>1023</td>\n",
       "      <td>1995</td>\n",
       "      <td>Correlated Neuronal Response: Time Scales and ...</td>\n",
       "      <td>NaN</td>\n",
       "      <td>1023-correlated-neuronal-response-time-scales-...</td>\n",
       "      <td>Abstract Missing</td>\n",
       "      <td>Correlated Neuronal Response:\\nTime Scales and...</td>\n",
       "    </tr>\n",
       "    <tr>\n",
       "      <th>29</th>\n",
       "      <td>1024</td>\n",
       "      <td>1995</td>\n",
       "      <td>Onset-based Sound Segmentation</td>\n",
       "      <td>NaN</td>\n",
       "      <td>1024-onset-based-sound-segmentation.pdf</td>\n",
       "      <td>Abstract Missing</td>\n",
       "      <td>Onset-based Sound Segmentation\\n\\nLeslie S. Sm...</td>\n",
       "    </tr>\n",
       "  </tbody>\n",
       "</table>\n",
       "</div>"
      ],
      "text/plain": [
       "      id  year                                              title event_type  \\\n",
       "0      1  1987  Self-Organization of Associative Database and ...        NaN   \n",
       "1     10  1987  A Mean Field Theory of Layer IV of Visual Cort...        NaN   \n",
       "2    100  1988  Storing Covariance by the Associative Long-Ter...        NaN   \n",
       "3   1000  1994  Bayesian Query Construction for Neural Network...        NaN   \n",
       "4   1001  1994  Neural Network Ensembles, Cross Validation, an...        NaN   \n",
       "5   1002  1994  Using a neural net to instantiate a deformable...        NaN   \n",
       "6   1003  1994           Plasticity-Mediated Competitive Learning        NaN   \n",
       "7   1004  1994  ICEG Morphology Classification using an Analog...        NaN   \n",
       "8   1005  1994  Real-Time Control of a Tokamak Plasma Using Ne...        NaN   \n",
       "9   1006  1994  Pulsestream Synapses with Non-Volatile Analogu...        NaN   \n",
       "10  1007  1994                 Learning to Play the Game of Chess        NaN   \n",
       "11  1008  1994       Multidimensional Scaling and Data Clustering        NaN   \n",
       "12  1009  1994  An experimental comparison of recurrent neural...        NaN   \n",
       "13   101  1988  Training Multilayer Perceptrons with the Exten...        NaN   \n",
       "14  1010  1994  Interference in Learning Internal Models of In...        NaN   \n",
       "15  1011  1994            Active Learning with Statistical Models        NaN   \n",
       "16  1012  1994  A Rapid Graph-based Method for Arbitrary Trans...        NaN   \n",
       "17  1013  1994  Ocular Dominance and Patterned Lateral Connect...        NaN   \n",
       "18  1014  1994  Associative Decorrelation Dynamics: A Theory o...        NaN   \n",
       "19  1015  1994  A Connectionist Technique for Accelerated Text...        NaN   \n",
       "20  1016  1994  Connectionist Speaker Normalization with Gener...        NaN   \n",
       "21  1017  1994  A Critical Comparison of Models for Orientatio...        NaN   \n",
       "22  1018  1994  Generalization in Reinforcement Learning: Safe...        NaN   \n",
       "23  1019  1994  A Mixture Model System for Medical and Machine...        NaN   \n",
       "24   102  1988  An Application of the Principle of Maximum Inf...        NaN   \n",
       "25  1020  1994  A Computational Model of Prefrontal Cortex Fun...        NaN   \n",
       "26  1021  1995       The Gamma MLP for Speech Phoneme Recognition        NaN   \n",
       "27  1022  1995  A Multiscale Attentional Framework for Relaxat...        NaN   \n",
       "28  1023  1995  Correlated Neuronal Response: Time Scales and ...        NaN   \n",
       "29  1024  1995                     Onset-based Sound Segmentation        NaN   \n",
       "\n",
       "                                             pdf_name          abstract  \\\n",
       "0   1-self-organization-of-associative-database-an...  Abstract Missing   \n",
       "1   10-a-mean-field-theory-of-layer-iv-of-visual-c...  Abstract Missing   \n",
       "2   100-storing-covariance-by-the-associative-long...  Abstract Missing   \n",
       "3   1000-bayesian-query-construction-for-neural-ne...  Abstract Missing   \n",
       "4   1001-neural-network-ensembles-cross-validation...  Abstract Missing   \n",
       "5   1002-using-a-neural-net-to-instantiate-a-defor...  Abstract Missing   \n",
       "6   1003-plasticity-mediated-competitive-learning.pdf  Abstract Missing   \n",
       "7   1004-iceg-morphology-classification-using-an-a...  Abstract Missing   \n",
       "8   1005-real-time-control-of-a-tokamak-plasma-usi...  Abstract Missing   \n",
       "9   1006-pulsestream-synapses-with-non-volatile-an...  Abstract Missing   \n",
       "10        1007-learning-to-play-the-game-of-chess.pdf  Abstract Missing   \n",
       "11  1008-multidimensional-scaling-and-data-cluster...  Abstract Missing   \n",
       "12  1009-an-experimental-comparison-of-recurrent-n...  Abstract Missing   \n",
       "13  101-training-multilayer-perceptrons-with-the-e...  Abstract Missing   \n",
       "14  1010-interference-in-learning-internal-models-...  Abstract Missing   \n",
       "15   1011-active-learning-with-statistical-models.pdf  Abstract Missing   \n",
       "16  1012-a-rapid-graph-based-method-for-arbitrary-...  Abstract Missing   \n",
       "17  1013-ocular-dominance-and-patterned-lateral-co...  Abstract Missing   \n",
       "18  1014-associative-decorrelation-dynamics-a-theo...  Abstract Missing   \n",
       "19  1015-a-connectionist-technique-for-accelerated...  Abstract Missing   \n",
       "20  1016-connectionist-speaker-normalization-with-...  Abstract Missing   \n",
       "21  1017-a-critical-comparison-of-models-for-orien...  Abstract Missing   \n",
       "22  1018-generalization-in-reinforcement-learning-...  Abstract Missing   \n",
       "23  1019-a-mixture-model-system-for-medical-and-ma...  Abstract Missing   \n",
       "24  102-an-application-of-the-principle-of-maximum...  Abstract Missing   \n",
       "25  1020-a-computational-model-of-prefrontal-corte...  Abstract Missing   \n",
       "26  1021-the-gamma-mlp-for-speech-phoneme-recognit...  Abstract Missing   \n",
       "27  1022-a-multiscale-attentional-framework-for-re...  Abstract Missing   \n",
       "28  1023-correlated-neuronal-response-time-scales-...  Abstract Missing   \n",
       "29            1024-onset-based-sound-segmentation.pdf  Abstract Missing   \n",
       "\n",
       "                                           paper_text  \n",
       "0   767\\n\\nSELF-ORGANIZATION OF ASSOCIATIVE DATABA...  \n",
       "1   683\\n\\nA MEAN FIELD THEORY OF LAYER IV OF VISU...  \n",
       "2   394\\n\\nSTORING COVARIANCE BY THE ASSOCIATIVE\\n...  \n",
       "3   Bayesian Query Construction for Neural\\nNetwor...  \n",
       "4   Neural Network Ensembles, Cross\\nValidation, a...  \n",
       "5   U sing a neural net to instantiate a\\ndeformab...  \n",
       "6   Plasticity-Mediated Competitive Learning\\n\\nTe...  \n",
       "7   ICEG Morphology Classification using an\\nAnalo...  \n",
       "8   Real-Time Control of a Tokamak Plasma\\nUsing N...  \n",
       "9   Real-Time Control of a Tokamak Plasma\\nUsing N...  \n",
       "10  Learning To Play the Game of Chess\\n\\nSebastia...  \n",
       "11  Multidimensional Scaling and Data Clustering\\n...  \n",
       "12  An experimental comparison\\nof recurrent neura...  \n",
       "13  133\\n\\nTRAINING MULTILAYER PERCEPTRONS WITH TH...  \n",
       "14  Interference in Learning Internal\\nModels of I...  \n",
       "15  Active Learning with Statistical Models\\n\\nDav...  \n",
       "16  A Rapid Graph-based Method for\\nArbitrary Tran...  \n",
       "17  Ocular Dominance and Patterned Lateral\\nConnec...  \n",
       "18  Associative Decorrelation Dynamics:\\nA Theory ...  \n",
       "19  A Connectionist Technique for Accelerated\\nTex...  \n",
       "20  Connectionist Speaker Normalization\\nwith Gene...  \n",
       "21  A Critical Comparison of Models for\\nOrientati...  \n",
       "22  Generalization in Reinforcement Learning:\\nSaf...  \n",
       "23  A Mixture Model System for Medical and\\nMachin...  \n",
       "24  186\\n\\nAN APPLICATION OF THE PRINCIPLE OF\\nMAX...  \n",
       "25  A Computational Model of Prefrontal\\nCortex Fu...  \n",
       "26  The Gamma MLP for Speech Phoneme\\nRecognition\\...  \n",
       "27  A Multiscale Attentional Framework for\\nRelaxa...  \n",
       "28  Correlated Neuronal Response:\\nTime Scales and...  \n",
       "29  Onset-based Sound Segmentation\\n\\nLeslie S. Sm...  "
      ]
     },
     "execution_count": 42,
     "metadata": {},
     "output_type": "execute_result"
    }
   ],
   "source": [
    "#nips_df = pd.read_csv(f'{PATH}/papers.csv')\n",
    "print(nips_df.shape)\n",
    "nips_df.head(30)"
   ]
  },
  {
   "cell_type": "code",
   "execution_count": 40,
   "metadata": {},
   "outputs": [
    {
     "data": {
      "text/plain": [
       "'A Mean Field Theory of Layer IV of Visual Cortex and Its Application to Artificial Neural Networks'"
      ]
     },
     "execution_count": 40,
     "metadata": {},
     "output_type": "execute_result"
    }
   ],
   "source": [
    "nips_df.title[1]"
   ]
  },
  {
   "cell_type": "code",
   "execution_count": 41,
   "metadata": {},
   "outputs": [
    {
     "data": {
      "text/plain": [
       "7241"
      ]
     },
     "execution_count": 41,
     "metadata": {},
     "output_type": "execute_result"
    }
   ],
   "source": [
    "len(nips_df.title.unique())"
   ]
  },
  {
   "cell_type": "code",
   "execution_count": 77,
   "metadata": {},
   "outputs": [
    {
     "data": {
      "text/plain": [
       "array(['Abstract Missing',\n",
       "       'Non-negative matrix factorization (NMF) has previously been shown to \\r\\nbe a useful decomposition for multivariate data. Two different multi- \\r\\nplicative algorithms for NMF are analyzed. They differ only slightly in \\r\\nthe multiplicative factor used in the update rules. One algorithm can be \\r\\nshown to minimize the conventional least squares error while the other \\r\\nminimizes the generalized Kullback-Leibler divergence. The monotonic \\r\\nconvergence of both algorithms can be proven using an auxiliary func- \\r\\ntion analogous to that used for proving convergence of the Expectation- \\r\\nMaximization algorithm. The algorithms can also be interpreted as diag- \\r\\nonally rescaled gradient descent, where the rescaling factor is optimally \\r\\nchosen to ensure convergence. ',\n",
       "       'Spike-triggered averaging techniques are effective for linear characterization of neural responses. But neurons exhibit important nonlinear behaviors, such as gain control, that are not captured by such analyses. We describe a spike-triggered covariance method for retrieving suppressive components of the gain control signal in a neuron. We demonstrate the method in simulation and on retinal ganglion cell data. Analysis of physiological data reveals significant suppressive axes and explains neural nonlinearities. This method should be applicable to other sensory areas and modalities.',\n",
       "       ...,\n",
       "       'Community detection, which focuses on clustering nodes or detecting communities in (mostly) a single network, is a problem of considerable practical interest and has received a great deal of attention in the  research community. While being able to cluster within a network is important, there are emerging needs to be able to \\\\emph{cluster multiple networks}. This is largely motivated by the routine collection of network data that are generated from potentially different populations. These networks may or may not have node correspondence. When node correspondence is present, we cluster networks by summarizing a network by its graphon estimate, whereas when node correspondence is not present, we propose a novel solution for clustering such networks by associating a computationally feasible feature vector to each network based on trace of powers of the adjacency matrix. We illustrate our methods using both simulated and real data sets, and theoretical justifications are provided in terms of consistency.',\n",
       "       \"We propose a general framework for interactively learning models, such as (binary or non-binary) classifiers, orderings/rankings of items, or clusterings of data points. Our framework is based on a generalization of Angluin's equivalence query model and Littlestone's online learning model: in each iteration, the algorithm proposes a model, and the user either accepts it or reveals a specific mistake in the proposal. The feedback is correct only with probability p > 1/2 (and adversarially incorrect with probability 1 - p), i.e., the algorithm must be able to learn in the presence of arbitrary noise. The algorithm's goal is to learn the ground truth model using few iterations.  Our general framework is based on a graph representation of the models and user feedback. To be able to learn efficiently, it is sufficient that there be a graph G whose nodes are the models, and (weighted) edges capture the user feedback, with the property that if s, s* are the proposed and target models, respectively, then any (correct) user feedback s' must lie on a shortest s-s* path in G. Under this one assumption, there is a natural algorithm, reminiscent of the Multiplicative Weights Update algorithm, which will efficiently learn s* even in the presence of noise in the user's feedback.  From this general result, we rederive with barely any extra effort classic results on learning of classifiers and a recent result on interactive clustering; in addition, we easily obtain new interactive learning algorithms for ordering/ranking.\",\n",
       "       'We consider maximum likelihood estimation of linear dynamical systems with generalized-linear observation models. Maximum likelihood is typically considered to be hard in this setting since latent states and transition parameters must be inferred jointly. Given that expectation-maximization does not scale and is prone to local minima, moment-matching approaches from the subspace identification literature have become standard, despite known statistical efficiency issues. In this paper, we instead reconsider likelihood maximization and develop an optimization based strategy for recovering the latent states and transition parameters. Key to the approach is a two-view reformulation of maximum likelihood estimation for linear dynamical systems that enables the use of global optimization algorithms for matrix factorization. We show that the proposed estimation strategy outperforms widely-used identification algorithms such as subspace identification methods, both in terms of accuracy and runtime.'],\n",
       "      dtype=object)"
      ]
     },
     "execution_count": 77,
     "metadata": {},
     "output_type": "execute_result"
    }
   ],
   "source": [
    "nips_df.abstract.unique()"
   ]
  },
  {
   "cell_type": "code",
   "execution_count": 4,
   "metadata": {},
   "outputs": [
    {
     "data": {
      "text/plain": [
       "3923"
      ]
     },
     "execution_count": 4,
     "metadata": {},
     "output_type": "execute_result"
    }
   ],
   "source": [
    "len(nips_df.abstract.unique())"
   ]
  },
  {
   "cell_type": "code",
   "execution_count": 56,
   "metadata": {},
   "outputs": [],
   "source": [
    "def get_abstract(paper_text):\n",
    "    if(paper_text!=None):\n",
    "        abstract_find=paper_text.find('ABSTRACT')\n",
    "        if(abstract_find!=-1):\n",
    "            return paper_text.split(\"ABSTRACT\")[1].split(\"INTRODUCTION\")[0].replace('\\n','')\n",
    "    else:\n",
    "        return None"
   ]
  },
  {
   "cell_type": "code",
   "execution_count": 57,
   "metadata": {},
   "outputs": [],
   "source": [
    "nips_df.abstract = nips_df.apply(lambda x: get_abstract(x.paper_text) if x.abstract == 'Abstract Missing' else x.abstract, axis=1)"
   ]
  },
  {
   "cell_type": "code",
   "execution_count": 58,
   "metadata": {},
   "outputs": [
    {
     "data": {
      "text/plain": [
       "'Canonical Correlation Analysis (CCA) is a widely used statistical tool with both well established theory and favorable performance for a wide range of machine learning problems. However, computing CCA for huge datasets can be very slow since it involves implementing QR decomposition or singular value decomposition of huge matrices. In this paper we introduce L-CCA, an iterative algorithm which can compute CCA fast on huge sparse datasets. Theory on both the asymptotic convergence and finite time accuracy of L-CCA are established. The experiments also show that L-CCA outperform other fast CCA approximation schemes on two real datasets.'"
      ]
     },
     "execution_count": 58,
     "metadata": {},
     "output_type": "execute_result"
    }
   ],
   "source": [
    "nips_df.abstract[5100]"
   ]
  },
  {
   "cell_type": "code",
   "execution_count": 59,
   "metadata": {},
   "outputs": [
    {
     "data": {
      "text/plain": [
       "4197"
      ]
     },
     "execution_count": 59,
     "metadata": {},
     "output_type": "execute_result"
    }
   ],
   "source": [
    "len(nips_df.abstract.unique())"
   ]
  },
  {
   "cell_type": "code",
   "execution_count": 64,
   "metadata": {},
   "outputs": [],
   "source": [
    "def get_conclusion(paper_text):\n",
    "    if(paper_text!=None):\n",
    "        CONCLUSION_find=paper_text.find('CONCLUSION')\n",
    "        if(CONCLUSION_find!=-1):\n",
    "            return paper_text.split(\"CONCLUSION\")[1].split(\"REFERENCES\")[0].replace('\\n','')\n",
    "    else:\n",
    "        return None"
   ]
  },
  {
   "cell_type": "code",
   "execution_count": 65,
   "metadata": {},
   "outputs": [],
   "source": [
    "nips_df[\"conclusion\"] = nips_df.paper_text.apply(get_conclusion)"
   ]
  },
  {
   "cell_type": "code",
   "execution_count": 66,
   "metadata": {},
   "outputs": [
    {
     "data": {
      "text/plain": [
       "'A method of self-organizing associative databases was proposed with the application torobot eyesight systems. The machine decomposes a global structure unknown into a set oflocal structures known and learns universally any input-output response. This frameworkof problem implies a wide application area other than the examples shown in this paper.A defect of the algorithm 3 of self-organization is that the tree is balanced well onlyfor a subclass of structures of f. A subject imposed us is to widen the class. A probablesolution is to abolish the addressing rule depending directly on values of d and, instead, toestablish another rule depending on the distribution function of values of d. It is now underinvestigation.'"
      ]
     },
     "execution_count": 66,
     "metadata": {},
     "output_type": "execute_result"
    }
   ],
   "source": [
    "nips_df.conclusion[0]"
   ]
  },
  {
   "cell_type": "code",
   "execution_count": 67,
   "metadata": {},
   "outputs": [
    {
     "data": {
      "text/plain": [
       "520"
      ]
     },
     "execution_count": 67,
     "metadata": {},
     "output_type": "execute_result"
    }
   ],
   "source": [
    "len(nips_df.conclusion.unique())"
   ]
  },
  {
   "cell_type": "code",
   "execution_count": 22,
   "metadata": {},
   "outputs": [],
   "source": [
    "nips_df.to_csv(f'{PATH}/better_nips.csv')"
   ]
  },
  {
   "cell_type": "code",
   "execution_count": 68,
   "metadata": {},
   "outputs": [
    {
     "data": {
      "text/html": [
       "<div>\n",
       "<style scoped>\n",
       "    .dataframe tbody tr th:only-of-type {\n",
       "        vertical-align: middle;\n",
       "    }\n",
       "\n",
       "    .dataframe tbody tr th {\n",
       "        vertical-align: top;\n",
       "    }\n",
       "\n",
       "    .dataframe thead th {\n",
       "        text-align: right;\n",
       "    }\n",
       "</style>\n",
       "<table border=\"1\" class=\"dataframe\">\n",
       "  <thead>\n",
       "    <tr style=\"text-align: right;\">\n",
       "      <th></th>\n",
       "      <th>id</th>\n",
       "      <th>year</th>\n",
       "      <th>title</th>\n",
       "      <th>event_type</th>\n",
       "      <th>pdf_name</th>\n",
       "      <th>abstract</th>\n",
       "      <th>paper_text</th>\n",
       "      <th>conclusion</th>\n",
       "    </tr>\n",
       "  </thead>\n",
       "  <tbody>\n",
       "    <tr>\n",
       "      <th>0</th>\n",
       "      <td>1</td>\n",
       "      <td>1987</td>\n",
       "      <td>Self-Organization of Associative Database and ...</td>\n",
       "      <td>NaN</td>\n",
       "      <td>1-self-organization-of-associative-database-an...</td>\n",
       "      <td>An efficient method of self-organizing associa...</td>\n",
       "      <td>767\\n\\nSELF-ORGANIZATION OF ASSOCIATIVE DATABA...</td>\n",
       "      <td>A method of self-organizing associative databa...</td>\n",
       "    </tr>\n",
       "    <tr>\n",
       "      <th>1</th>\n",
       "      <td>10</td>\n",
       "      <td>1987</td>\n",
       "      <td>A Mean Field Theory of Layer IV of Visual Cort...</td>\n",
       "      <td>NaN</td>\n",
       "      <td>10-a-mean-field-theory-of-layer-iv-of-visual-c...</td>\n",
       "      <td>A single cell theory for the development of se...</td>\n",
       "      <td>683\\n\\nA MEAN FIELD THEORY OF LAYER IV OF VISU...</td>\n",
       "      <td>None</td>\n",
       "    </tr>\n",
       "    <tr>\n",
       "      <th>2</th>\n",
       "      <td>100</td>\n",
       "      <td>1988</td>\n",
       "      <td>Storing Covariance by the Associative Long-Ter...</td>\n",
       "      <td>NaN</td>\n",
       "      <td>100-storing-covariance-by-the-associative-long...</td>\n",
       "      <td>In modeling studies or memory based on neural ...</td>\n",
       "      <td>394\\n\\nSTORING COVARIANCE BY THE ASSOCIATIVE\\n...</td>\n",
       "      <td>SThese experiments identify a novel fono of an...</td>\n",
       "    </tr>\n",
       "    <tr>\n",
       "      <th>3</th>\n",
       "      <td>1000</td>\n",
       "      <td>1994</td>\n",
       "      <td>Bayesian Query Construction for Neural Network...</td>\n",
       "      <td>NaN</td>\n",
       "      <td>1000-bayesian-query-construction-for-neural-ne...</td>\n",
       "      <td>None</td>\n",
       "      <td>Bayesian Query Construction for Neural\\nNetwor...</td>\n",
       "      <td>None</td>\n",
       "    </tr>\n",
       "    <tr>\n",
       "      <th>4</th>\n",
       "      <td>1001</td>\n",
       "      <td>1994</td>\n",
       "      <td>Neural Network Ensembles, Cross Validation, an...</td>\n",
       "      <td>NaN</td>\n",
       "      <td>1001-neural-network-ensembles-cross-validation...</td>\n",
       "      <td>None</td>\n",
       "      <td>Neural Network Ensembles, Cross\\nValidation, a...</td>\n",
       "      <td>The central idea in this paper was to show tha...</td>\n",
       "    </tr>\n",
       "    <tr>\n",
       "      <th>5</th>\n",
       "      <td>1002</td>\n",
       "      <td>1994</td>\n",
       "      <td>Using a neural net to instantiate a deformable...</td>\n",
       "      <td>NaN</td>\n",
       "      <td>1002-using-a-neural-net-to-instantiate-a-defor...</td>\n",
       "      <td>None</td>\n",
       "      <td>U sing a neural net to instantiate a\\ndeformab...</td>\n",
       "      <td>None</td>\n",
       "    </tr>\n",
       "    <tr>\n",
       "      <th>6</th>\n",
       "      <td>1003</td>\n",
       "      <td>1994</td>\n",
       "      <td>Plasticity-Mediated Competitive Learning</td>\n",
       "      <td>NaN</td>\n",
       "      <td>1003-plasticity-mediated-competitive-learning.pdf</td>\n",
       "      <td>None</td>\n",
       "      <td>Plasticity-Mediated Competitive Learning\\n\\nTe...</td>\n",
       "      <td>By using the derivative of a logistic activati...</td>\n",
       "    </tr>\n",
       "    <tr>\n",
       "      <th>7</th>\n",
       "      <td>1004</td>\n",
       "      <td>1994</td>\n",
       "      <td>ICEG Morphology Classification using an Analog...</td>\n",
       "      <td>NaN</td>\n",
       "      <td>1004-iceg-morphology-classification-using-an-a...</td>\n",
       "      <td>None</td>\n",
       "      <td>ICEG Morphology Classification using an\\nAnalo...</td>\n",
       "      <td>The successful classification of a difficult c...</td>\n",
       "    </tr>\n",
       "    <tr>\n",
       "      <th>8</th>\n",
       "      <td>1005</td>\n",
       "      <td>1994</td>\n",
       "      <td>Real-Time Control of a Tokamak Plasma Using Ne...</td>\n",
       "      <td>NaN</td>\n",
       "      <td>1005-real-time-control-of-a-tokamak-plasma-usi...</td>\n",
       "      <td>None</td>\n",
       "      <td>Real-Time Control of a Tokamak Plasma\\nUsing N...</td>\n",
       "      <td>None</td>\n",
       "    </tr>\n",
       "    <tr>\n",
       "      <th>9</th>\n",
       "      <td>1006</td>\n",
       "      <td>1994</td>\n",
       "      <td>Pulsestream Synapses with Non-Volatile Analogu...</td>\n",
       "      <td>NaN</td>\n",
       "      <td>1006-pulsestream-synapses-with-non-volatile-an...</td>\n",
       "      <td>None</td>\n",
       "      <td>Real-Time Control of a Tokamak Plasma\\nUsing N...</td>\n",
       "      <td>None</td>\n",
       "    </tr>\n",
       "  </tbody>\n",
       "</table>\n",
       "</div>"
      ],
      "text/plain": [
       "     id  year                                              title event_type  \\\n",
       "0     1  1987  Self-Organization of Associative Database and ...        NaN   \n",
       "1    10  1987  A Mean Field Theory of Layer IV of Visual Cort...        NaN   \n",
       "2   100  1988  Storing Covariance by the Associative Long-Ter...        NaN   \n",
       "3  1000  1994  Bayesian Query Construction for Neural Network...        NaN   \n",
       "4  1001  1994  Neural Network Ensembles, Cross Validation, an...        NaN   \n",
       "5  1002  1994  Using a neural net to instantiate a deformable...        NaN   \n",
       "6  1003  1994           Plasticity-Mediated Competitive Learning        NaN   \n",
       "7  1004  1994  ICEG Morphology Classification using an Analog...        NaN   \n",
       "8  1005  1994  Real-Time Control of a Tokamak Plasma Using Ne...        NaN   \n",
       "9  1006  1994  Pulsestream Synapses with Non-Volatile Analogu...        NaN   \n",
       "\n",
       "                                            pdf_name  \\\n",
       "0  1-self-organization-of-associative-database-an...   \n",
       "1  10-a-mean-field-theory-of-layer-iv-of-visual-c...   \n",
       "2  100-storing-covariance-by-the-associative-long...   \n",
       "3  1000-bayesian-query-construction-for-neural-ne...   \n",
       "4  1001-neural-network-ensembles-cross-validation...   \n",
       "5  1002-using-a-neural-net-to-instantiate-a-defor...   \n",
       "6  1003-plasticity-mediated-competitive-learning.pdf   \n",
       "7  1004-iceg-morphology-classification-using-an-a...   \n",
       "8  1005-real-time-control-of-a-tokamak-plasma-usi...   \n",
       "9  1006-pulsestream-synapses-with-non-volatile-an...   \n",
       "\n",
       "                                            abstract  \\\n",
       "0  An efficient method of self-organizing associa...   \n",
       "1  A single cell theory for the development of se...   \n",
       "2  In modeling studies or memory based on neural ...   \n",
       "3                                               None   \n",
       "4                                               None   \n",
       "5                                               None   \n",
       "6                                               None   \n",
       "7                                               None   \n",
       "8                                               None   \n",
       "9                                               None   \n",
       "\n",
       "                                          paper_text  \\\n",
       "0  767\\n\\nSELF-ORGANIZATION OF ASSOCIATIVE DATABA...   \n",
       "1  683\\n\\nA MEAN FIELD THEORY OF LAYER IV OF VISU...   \n",
       "2  394\\n\\nSTORING COVARIANCE BY THE ASSOCIATIVE\\n...   \n",
       "3  Bayesian Query Construction for Neural\\nNetwor...   \n",
       "4  Neural Network Ensembles, Cross\\nValidation, a...   \n",
       "5  U sing a neural net to instantiate a\\ndeformab...   \n",
       "6  Plasticity-Mediated Competitive Learning\\n\\nTe...   \n",
       "7  ICEG Morphology Classification using an\\nAnalo...   \n",
       "8  Real-Time Control of a Tokamak Plasma\\nUsing N...   \n",
       "9  Real-Time Control of a Tokamak Plasma\\nUsing N...   \n",
       "\n",
       "                                          conclusion  \n",
       "0  A method of self-organizing associative databa...  \n",
       "1                                               None  \n",
       "2  SThese experiments identify a novel fono of an...  \n",
       "3                                               None  \n",
       "4  The central idea in this paper was to show tha...  \n",
       "5                                               None  \n",
       "6  By using the derivative of a logistic activati...  \n",
       "7  The successful classification of a difficult c...  \n",
       "8                                               None  \n",
       "9                                               None  "
      ]
     },
     "execution_count": 68,
     "metadata": {},
     "output_type": "execute_result"
    }
   ],
   "source": [
    "nips_df.head(10)"
   ]
  },
  {
   "cell_type": "code",
   "execution_count": 84,
   "metadata": {},
   "outputs": [
    {
     "data": {
      "text/plain": [
       "7241"
      ]
     },
     "execution_count": 84,
     "metadata": {},
     "output_type": "execute_result"
    }
   ],
   "source": [
    "def get_txt(df):\n",
    "    return ' <SUMM> ' + df.abstract + ' <TITLE> ' + df.title\n",
    "nips_df['txt'] = get_txt(nips_df)\n",
    "n=len(nips_df); n"
   ]
  },
  {
   "cell_type": "code",
   "execution_count": 93,
   "metadata": {},
   "outputs": [
    {
     "data": {
      "text/plain": [
       "(4198,)"
      ]
     },
     "execution_count": 93,
     "metadata": {},
     "output_type": "execute_result"
    }
   ],
   "source": [
    "nips_txt=nips_df['txt'].dropna()\n",
    "nips_txt.shape"
   ]
  },
  {
   "cell_type": "code",
   "execution_count": 94,
   "metadata": {},
   "outputs": [
    {
     "data": {
      "text/plain": [
       "0      <SUMM> An efficient method of self-organizing...\n",
       "1      <SUMM> A single cell theory for the developme...\n",
       "2      <SUMM> In modeling studies or memory based on...\n",
       "13     <SUMM> A large fraction of recent work in art...\n",
       "24     <SUMM> This paper addresses the problem of de...\n",
       "Name: txt, dtype: object"
      ]
     },
     "execution_count": 94,
     "metadata": {},
     "output_type": "execute_result"
    }
   ],
   "source": [
    "nips_txt.head()"
   ]
  },
  {
   "cell_type": "code",
   "execution_count": 97,
   "metadata": {},
   "outputs": [
    {
     "data": {
      "text/plain": [
       "pandas.core.series.Series"
      ]
     },
     "execution_count": 97,
     "metadata": {},
     "output_type": "execute_result"
    }
   ],
   "source": [
    "type(nips_txt)"
   ]
  },
  {
   "cell_type": "code",
   "execution_count": 101,
   "metadata": {},
   "outputs": [],
   "source": [
    "for (i,(_,r)) in enumerate(nips_txt.iteritems()):\n",
    "    dset = 'trn' if random.random()>0.1 else 'val'\n",
    "    f=open(f'{PATH}/all/{dset}/{i}.txt', 'w')\n",
    "    #print(r)\n",
    "    f.write(r)"
   ]
  },
  {
   "cell_type": "code",
   "execution_count": 78,
   "metadata": {},
   "outputs": [],
   "source": [
    "os.makedirs(f'{PATH}/trn/yes', exist_ok=True)\n",
    "os.makedirs(f'{PATH}/val/yes', exist_ok=True)\n",
    "os.makedirs(f'{PATH}/trn/no', exist_ok=True)\n",
    "os.makedirs(f'{PATH}/val/no', exist_ok=True)\n",
    "os.makedirs(f'{PATH}/all/trn', exist_ok=True)\n",
    "os.makedirs(f'{PATH}/all/val', exist_ok=True)\n",
    "os.makedirs(f'{PATH}/models', exist_ok=True)"
   ]
  },
  {
   "cell_type": "markdown",
   "metadata": {
    "heading_collapsed": true
   },
   "source": [
    "### load data into datatset"
   ]
  },
  {
   "cell_type": "code",
   "execution_count": 11,
   "metadata": {
    "hidden": true
   },
   "outputs": [
    {
     "name": "stdout",
     "output_type": "stream",
     "text": [
      "726222\r\n"
     ]
    }
   ],
   "source": [
    "!find {PATH}/all/trn -name '*.txt' | xargs cat | wc -w"
   ]
  },
  {
   "cell_type": "code",
   "execution_count": 12,
   "metadata": {
    "hidden": true
   },
   "outputs": [
    {
     "name": "stdout",
     "output_type": "stream",
     "text": [
      "72841\r\n"
     ]
    }
   ],
   "source": [
    "!find {PATH}/all/val -name '*.txt' | xargs cat | wc -w"
   ]
  },
  {
   "cell_type": "code",
   "execution_count": 3,
   "metadata": {
    "hidden": true
   },
   "outputs": [],
   "source": [
    "TRN_PATH = 'trn'\n",
    "VAL_PATH = 'val'\n"
   ]
  },
  {
   "cell_type": "code",
   "execution_count": 4,
   "metadata": {
    "hidden": true
   },
   "outputs": [],
   "source": [
    "from spacy.symbols import ORTH\n",
    "\n",
    "my_tok = spacy.load('en')\n",
    "\n",
    "my_tok.tokenizer.add_special_case('<SUMM>', [{ORTH: '<SUMM>'}])\n",
    "my_tok.tokenizer.add_special_case('<TITLE>', [{ORTH: '<TITLE>'}])\n",
    "my_tok.tokenizer.add_special_case('<BR />', [{ORTH: '<BR />'}])\n",
    "my_tok.tokenizer.add_special_case('<BR>', [{ORTH: '<BR>'}])\n",
    "\n",
    "def my_spacy_tok(x): return [tok.text for tok in my_tok.tokenizer(x)]"
   ]
  },
  {
   "cell_type": "code",
   "execution_count": 5,
   "metadata": {
    "hidden": true
   },
   "outputs": [],
   "source": [
    "TEXT = data.Field(lower=True, tokenize=my_spacy_tok)\n",
    "FILES = dict(train=TRN_PATH, validation=VAL_PATH, test=VAL_PATH)"
   ]
  },
  {
   "cell_type": "code",
   "execution_count": 9,
   "metadata": {
    "hidden": true
   },
   "outputs": [],
   "source": [
    "from fastai.nlp import *\n",
    "md = LanguageModelData.from_text_files(f'{PATH}/all/', TEXT, **FILES, bs=64, bptt=70, min_freq=10)"
   ]
  },
  {
   "cell_type": "code",
   "execution_count": 41,
   "metadata": {
    "hidden": true
   },
   "outputs": [],
   "source": [
    "pickle.dump(TEXT, open(f'{PATH}/models/TEXT.pkl','wb'))"
   ]
  },
  {
   "cell_type": "code",
   "execution_count": 6,
   "metadata": {
    "hidden": true
   },
   "outputs": [],
   "source": [
    "TEXT=pickle.load(open(f'{PATH}/models/TEXT.pkl','rb'))"
   ]
  },
  {
   "cell_type": "code",
   "execution_count": 10,
   "metadata": {
    "hidden": true
   },
   "outputs": [
    {
     "data": {
      "text/plain": [
       "(192, 4832, 1, 865365)"
      ]
     },
     "execution_count": 10,
     "metadata": {},
     "output_type": "execute_result"
    }
   ],
   "source": [
    "len(md.trn_dl), md.nt, len(md.trn_ds), len(md.trn_ds[0].text)"
   ]
  },
  {
   "cell_type": "code",
   "execution_count": 8,
   "metadata": {
    "hidden": true
   },
   "outputs": [
    {
     "data": {
      "text/plain": [
       "['<unk>', '<pad>', 'the', ',', '.', 'of', 'a', '-', 'and', 'to', 'in', 'we']"
      ]
     },
     "execution_count": 8,
     "metadata": {},
     "output_type": "execute_result"
    }
   ],
   "source": [
    "TEXT.vocab.itos[:12]"
   ]
  },
  {
   "cell_type": "code",
   "execution_count": 11,
   "metadata": {
    "hidden": true
   },
   "outputs": [
    {
     "data": {
      "text/plain": [
       "'  <summ> in real - world action recognition problems , low - level features can not adequately characterize the rich spatial - temporal structures in action videos . in this work , we encode actions based on attributes that describes actions as high - level concepts : \\\\textit{e.g . } , jump forward and motion in the air . we base our analysis on two types of action attributes . one type of action attributes is generated by humans . the second type is data - driven attributes , which is learned from data using dictionary learning methods . attribute - based representation may exhibit high variance due to noisy and redundant attributes . we propose a discriminative and compact attribute - based representation by selecting a subset of discriminative attributes from a large attribute set . three attribute selection criteria are proposed and formulated as a submodular optimization problem'"
      ]
     },
     "execution_count": 11,
     "metadata": {},
     "output_type": "execute_result"
    }
   ],
   "source": [
    "' '.join(md.trn_ds[0].text[:150])\n"
   ]
  },
  {
   "cell_type": "code",
   "execution_count": 12,
   "metadata": {
    "hidden": true
   },
   "outputs": [
    {
     "data": {
      "text/plain": [
       "Variable containing:\n",
       "   15\n",
       "   27\n",
       "   10\n",
       "  106\n",
       "    7\n",
       "  247\n",
       "  377\n",
       "  232\n",
       "   79\n",
       "    3\n",
       "  169\n",
       "    7\n",
       "[torch.cuda.LongTensor of size 12x1 (GPU 0)]"
      ]
     },
     "execution_count": 12,
     "metadata": {},
     "output_type": "execute_result"
    }
   ],
   "source": [
    "TEXT.numericalize([md.trn_ds[0].text[:12]])"
   ]
  },
  {
   "cell_type": "code",
   "execution_count": 14,
   "metadata": {
    "hidden": true
   },
   "outputs": [
    {
     "data": {
      "text/plain": [
       "(Variable containing:\n",
       "    15   398   397  ...      2     5     6\n",
       "    27    37   855  ...    449    29   617\n",
       "    10  3301     3  ...    384    68    32\n",
       "        ...          ⋱          ...       \n",
       "   611  1992  2042  ...      8   732  1664\n",
       "     5   531   144  ...    541    37   193\n",
       "   377   941   313  ...   4744     0     3\n",
       " [torch.cuda.LongTensor of size 74x64 (GPU 0)], Variable containing:\n",
       "    27\n",
       "    37\n",
       "   855\n",
       "   ⋮  \n",
       "    96\n",
       "   478\n",
       "     2\n",
       " [torch.cuda.LongTensor of size 4736 (GPU 0)])"
      ]
     },
     "execution_count": 14,
     "metadata": {},
     "output_type": "execute_result"
    }
   ],
   "source": [
    "next(iter(md.trn_dl))"
   ]
  },
  {
   "cell_type": "code",
   "execution_count": 15,
   "metadata": {
    "hidden": true
   },
   "outputs": [],
   "source": [
    "x,y=next(iter(md.trn_dl))"
   ]
  },
  {
   "cell_type": "code",
   "execution_count": 16,
   "metadata": {
    "hidden": true
   },
   "outputs": [],
   "source": [
    "em_sz = 200\n",
    "nh = 500\n",
    "nl = 3\n",
    "opt_fn = partial(optim.Adam, betas=(0.7, 0.99))"
   ]
  },
  {
   "cell_type": "code",
   "execution_count": 17,
   "metadata": {
    "hidden": true
   },
   "outputs": [],
   "source": [
    "from fastai.learner import *\n",
    "learner = md.get_model(opt_fn, em_sz, nh, nl,\n",
    "    dropout=0.05, dropouth=0.1, dropouti=0.05, dropoute=0.02, wdrop=0.2)\n",
    "learner.reg_fn = partial(seq2seq_reg, alpha=2, beta=1)\n",
    "learner.clip=0.3"
   ]
  },
  {
   "cell_type": "code",
   "execution_count": 18,
   "metadata": {
    "hidden": true
   },
   "outputs": [
    {
     "data": {
      "application/vnd.jupyter.widget-view+json": {
       "model_id": "31008a3e821f4c0ea7e87ed336b8429b",
       "version_major": 2,
       "version_minor": 0
      },
      "text/plain": [
       "HBox(children=(IntProgress(value=0, description='Epoch', max=1), HTML(value='')))"
      ]
     },
     "metadata": {},
     "output_type": "display_data"
    },
    {
     "name": "stdout",
     "output_type": "stream",
     "text": [
      "epoch      trn_loss   val_loss                              \n",
      "    0      5.349139   5.0534    \n",
      "\n"
     ]
    },
    {
     "data": {
      "text/plain": [
       "[array([5.0534])]"
      ]
     },
     "execution_count": 18,
     "metadata": {},
     "output_type": "execute_result"
    }
   ],
   "source": [
    "learner.fit(3e-3, 1, wds=1e-6)\n"
   ]
  },
  {
   "cell_type": "code",
   "execution_count": 19,
   "metadata": {
    "hidden": true
   },
   "outputs": [
    {
     "data": {
      "application/vnd.jupyter.widget-view+json": {
       "model_id": "c45e0494a53d409891b09d443245df12",
       "version_major": 2,
       "version_minor": 0
      },
      "text/plain": [
       "HBox(children=(IntProgress(value=0, description='Epoch', max=7), HTML(value='')))"
      ]
     },
     "metadata": {},
     "output_type": "display_data"
    },
    {
     "name": "stdout",
     "output_type": "stream",
     "text": [
      "epoch      trn_loss   val_loss                              \n",
      "    0      4.855386   4.748243  \n",
      "    1      4.634948   4.496106                              \n",
      "    2      4.453592   4.413718                              \n",
      "    3      4.402725   4.304138                              \n",
      "    4      4.247719   4.204061                              \n",
      "    5      4.115151   4.154432                              \n",
      "    6      4.060921   4.142037                              \n",
      "\n"
     ]
    },
    {
     "data": {
      "text/plain": [
       "[array([4.14204])]"
      ]
     },
     "execution_count": 19,
     "metadata": {},
     "output_type": "execute_result"
    }
   ],
   "source": [
    "learner.fit(3e-3, 3, wds=1e-6, cycle_len=1, cycle_mult=2)\n"
   ]
  },
  {
   "cell_type": "code",
   "execution_count": 20,
   "metadata": {
    "hidden": true
   },
   "outputs": [],
   "source": [
    "learner.save_encoder('adam2_enc')\n"
   ]
  },
  {
   "cell_type": "code",
   "execution_count": 21,
   "metadata": {
    "hidden": true
   },
   "outputs": [
    {
     "data": {
      "application/vnd.jupyter.widget-view+json": {
       "model_id": "2ce65a92207748d29c8175019b6bf83c",
       "version_major": 2,
       "version_minor": 0
      },
      "text/plain": [
       "HBox(children=(IntProgress(value=0, description='Epoch', max=50), HTML(value='')))"
      ]
     },
     "metadata": {},
     "output_type": "display_data"
    },
    {
     "name": "stdout",
     "output_type": "stream",
     "text": [
      "epoch      trn_loss   val_loss                              \n",
      "    0      4.141044   4.149134  \n",
      "    1      4.03629    4.083334                              \n",
      "    2      3.930122   4.055129                              \n",
      "    3      3.851135   4.036102                              \n",
      "    4      3.800695   4.036169                              \n",
      "    5      3.929968   4.044878                              \n",
      "    6      3.847969   4.021999                              \n",
      "    7      3.75177    4.00745                               \n",
      "    8      3.684062   3.997845                              \n",
      "    9      3.63479    4.004062                              \n",
      "    10     3.785001   4.01344                               \n",
      "    11     3.72564    3.99274                               \n",
      "    12     3.6807     3.978439                              \n",
      "    13     3.562742   3.978908                              \n",
      "    14     3.511159   3.998276                              \n",
      "    15     3.678425   3.998196                              \n",
      "    16     3.611096   4.000769                              \n",
      "    17     3.547022   3.979317                              \n",
      "    18     3.456696   3.992325                              \n",
      "    19     3.427462   4.003667                              \n",
      "    20     3.578216   4.005953                              \n",
      "    21     3.54483    4.0                                   \n",
      "    22     3.492314   3.986431                              \n",
      "    23     3.390928   3.997896                              \n",
      "    24     3.342492   4.024019                              \n",
      "    25     3.53185    4.009953                              \n",
      "    26     3.477521   4.009077                              \n",
      "    27     3.435016   3.981169                              \n",
      "    28     3.327949   4.010939                              \n",
      "    29     3.35331    4.032174                              \n",
      "    30     3.488027   4.002782                              \n",
      "    31     3.445071   3.994291                              \n",
      "    32     3.353315   4.011057                              \n",
      "    33     3.276161   4.020429                              \n",
      "    34     3.250265   4.055063                              \n",
      "    35     3.425074   4.024166                              \n",
      "    36     3.369422   4.016781                              \n",
      "    37     3.3016     4.023226                              \n",
      "    38     3.276856   4.029486                              \n",
      "    39     3.207293   4.069631                              \n",
      "    40     3.398954   4.015252                              \n",
      "    41     3.390662   3.984533                              \n",
      "    42     3.278155   4.026015                              \n",
      "    43     3.213602   4.027774                              \n",
      "    44     3.183477   4.081968                              \n",
      "    45     3.357131   4.028724                              \n",
      "    46     3.303529   4.031791                              \n",
      "    47     3.216191   4.032504                              \n",
      "    48     3.253292   4.033285                              \n",
      "    49     3.145729   4.084809                              \n",
      "\n"
     ]
    },
    {
     "data": {
      "text/plain": [
       "[array([4.08481])]"
      ]
     },
     "execution_count": 21,
     "metadata": {},
     "output_type": "execute_result"
    }
   ],
   "source": [
    "learner.fit(3e-3, 10, wds=1e-6, cycle_len=5, cycle_save_name='adam3_10')\n"
   ]
  },
  {
   "cell_type": "code",
   "execution_count": 22,
   "metadata": {
    "hidden": true
   },
   "outputs": [],
   "source": [
    "learner.save_encoder('adam3_10_enc')"
   ]
  },
  {
   "cell_type": "code",
   "execution_count": null,
   "metadata": {
    "hidden": true
   },
   "outputs": [],
   "source": [
    "learner.fit(3e-3, 8, wds=1e-6, cycle_len=10, cycle_save_name='adam3_5')\n",
    "learner.save_encoder('adam3_20_enc')\n",
    "learner.save('adam3_20')\n"
   ]
  },
  {
   "cell_type": "markdown",
   "metadata": {},
   "source": [
    "### Test"
   ]
  },
  {
   "cell_type": "code",
   "execution_count": 24,
   "metadata": {},
   "outputs": [],
   "source": [
    "def proc_str(s): return TEXT.preprocess(TEXT.tokenize(s))\n",
    "def num_str(s): return TEXT.numericalize([proc_str(s)])\n"
   ]
  },
  {
   "cell_type": "code",
   "execution_count": 25,
   "metadata": {},
   "outputs": [],
   "source": [
    "m=learner.model"
   ]
  },
  {
   "cell_type": "code",
   "execution_count": 28,
   "metadata": {},
   "outputs": [],
   "source": [
    "def sample_model(m, s, l=50):\n",
    "    t = num_str(s)\n",
    "    m[0].bs=1\n",
    "    m.eval()\n",
    "    m.reset()\n",
    "    res,*_ = m(t)\n",
    "    print('...', end='')\n",
    "\n",
    "    for i in range(l):\n",
    "        n=res[-1].topk(2)[1]\n",
    "        n = n[1] if n.data[0]==0 else n[0]\n",
    "        word = TEXT.vocab.itos[n.data[0]]\n",
    "        print(word, end=' ')\n",
    "        if word=='<eos>': break\n",
    "        res,*_ = m(n[0].unsqueeze(0))\n",
    "\n",
    "    m[0].bs=batch_sz"
   ]
  },
  {
   "cell_type": "code",
   "execution_count": 29,
   "metadata": {},
   "outputs": [
    {
     "name": "stdout",
     "output_type": "stream",
     "text": [
      "...neural network architecture is proposed . the network is trained to be a \" real world \" of the input data , and the network is trained to be a \" real world \" of the input data . the network is trained to be a \" real world \" "
     ]
    }
   ],
   "source": [
    "sample_model(m,\"<SUMM> An efficient method of self-organizing\")"
   ]
  },
  {
   "cell_type": "code",
   "execution_count": 30,
   "metadata": {},
   "outputs": [
    {
     "name": "stdout",
     "output_type": "stream",
     "text": [
      "...planning <eos> "
     ]
    }
   ],
   "source": [
    "sample_model(m,\"<TITLE> Bayesian Query Construction for Neural Network\")"
   ]
  },
  {
   "cell_type": "code",
   "execution_count": 31,
   "metadata": {},
   "outputs": [
    {
     "name": "stdout",
     "output_type": "stream",
     "text": [
      "...to be a powerful and powerful tool for modeling the structure of data in a latent space .   in this paper , we propose a novel approach to learning the parameters of a mixture model , where the model is able to learn a sparse gaussian process ( gp "
     ]
    }
   ],
   "source": [
    "sample_model(m,\"<SUMM> Non-negative matrix factorization (NMF) has previously been shown\")"
   ]
  },
  {
   "cell_type": "code",
   "execution_count": 32,
   "metadata": {},
   "outputs": [
    {
     "name": "stdout",
     "output_type": "stream",
     "text": [
      ".... we present a novel approach to learning the parameters of the model using a gaussian process prior over the posterior distribution . we show that the model can be used to learn the parameters of a markov chain , and we show that the resulting model can be used "
     ]
    }
   ],
   "source": [
    "sample_model(m,\"<SUMM> Spike-triggered averaging techniques are effective for linear characterization of neural responses. But neurons exhibit important nonlinear behaviors, such as gain control, that are not captured by such analyses\")"
   ]
  },
  {
   "cell_type": "code",
   "execution_count": 34,
   "metadata": {},
   "outputs": [
    {
     "name": "stdout",
     "output_type": "stream",
     "text": [
      "...- validation analysis of neural networks <eos> "
     ]
    }
   ],
   "source": [
    "sample_model(m,\"<TITLE> Neural Network Ensembles, cross \")"
   ]
  },
  {
   "cell_type": "code",
   "execution_count": 35,
   "metadata": {},
   "outputs": [
    {
     "name": "stdout",
     "output_type": "stream",
     "text": [
      "...with application to brain activity analysis <eos> "
     ]
    }
   ],
   "source": [
    "sample_model(m,\"<TITLE> Convolutional Neural Network , \")"
   ]
  },
  {
   "cell_type": "code",
   "execution_count": 36,
   "metadata": {},
   "outputs": [
    {
     "name": "stdout",
     "output_type": "stream",
     "text": [
      "...- known models in a variety of applications , such as text classification and text classification , is often limited by the lack of a number of methods to train the models . in this paper , we propose a novel approach to learning the parameters of a neural network "
     ]
    }
   ],
   "source": [
    "sample_model(m,\"<SUMM> storing-covariance-by-the-associative\")"
   ]
  },
  {
   "cell_type": "code",
   "execution_count": 45,
   "metadata": {},
   "outputs": [
    {
     "name": "stdout",
     "output_type": "stream",
     "text": [
      "...a unified theory for high - dimensional neural networks <eos> "
     ]
    }
   ],
   "source": [
    "sample_model(m,\"<TITLE> Correlated Neuronal Response:\")"
   ]
  },
  {
   "cell_type": "code",
   "execution_count": 46,
   "metadata": {},
   "outputs": [
    {
     "name": "stdout",
     "output_type": "stream",
     "text": [
      "...: a unified approach to stochastic optimization <eos> "
     ]
    }
   ],
   "source": [
    "sample_model(m,\"<TITLE> Learning to Play the Game of \")"
   ]
  },
  {
   "cell_type": "code",
   "execution_count": null,
   "metadata": {},
   "outputs": [],
   "source": []
  }
 ],
 "metadata": {
  "kernelspec": {
   "display_name": "Python [default]",
   "language": "python",
   "name": "python3"
  },
  "language_info": {
   "codemirror_mode": {
    "name": "ipython",
    "version": 3
   },
   "file_extension": ".py",
   "mimetype": "text/x-python",
   "name": "python",
   "nbconvert_exporter": "python",
   "pygments_lexer": "ipython3",
   "version": "3.6.5"
  }
 },
 "nbformat": 4,
 "nbformat_minor": 2
}
